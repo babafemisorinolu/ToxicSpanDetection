{
  "cells": [
    {
      "cell_type": "markdown",
      "metadata": {
        "id": "-WeCeITXoxLf"
      },
      "source": [
        "# CS 584 Final Project -- Toxic Span Detection\n",
        "\n",
        "#### Name: (BABAFEMI SORINOLU)\n",
        "#### Stevens ID: (10477662)"
      ]
    },
    {
      "cell_type": "code",
      "execution_count": 1,
      "metadata": {
        "id": "sQVw6wZuV9oE"
      },
      "outputs": [],
      "source": [
        "# !pip install -r requirements.txt"
      ]
    },
    {
      "cell_type": "code",
      "execution_count": 2,
      "metadata": {
        "colab": {
          "base_uri": "https://localhost:8080/",
          "height": 1000
        },
        "execution": {
          "iopub.execute_input": "2022-11-30T14:34:26.494384Z",
          "iopub.status.busy": "2022-11-30T14:34:26.493851Z",
          "iopub.status.idle": "2022-11-30T14:36:33.196895Z",
          "shell.execute_reply": "2022-11-30T14:36:33.195324Z",
          "shell.execute_reply.started": "2022-11-30T14:34:26.494278Z"
        },
        "id": "tnKdqckn2m7J",
        "outputId": "c7f158a0-f982-4160-a059-3febcf7e04d3",
        "trusted": true
      },
      "outputs": [
        {
          "name": "stdout",
          "output_type": "stream",
          "text": [
            "Looking in indexes: https://pypi.org/simple, https://us-python.pkg.dev/colab-wheels/public/simple/\n",
            "Requirement already satisfied: torch in /usr/local/lib/python3.8/dist-packages (1.13.0+cu116)\n",
            "Requirement already satisfied: typing-extensions in /usr/local/lib/python3.8/dist-packages (from torch) (4.4.0)\n",
            "Looking in indexes: https://pypi.org/simple, https://us-python.pkg.dev/colab-wheels/public/simple/\n",
            "Requirement already satisfied: gensim in /usr/local/lib/python3.8/dist-packages (4.3.0)\n",
            "Requirement already satisfied: numpy>=1.18.5 in /usr/local/lib/python3.8/dist-packages (from gensim) (1.24.0)\n",
            "Requirement already satisfied: smart-open>=1.8.1 in /usr/local/lib/python3.8/dist-packages (from gensim) (6.3.0)\n",
            "Requirement already satisfied: scipy>=1.7.0 in /usr/local/lib/python3.8/dist-packages (from gensim) (1.7.3)\n",
            "Requirement already satisfied: FuzzyTM>=0.4.0 in /usr/local/lib/python3.8/dist-packages (from gensim) (2.0.5)\n",
            "Requirement already satisfied: pyfume in /usr/local/lib/python3.8/dist-packages (from FuzzyTM>=0.4.0->gensim) (0.2.25)\n",
            "Requirement already satisfied: pandas in /usr/local/lib/python3.8/dist-packages (from FuzzyTM>=0.4.0->gensim) (1.3.5)\n",
            "Collecting numpy>=1.18.5\n",
            "  Downloading numpy-1.22.4-cp38-cp38-manylinux_2_17_x86_64.manylinux2014_x86_64.whl (16.9 MB)\n",
            "\u001b[K     |████████████████████████████████| 16.9 MB 14.3 MB/s \n",
            "\u001b[?25hRequirement already satisfied: pytz>=2017.3 in /usr/local/lib/python3.8/dist-packages (from pandas->FuzzyTM>=0.4.0->gensim) (2022.6)\n",
            "Requirement already satisfied: python-dateutil>=2.7.3 in /usr/local/lib/python3.8/dist-packages (from pandas->FuzzyTM>=0.4.0->gensim) (2.8.2)\n",
            "Requirement already satisfied: six>=1.5 in /usr/local/lib/python3.8/dist-packages (from python-dateutil>=2.7.3->pandas->FuzzyTM>=0.4.0->gensim) (1.15.0)\n",
            "Requirement already satisfied: fst-pso in /usr/local/lib/python3.8/dist-packages (from pyfume->FuzzyTM>=0.4.0->gensim) (1.8.1)\n",
            "Requirement already satisfied: simpful in /usr/local/lib/python3.8/dist-packages (from pyfume->FuzzyTM>=0.4.0->gensim) (2.9.0)\n",
            "Requirement already satisfied: miniful in /usr/local/lib/python3.8/dist-packages (from fst-pso->pyfume->FuzzyTM>=0.4.0->gensim) (0.0.6)\n",
            "Requirement already satisfied: requests in /usr/local/lib/python3.8/dist-packages (from simpful->pyfume->FuzzyTM>=0.4.0->gensim) (2.23.0)\n",
            "Requirement already satisfied: idna<3,>=2.5 in /usr/local/lib/python3.8/dist-packages (from requests->simpful->pyfume->FuzzyTM>=0.4.0->gensim) (2.10)\n",
            "Requirement already satisfied: chardet<4,>=3.0.2 in /usr/local/lib/python3.8/dist-packages (from requests->simpful->pyfume->FuzzyTM>=0.4.0->gensim) (3.0.4)\n",
            "Requirement already satisfied: certifi>=2017.4.17 in /usr/local/lib/python3.8/dist-packages (from requests->simpful->pyfume->FuzzyTM>=0.4.0->gensim) (2022.12.7)\n",
            "Requirement already satisfied: urllib3!=1.25.0,!=1.25.1,<1.26,>=1.21.1 in /usr/local/lib/python3.8/dist-packages (from requests->simpful->pyfume->FuzzyTM>=0.4.0->gensim) (1.24.3)\n",
            "Installing collected packages: numpy\n",
            "  Attempting uninstall: numpy\n",
            "    Found existing installation: numpy 1.24.0\n",
            "    Uninstalling numpy-1.24.0:\n",
            "      Successfully uninstalled numpy-1.24.0\n",
            "Successfully installed numpy-1.22.4\n"
          ]
        },
        {
          "data": {
            "application/vnd.colab-display-data+json": {
              "pip_warning": {
                "packages": [
                  "numpy"
                ]
              }
            }
          },
          "metadata": {},
          "output_type": "display_data"
        },
        {
          "name": "stdout",
          "output_type": "stream",
          "text": [
            "Looking in indexes: https://pypi.org/simple, https://us-python.pkg.dev/colab-wheels/public/simple/\n",
            "Requirement already satisfied: torchtext in /usr/local/lib/python3.8/dist-packages (0.14.0)\n",
            "Requirement already satisfied: requests in /usr/local/lib/python3.8/dist-packages (from torchtext) (2.23.0)\n",
            "Requirement already satisfied: numpy in /usr/local/lib/python3.8/dist-packages (from torchtext) (1.22.4)\n",
            "Requirement already satisfied: torch==1.13.0 in /usr/local/lib/python3.8/dist-packages (from torchtext) (1.13.0+cu116)\n",
            "Requirement already satisfied: tqdm in /usr/local/lib/python3.8/dist-packages (from torchtext) (4.64.1)\n",
            "Requirement already satisfied: typing-extensions in /usr/local/lib/python3.8/dist-packages (from torch==1.13.0->torchtext) (4.4.0)\n",
            "Requirement already satisfied: urllib3!=1.25.0,!=1.25.1,<1.26,>=1.21.1 in /usr/local/lib/python3.8/dist-packages (from requests->torchtext) (1.24.3)\n",
            "Requirement already satisfied: chardet<4,>=3.0.2 in /usr/local/lib/python3.8/dist-packages (from requests->torchtext) (3.0.4)\n",
            "Requirement already satisfied: idna<3,>=2.5 in /usr/local/lib/python3.8/dist-packages (from requests->torchtext) (2.10)\n",
            "Requirement already satisfied: certifi>=2017.4.17 in /usr/local/lib/python3.8/dist-packages (from requests->torchtext) (2022.12.7)\n",
            "Looking in indexes: https://pypi.org/simple, https://us-python.pkg.dev/colab-wheels/public/simple/\n",
            "Requirement already satisfied: ray[tune] in /usr/local/lib/python3.8/dist-packages (2.2.0)\n",
            "Requirement already satisfied: aiosignal in /usr/local/lib/python3.8/dist-packages (from ray[tune]) (1.3.1)\n",
            "Requirement already satisfied: attrs in /usr/local/lib/python3.8/dist-packages (from ray[tune]) (22.1.0)\n",
            "Requirement already satisfied: jsonschema in /usr/local/lib/python3.8/dist-packages (from ray[tune]) (4.3.3)\n",
            "Requirement already satisfied: frozenlist in /usr/local/lib/python3.8/dist-packages (from ray[tune]) (1.3.3)\n",
            "Requirement already satisfied: filelock in /usr/local/lib/python3.8/dist-packages (from ray[tune]) (3.8.2)\n",
            "Requirement already satisfied: msgpack<2.0.0,>=1.0.0 in /usr/local/lib/python3.8/dist-packages (from ray[tune]) (1.0.4)\n",
            "Requirement already satisfied: virtualenv>=20.0.24 in /usr/local/lib/python3.8/dist-packages (from ray[tune]) (20.17.1)\n",
            "Requirement already satisfied: pyyaml in /usr/local/lib/python3.8/dist-packages (from ray[tune]) (6.0)\n",
            "Requirement already satisfied: numpy>=1.16 in /usr/local/lib/python3.8/dist-packages (from ray[tune]) (1.22.4)\n",
            "Requirement already satisfied: requests in /usr/local/lib/python3.8/dist-packages (from ray[tune]) (2.23.0)\n",
            "Requirement already satisfied: click>=7.0 in /usr/local/lib/python3.8/dist-packages (from ray[tune]) (7.1.2)\n",
            "Requirement already satisfied: protobuf!=3.19.5,>=3.15.3 in /usr/local/lib/python3.8/dist-packages (from ray[tune]) (3.19.6)\n",
            "Requirement already satisfied: grpcio>=1.32.0 in /usr/local/lib/python3.8/dist-packages (from ray[tune]) (1.51.1)\n",
            "Requirement already satisfied: tabulate in /usr/local/lib/python3.8/dist-packages (from ray[tune]) (0.8.10)\n",
            "Requirement already satisfied: pandas in /usr/local/lib/python3.8/dist-packages (from ray[tune]) (1.3.5)\n",
            "Requirement already satisfied: tensorboardX>=1.9 in /usr/local/lib/python3.8/dist-packages (from ray[tune]) (2.5.1)\n",
            "Requirement already satisfied: platformdirs<3,>=2.4 in /usr/local/lib/python3.8/dist-packages (from virtualenv>=20.0.24->ray[tune]) (2.6.0)\n",
            "Requirement already satisfied: distlib<1,>=0.3.6 in /usr/local/lib/python3.8/dist-packages (from virtualenv>=20.0.24->ray[tune]) (0.3.6)\n",
            "Requirement already satisfied: importlib-resources>=1.4.0 in /usr/local/lib/python3.8/dist-packages (from jsonschema->ray[tune]) (5.10.1)\n",
            "Requirement already satisfied: pyrsistent!=0.17.0,!=0.17.1,!=0.17.2,>=0.14.0 in /usr/local/lib/python3.8/dist-packages (from jsonschema->ray[tune]) (0.19.2)\n",
            "Requirement already satisfied: zipp>=3.1.0 in /usr/local/lib/python3.8/dist-packages (from importlib-resources>=1.4.0->jsonschema->ray[tune]) (3.11.0)\n",
            "Requirement already satisfied: pytz>=2017.3 in /usr/local/lib/python3.8/dist-packages (from pandas->ray[tune]) (2022.6)\n",
            "Requirement already satisfied: python-dateutil>=2.7.3 in /usr/local/lib/python3.8/dist-packages (from pandas->ray[tune]) (2.8.2)\n",
            "Requirement already satisfied: six>=1.5 in /usr/local/lib/python3.8/dist-packages (from python-dateutil>=2.7.3->pandas->ray[tune]) (1.15.0)\n",
            "Requirement already satisfied: chardet<4,>=3.0.2 in /usr/local/lib/python3.8/dist-packages (from requests->ray[tune]) (3.0.4)\n",
            "Requirement already satisfied: urllib3!=1.25.0,!=1.25.1,<1.26,>=1.21.1 in /usr/local/lib/python3.8/dist-packages (from requests->ray[tune]) (1.24.3)\n",
            "Requirement already satisfied: idna<3,>=2.5 in /usr/local/lib/python3.8/dist-packages (from requests->ray[tune]) (2.10)\n",
            "Requirement already satisfied: certifi>=2017.4.17 in /usr/local/lib/python3.8/dist-packages (from requests->ray[tune]) (2022.12.7)\n",
            "Looking in indexes: https://pypi.org/simple, https://us-python.pkg.dev/colab-wheels/public/simple/\n",
            "Requirement already satisfied: torchmetrics in /usr/local/lib/python3.8/dist-packages (0.11.0)\n",
            "Requirement already satisfied: typing-extensions in /usr/local/lib/python3.8/dist-packages (from torchmetrics) (4.4.0)\n",
            "Requirement already satisfied: packaging in /usr/local/lib/python3.8/dist-packages (from torchmetrics) (21.3)\n",
            "Requirement already satisfied: torch>=1.8.1 in /usr/local/lib/python3.8/dist-packages (from torchmetrics) (1.13.0+cu116)\n",
            "Requirement already satisfied: numpy>=1.17.2 in /usr/local/lib/python3.8/dist-packages (from torchmetrics) (1.22.4)\n",
            "Requirement already satisfied: pyparsing!=3.0.5,>=2.0.2 in /usr/local/lib/python3.8/dist-packages (from packaging->torchmetrics) (3.0.9)\n"
          ]
        }
      ],
      "source": [
        "# installing requirements\n",
        "!pip install torch\n",
        "!pip install --upgrade gensim\n",
        "!pip install torchtext\n",
        "!pip install \"ray[tune]\"\n",
        "!pip install torchmetrics\n"
      ]
    },
    {
      "cell_type": "markdown",
      "metadata": {
        "id": "a_IB-UoM5haA"
      },
      "source": [
        "# Imports and Download of the dataset"
      ]
    },
    {
      "cell_type": "code",
      "execution_count": 3,
      "metadata": {
        "colab": {
          "base_uri": "https://localhost:8080/"
        },
        "execution": {
          "iopub.execute_input": "2022-11-30T14:36:33.202610Z",
          "iopub.status.busy": "2022-11-30T14:36:33.200527Z",
          "iopub.status.idle": "2022-11-30T14:36:39.193371Z",
          "shell.execute_reply": "2022-11-30T14:36:39.191486Z",
          "shell.execute_reply.started": "2022-11-30T14:36:33.202542Z"
        },
        "id": "w42dPSvi2m7M",
        "outputId": "ae0a29fb-faaa-43bc-e4d5-b6fc0fc19ac5",
        "trusted": true
      },
      "outputs": [
        {
          "name": "stderr",
          "output_type": "stream",
          "text": [
            "/usr/local/lib/python3.8/dist-packages/scipy/__init__.py:146: UserWarning: A NumPy version >=1.16.5 and <1.23.0 is required for this version of SciPy (detected version 1.24.0\n",
            "  warnings.warn(f\"A NumPy version >={np_minversion} and <{np_maxversion}\"\n"
          ]
        }
      ],
      "source": [
        "# Libraries imports\n",
        "\n",
        "# File management\n",
        "import os  \n",
        "import sys \n",
        "\n",
        "# Time\n",
        "import time \n",
        "\n",
        "# Dataframe management\n",
        "import pandas as pd  \n",
        "\n",
        "# Data manipulation\n",
        "import numpy as np  \n",
        "import math\n",
        "import random\n",
        "\n",
        "\n",
        "# NN managers\n",
        "import torch\n",
        "import torch.nn as nn\n",
        "from torch.autograd import Variable\n",
        "import torch.optim as optim\n",
        "from torch.utils.data import DataLoader\n",
        "import torchmetrics\n",
        "\n",
        "# Plotting\n",
        "from matplotlib import pyplot as plt\n",
        "import matplotlib.pyplot as plt \n",
        "import matplotlib.ticker as mticker\n",
        "\n",
        "try:\n",
        "  # Embedding manager\n",
        "  import gensim\n",
        "  import gensim.downloader as gloader\n",
        "except:\n",
        "  !pip install --upgrade numpy\n",
        "  import gensim\n",
        "  import gensim.downloader as gloader\n",
        "\n",
        "\n",
        "\n",
        "# stats\n",
        "from sklearn.metrics import classification_report, ConfusionMatrixDisplay"
      ]
    },
    {
      "cell_type": "code",
      "execution_count": 4,
      "metadata": {
        "execution": {
          "iopub.execute_input": "2022-11-30T14:36:39.216288Z",
          "iopub.status.busy": "2022-11-30T14:36:39.215128Z",
          "iopub.status.idle": "2022-11-30T14:36:39.227576Z",
          "shell.execute_reply": "2022-11-30T14:36:39.225949Z",
          "shell.execute_reply.started": "2022-11-30T14:36:39.216196Z"
        },
        "id": "yj9gdxAV5D7j",
        "trusted": true
      },
      "outputs": [],
      "source": [
        "#setting seed\n",
        "\n",
        "SEED = 42\n",
        "random.seed(SEED) # random\n",
        "np.random.seed(SEED) # numpy\n",
        "torch.manual_seed(SEED); # pytorch"
      ]
    },
    {
      "cell_type": "markdown",
      "metadata": {
        "id": "H4pfB1b9dKW0"
      },
      "source": [
        "Dataset download"
      ]
    },
    {
      "cell_type": "code",
      "execution_count": 5,
      "metadata": {
        "colab": {
          "base_uri": "https://localhost:8080/"
        },
        "id": "uUTBb1kfuq4j",
        "outputId": "954b262b-c86c-4b1b-a370-8d58bdbcb3ed"
      },
      "outputs": [
        {
          "name": "stdout",
          "output_type": "stream",
          "text": [
            "--2022-12-21 22:23:02--  https://raw.githubusercontent.com/ipavlopoulos/toxic_spans/master/SemEval2021/data/tsd_test.csv\n",
            "Resolving raw.githubusercontent.com (raw.githubusercontent.com)... 185.199.109.133, 185.199.108.133, 185.199.110.133, ...\n",
            "Connecting to raw.githubusercontent.com (raw.githubusercontent.com)|185.199.109.133|:443... connected.\n",
            "HTTP request sent, awaiting response... 200 OK\n",
            "Length: 445951 (435K) [text/plain]\n",
            "Saving to: ‘tsd_test.csv’\n",
            "\n",
            "\rtsd_test.csv          0%[                    ]       0  --.-KB/s               \rtsd_test.csv        100%[===================>] 435.50K  --.-KB/s    in 0.006s  \n",
            "\n",
            "2022-12-21 22:23:02 (70.3 MB/s) - ‘tsd_test.csv’ saved [445951/445951]\n",
            "\n",
            "--2022-12-21 22:23:03--  https://raw.githubusercontent.com/ipavlopoulos/toxic_spans/master/SemEval2021/data/tsd_train.csv\n",
            "Resolving raw.githubusercontent.com (raw.githubusercontent.com)... 185.199.108.133, 185.199.109.133, 185.199.110.133, ...\n",
            "Connecting to raw.githubusercontent.com (raw.githubusercontent.com)|185.199.108.133|:443... connected.\n",
            "HTTP request sent, awaiting response... 200 OK\n",
            "Length: 2281497 (2.2M) [text/plain]\n",
            "Saving to: ‘tsd_train.csv’\n",
            "\n",
            "tsd_train.csv       100%[===================>]   2.18M  --.-KB/s    in 0.01s   \n",
            "\n",
            "2022-12-21 22:23:03 (209 MB/s) - ‘tsd_train.csv’ saved [2281497/2281497]\n",
            "\n",
            "--2022-12-21 22:23:03--  https://raw.githubusercontent.com/ipavlopoulos/toxic_spans/master/SemEval2021/data/tsd_trial.csv\n",
            "Resolving raw.githubusercontent.com (raw.githubusercontent.com)... 185.199.108.133, 185.199.109.133, 185.199.110.133, ...\n",
            "Connecting to raw.githubusercontent.com (raw.githubusercontent.com)|185.199.108.133|:443... connected.\n",
            "HTTP request sent, awaiting response... 200 OK\n",
            "Length: 185506 (181K) [text/plain]\n",
            "Saving to: ‘tsd_trial.csv’\n",
            "\n",
            "tsd_trial.csv       100%[===================>] 181.16K  --.-KB/s    in 0.002s  \n",
            "\n",
            "2022-12-21 22:23:03 (86.9 MB/s) - ‘tsd_trial.csv’ saved [185506/185506]\n",
            "\n"
          ]
        }
      ],
      "source": [
        "#Dataset download\n",
        "!wget https://raw.githubusercontent.com/ipavlopoulos/toxic_spans/master/SemEval2021/data/tsd_test.csv\n",
        "!wget https://raw.githubusercontent.com/ipavlopoulos/toxic_spans/master/SemEval2021/data/tsd_train.csv\n",
        "!wget https://raw.githubusercontent.com/ipavlopoulos/toxic_spans/master/SemEval2021/data/tsd_trial.csv"
      ]
    },
    {
      "cell_type": "code",
      "execution_count": 6,
      "metadata": {
        "id": "fkVPyFnnvAo0"
      },
      "outputs": [],
      "source": [
        "# Read data\n",
        "import pandas as pd\n",
        "from ast import literal_eval\n",
        "\n",
        "data = pd.read_csv('tsd_train.csv')\n",
        "dev = pd.read_csv('tsd_trial.csv')\n",
        "test = pd.read_csv('tsd_test.csv')\n",
        "\n",
        "text_data = data['text'].values\n",
        "spans = data['spans'].apply(literal_eval)\n",
        "lbl = [1 if len(s) > 0 else 0 for s in spans]\n",
        "\n",
        "text_data_test = test['text'].values\n",
        "spans_test = test['spans'].apply(literal_eval)\n",
        "test_id = test.index\n",
        "lbl_test = [1 if len(s) > 0 else 0 for s in spans_test]\n",
        "\n",
        "text_data_dev = dev['text'].values\n",
        "spans_dev = dev['spans'].apply(literal_eval)\n",
        "dev_id = dev.index\n",
        "lbl_dev = [1 if len(s) > 0 else 0 for s in spans_dev]"
      ]
    },
    {
      "cell_type": "code",
      "execution_count": 7,
      "metadata": {
        "id": "yO5ibMEIvLYI"
      },
      "outputs": [],
      "source": [
        "# Token level \n",
        "\n",
        "from nltk.tokenize import TweetTokenizer\n",
        "import numpy as np\n",
        "# import spacy\n",
        "\n",
        "tknzr2 = TweetTokenizer()\n",
        "\n",
        "def custom_tokenizer(text_data):\n",
        "    return tknzr2.tokenize(text_data)\n",
        "\n",
        "def retrieve_word_from_span(lst_span, text):\n",
        "    i = 0\n",
        "    token = []\n",
        "    a = 0\n",
        "\n",
        "    word = []\n",
        "\n",
        "    while (i < (len(lst_span) - 1)):\n",
        "        if (lst_span[i] != (lst_span[i+1]-1)):\n",
        "            token.append(lst_span[a:(i+1)])\n",
        "            a = i + 1\n",
        "        elif i == (len(lst_span) - 2):\n",
        "            token.append(lst_span[a:i+2])\n",
        "\n",
        "        i = i + 1\n",
        "\n",
        "    for t in token:\n",
        "        word.append(text[t[0]:(t[len(t)-1])+1])\n",
        "\n",
        "    return word\n",
        "\n",
        "def span_retrived(text_data, spans):\n",
        "    token_labels = []\n",
        "\n",
        "    for i in range(0, len(text_data)):\n",
        "        token_labels.append(retrieve_word_from_span(spans[i], text_data[i]))\n",
        "    \n",
        "    return token_labels\n",
        "\n",
        "def span_convert(text_data, spans):\n",
        "    MAX_LEN = 0\n",
        "    token_labels = []\n",
        "\n",
        "    for i in range(0, len(text_data)):\n",
        "        token_labels.append(retrieve_word_from_span(spans[i], text_data[i]))\n",
        "\n",
        "    lst_seq = []\n",
        "    for i in range(0, len(text_data)):\n",
        "        # token = tknzr.tokenize(text_data[i])\n",
        "        token = custom_tokenizer(text_data[i])\n",
        "        if len(token) > MAX_LEN:\n",
        "            MAX_LEN = len(token)\n",
        "            \n",
        "        seq = np.zeros(len(token), dtype=int)\n",
        "        for j in range(0, len(token)):\n",
        "            for t in token_labels[i]:\n",
        "                # if token[j] in tknzr.tokenize(t):\n",
        "                if token[j] in custom_tokenizer(t):\n",
        "                    seq[j] = 1\n",
        "        lst_seq.append(seq)     \n",
        "\n",
        "    return (token_labels, lst_seq)"
      ]
    },
    {
      "cell_type": "code",
      "execution_count": 8,
      "metadata": {
        "colab": {
          "base_uri": "https://localhost:8080/"
        },
        "id": "LjT67Q78vemG",
        "outputId": "86121444-97af-40b1-d7ce-4df0ac97aaca"
      },
      "outputs": [
        {
          "name": "stdout",
          "output_type": "stream",
          "text": [
            "train (7939, 4)\n",
            "val (690, 4)\n",
            "test (2000, 4)\n"
          ]
        }
      ],
      "source": [
        "from copy import deepcopy\n",
        "\n",
        "# convert data\n",
        "data['token'], data['seq'] = span_convert(text_data, spans)\n",
        "dev['token'], dev['seq'] = span_convert(text_data_dev, spans_dev)\n",
        "test['token'], test['seq'] = span_convert(text_data_test, spans_test)\n",
        "\n",
        "train = deepcopy(data)\n",
        "val_ = deepcopy(dev)\n",
        "test_ = deepcopy(test)\n",
        "\n",
        "print(\"train\",train.shape) \n",
        "print(\"val\",val_.shape)\n",
        "print(\"test\",test_.shape)\n"
      ]
    },
    {
      "cell_type": "code",
      "execution_count": 9,
      "metadata": {
        "colab": {
          "base_uri": "https://localhost:8080/",
          "height": 206
        },
        "id": "zFKFZxwrvorc",
        "outputId": "999cd2bf-fc29-425e-99ae-56f8e22cd72d"
      },
      "outputs": [
        {
          "data": {
            "text/html": [
              "\n",
              "  <div id=\"df-4e54cc51-05c1-4936-b1d7-a83530657011\">\n",
              "    <div class=\"colab-df-container\">\n",
              "      <div>\n",
              "<style scoped>\n",
              "    .dataframe tbody tr th:only-of-type {\n",
              "        vertical-align: middle;\n",
              "    }\n",
              "\n",
              "    .dataframe tbody tr th {\n",
              "        vertical-align: top;\n",
              "    }\n",
              "\n",
              "    .dataframe thead th {\n",
              "        text-align: right;\n",
              "    }\n",
              "</style>\n",
              "<table border=\"1\" class=\"dataframe\">\n",
              "  <thead>\n",
              "    <tr style=\"text-align: right;\">\n",
              "      <th></th>\n",
              "      <th>spans</th>\n",
              "      <th>text</th>\n",
              "      <th>token</th>\n",
              "      <th>seq</th>\n",
              "    </tr>\n",
              "  </thead>\n",
              "  <tbody>\n",
              "    <tr>\n",
              "      <th>0</th>\n",
              "      <td>[8, 9, 10, 11, 12, 13, 14, 15, 16, 17, 18, 19,...</td>\n",
              "      <td>Another violent and aggressive immigrant killi...</td>\n",
              "      <td>[violent and aggressive immigrant]</td>\n",
              "      <td>[0, 1, 1, 1, 1, 0, 0, 0, 1, 0, 0, 0, 0, 0]</td>\n",
              "    </tr>\n",
              "    <tr>\n",
              "      <th>1</th>\n",
              "      <td>[33, 34, 35, 36, 37, 38, 39]</td>\n",
              "      <td>I am 56 years old, I am not your fucking junio...</td>\n",
              "      <td>[fucking]</td>\n",
              "      <td>[0, 0, 0, 0, 0, 0, 0, 0, 0, 0, 1, 0, 0, 0, 0, ...</td>\n",
              "    </tr>\n",
              "    <tr>\n",
              "      <th>2</th>\n",
              "      <td>[0, 1, 2, 3]</td>\n",
              "      <td>Damn, a whole family. Sad indeed.</td>\n",
              "      <td>[Damn]</td>\n",
              "      <td>[1, 0, 0, 0, 0, 0, 0, 0, 0]</td>\n",
              "    </tr>\n",
              "    <tr>\n",
              "      <th>3</th>\n",
              "      <td>[7, 8, 9, 10, 11, 12, 13, 14, 15, 16, 17]</td>\n",
              "      <td>What a knucklehead. How can anyone not know th...</td>\n",
              "      <td>[knucklehead]</td>\n",
              "      <td>[0, 0, 1, 0, 0, 0, 0, 0, 0, 0, 0, 0, 0, 0, 0]</td>\n",
              "    </tr>\n",
              "    <tr>\n",
              "      <th>4</th>\n",
              "      <td>[32, 33, 34, 35, 36, 37, 38]</td>\n",
              "      <td>\"who do you think should do the killing?\"\\n\\nA...</td>\n",
              "      <td>[killing]</td>\n",
              "      <td>[0, 0, 0, 0, 0, 0, 0, 0, 1, 0, 0, 0, 0, 0, 0, ...</td>\n",
              "    </tr>\n",
              "  </tbody>\n",
              "</table>\n",
              "</div>\n",
              "      <button class=\"colab-df-convert\" onclick=\"convertToInteractive('df-4e54cc51-05c1-4936-b1d7-a83530657011')\"\n",
              "              title=\"Convert this dataframe to an interactive table.\"\n",
              "              style=\"display:none;\">\n",
              "        \n",
              "  <svg xmlns=\"http://www.w3.org/2000/svg\" height=\"24px\"viewBox=\"0 0 24 24\"\n",
              "       width=\"24px\">\n",
              "    <path d=\"M0 0h24v24H0V0z\" fill=\"none\"/>\n",
              "    <path d=\"M18.56 5.44l.94 2.06.94-2.06 2.06-.94-2.06-.94-.94-2.06-.94 2.06-2.06.94zm-11 1L8.5 8.5l.94-2.06 2.06-.94-2.06-.94L8.5 2.5l-.94 2.06-2.06.94zm10 10l.94 2.06.94-2.06 2.06-.94-2.06-.94-.94-2.06-.94 2.06-2.06.94z\"/><path d=\"M17.41 7.96l-1.37-1.37c-.4-.4-.92-.59-1.43-.59-.52 0-1.04.2-1.43.59L10.3 9.45l-7.72 7.72c-.78.78-.78 2.05 0 2.83L4 21.41c.39.39.9.59 1.41.59.51 0 1.02-.2 1.41-.59l7.78-7.78 2.81-2.81c.8-.78.8-2.07 0-2.86zM5.41 20L4 18.59l7.72-7.72 1.47 1.35L5.41 20z\"/>\n",
              "  </svg>\n",
              "      </button>\n",
              "      \n",
              "  <style>\n",
              "    .colab-df-container {\n",
              "      display:flex;\n",
              "      flex-wrap:wrap;\n",
              "      gap: 12px;\n",
              "    }\n",
              "\n",
              "    .colab-df-convert {\n",
              "      background-color: #E8F0FE;\n",
              "      border: none;\n",
              "      border-radius: 50%;\n",
              "      cursor: pointer;\n",
              "      display: none;\n",
              "      fill: #1967D2;\n",
              "      height: 32px;\n",
              "      padding: 0 0 0 0;\n",
              "      width: 32px;\n",
              "    }\n",
              "\n",
              "    .colab-df-convert:hover {\n",
              "      background-color: #E2EBFA;\n",
              "      box-shadow: 0px 1px 2px rgba(60, 64, 67, 0.3), 0px 1px 3px 1px rgba(60, 64, 67, 0.15);\n",
              "      fill: #174EA6;\n",
              "    }\n",
              "\n",
              "    [theme=dark] .colab-df-convert {\n",
              "      background-color: #3B4455;\n",
              "      fill: #D2E3FC;\n",
              "    }\n",
              "\n",
              "    [theme=dark] .colab-df-convert:hover {\n",
              "      background-color: #434B5C;\n",
              "      box-shadow: 0px 1px 3px 1px rgba(0, 0, 0, 0.15);\n",
              "      filter: drop-shadow(0px 1px 2px rgba(0, 0, 0, 0.3));\n",
              "      fill: #FFFFFF;\n",
              "    }\n",
              "  </style>\n",
              "\n",
              "      <script>\n",
              "        const buttonEl =\n",
              "          document.querySelector('#df-4e54cc51-05c1-4936-b1d7-a83530657011 button.colab-df-convert');\n",
              "        buttonEl.style.display =\n",
              "          google.colab.kernel.accessAllowed ? 'block' : 'none';\n",
              "\n",
              "        async function convertToInteractive(key) {\n",
              "          const element = document.querySelector('#df-4e54cc51-05c1-4936-b1d7-a83530657011');\n",
              "          const dataTable =\n",
              "            await google.colab.kernel.invokeFunction('convertToInteractive',\n",
              "                                                     [key], {});\n",
              "          if (!dataTable) return;\n",
              "\n",
              "          const docLinkHtml = 'Like what you see? Visit the ' +\n",
              "            '<a target=\"_blank\" href=https://colab.research.google.com/notebooks/data_table.ipynb>data table notebook</a>'\n",
              "            + ' to learn more about interactive tables.';\n",
              "          element.innerHTML = '';\n",
              "          dataTable['output_type'] = 'display_data';\n",
              "          await google.colab.output.renderOutput(dataTable, element);\n",
              "          const docLink = document.createElement('div');\n",
              "          docLink.innerHTML = docLinkHtml;\n",
              "          element.appendChild(docLink);\n",
              "        }\n",
              "      </script>\n",
              "    </div>\n",
              "  </div>\n",
              "  "
            ],
            "text/plain": [
              "                                               spans  \\\n",
              "0  [8, 9, 10, 11, 12, 13, 14, 15, 16, 17, 18, 19,...   \n",
              "1                       [33, 34, 35, 36, 37, 38, 39]   \n",
              "2                                       [0, 1, 2, 3]   \n",
              "3          [7, 8, 9, 10, 11, 12, 13, 14, 15, 16, 17]   \n",
              "4                       [32, 33, 34, 35, 36, 37, 38]   \n",
              "\n",
              "                                                text  \\\n",
              "0  Another violent and aggressive immigrant killi...   \n",
              "1  I am 56 years old, I am not your fucking junio...   \n",
              "2                  Damn, a whole family. Sad indeed.   \n",
              "3  What a knucklehead. How can anyone not know th...   \n",
              "4  \"who do you think should do the killing?\"\\n\\nA...   \n",
              "\n",
              "                                token  \\\n",
              "0  [violent and aggressive immigrant]   \n",
              "1                           [fucking]   \n",
              "2                              [Damn]   \n",
              "3                       [knucklehead]   \n",
              "4                           [killing]   \n",
              "\n",
              "                                                 seq  \n",
              "0         [0, 1, 1, 1, 1, 0, 0, 0, 1, 0, 0, 0, 0, 0]  \n",
              "1  [0, 0, 0, 0, 0, 0, 0, 0, 0, 0, 1, 0, 0, 0, 0, ...  \n",
              "2                        [1, 0, 0, 0, 0, 0, 0, 0, 0]  \n",
              "3      [0, 0, 1, 0, 0, 0, 0, 0, 0, 0, 0, 0, 0, 0, 0]  \n",
              "4  [0, 0, 0, 0, 0, 0, 0, 0, 1, 0, 0, 0, 0, 0, 0, ...  "
            ]
          },
          "execution_count": 9,
          "metadata": {},
          "output_type": "execute_result"
        }
      ],
      "source": [
        "#preview the train dataset \n",
        "train.head(5)"
      ]
    },
    {
      "cell_type": "markdown",
      "metadata": {
        "id": "838n29Hu2m7N"
      },
      "source": [
        "# Dataframe Creation"
      ]
    },
    {
      "cell_type": "code",
      "execution_count": 10,
      "metadata": {
        "id": "ZkGIsUFe-uzL"
      },
      "outputs": [],
      "source": [
        "import re\n",
        "\n",
        "def removePunctuations(word):\n",
        "  return re.sub(r'[^\\w\\s]', '', word)\n",
        "  \n"
      ]
    },
    {
      "cell_type": "code",
      "execution_count": 11,
      "metadata": {
        "id": "G-abhN1cCLSq"
      },
      "outputs": [],
      "source": [
        "#function to convert match each word in the sentence to a toxic or non toxic in a new dataframe representation. \n",
        "def changeDataframeRepresentation(df):\n",
        "\n",
        "  df_row = []\n",
        "  for index, row in df.iterrows():\n",
        "\n",
        "    clean_sent=removePunctuations(row['text']).split() \n",
        "\n",
        "    toxic_words_list=[]\n",
        "    toxic_word= row['token']\n",
        "    for i in toxic_word:\n",
        "      toxic_words_list.extend(i.split())\n",
        "\n",
        "    word_seq=[]\n",
        "    \n",
        "    for token in clean_sent:\n",
        "      if (token in toxic_words_list):\n",
        "        word_seq.append(\"1\")\n",
        "      else:\n",
        "        word_seq.append(\"0\")\n",
        "\n",
        "    ind=0\n",
        "      \n",
        "    for token in clean_sent:\n",
        "      tag=\"Toxic\"\n",
        "      if(word_seq[ind]==\"0\"):\n",
        "        tag=\"Non Toxic\"\n",
        "      row = {\"file_id\": index,\"sentence_id\": index,\"token\": token,\"tag\": tag}\n",
        "      df_row.append(row)\n",
        "      ind+=1  \n",
        "  return df_row"
      ]
    },
    {
      "cell_type": "code",
      "execution_count": 12,
      "metadata": {
        "id": "MTghxdWrFSGr"
      },
      "outputs": [],
      "source": [
        "df_train = pd.DataFrame(changeDataframeRepresentation(train))\n",
        "df_val = pd.DataFrame(changeDataframeRepresentation(val_))\n",
        "df_test = pd.DataFrame(changeDataframeRepresentation(test_))"
      ]
    },
    {
      "cell_type": "code",
      "execution_count": 13,
      "metadata": {
        "colab": {
          "base_uri": "https://localhost:8080/",
          "height": 457
        },
        "id": "CDXBRNu_F-G-",
        "outputId": "2d807544-676d-4ac5-dd67-736a6b4e3c91"
      },
      "outputs": [
        {
          "data": {
            "text/html": [
              "\n",
              "  <div id=\"df-95538e15-4aa0-459b-9f66-ec634e35e636\">\n",
              "    <div class=\"colab-df-container\">\n",
              "      <div>\n",
              "<style scoped>\n",
              "    .dataframe tbody tr th:only-of-type {\n",
              "        vertical-align: middle;\n",
              "    }\n",
              "\n",
              "    .dataframe tbody tr th {\n",
              "        vertical-align: top;\n",
              "    }\n",
              "\n",
              "    .dataframe thead th {\n",
              "        text-align: right;\n",
              "    }\n",
              "</style>\n",
              "<table border=\"1\" class=\"dataframe\">\n",
              "  <thead>\n",
              "    <tr style=\"text-align: right;\">\n",
              "      <th></th>\n",
              "      <th>file_id</th>\n",
              "      <th>sentence_id</th>\n",
              "      <th>token</th>\n",
              "      <th>tag</th>\n",
              "    </tr>\n",
              "  </thead>\n",
              "  <tbody>\n",
              "    <tr>\n",
              "      <th>0</th>\n",
              "      <td>0</td>\n",
              "      <td>0</td>\n",
              "      <td>Another</td>\n",
              "      <td>Non Toxic</td>\n",
              "    </tr>\n",
              "    <tr>\n",
              "      <th>1</th>\n",
              "      <td>0</td>\n",
              "      <td>0</td>\n",
              "      <td>violent</td>\n",
              "      <td>Toxic</td>\n",
              "    </tr>\n",
              "    <tr>\n",
              "      <th>2</th>\n",
              "      <td>0</td>\n",
              "      <td>0</td>\n",
              "      <td>and</td>\n",
              "      <td>Toxic</td>\n",
              "    </tr>\n",
              "    <tr>\n",
              "      <th>3</th>\n",
              "      <td>0</td>\n",
              "      <td>0</td>\n",
              "      <td>aggressive</td>\n",
              "      <td>Toxic</td>\n",
              "    </tr>\n",
              "    <tr>\n",
              "      <th>4</th>\n",
              "      <td>0</td>\n",
              "      <td>0</td>\n",
              "      <td>immigrant</td>\n",
              "      <td>Toxic</td>\n",
              "    </tr>\n",
              "    <tr>\n",
              "      <th>5</th>\n",
              "      <td>0</td>\n",
              "      <td>0</td>\n",
              "      <td>killing</td>\n",
              "      <td>Non Toxic</td>\n",
              "    </tr>\n",
              "    <tr>\n",
              "      <th>6</th>\n",
              "      <td>0</td>\n",
              "      <td>0</td>\n",
              "      <td>a</td>\n",
              "      <td>Non Toxic</td>\n",
              "    </tr>\n",
              "    <tr>\n",
              "      <th>7</th>\n",
              "      <td>0</td>\n",
              "      <td>0</td>\n",
              "      <td>innocent</td>\n",
              "      <td>Non Toxic</td>\n",
              "    </tr>\n",
              "    <tr>\n",
              "      <th>8</th>\n",
              "      <td>0</td>\n",
              "      <td>0</td>\n",
              "      <td>and</td>\n",
              "      <td>Toxic</td>\n",
              "    </tr>\n",
              "    <tr>\n",
              "      <th>9</th>\n",
              "      <td>0</td>\n",
              "      <td>0</td>\n",
              "      <td>intelligent</td>\n",
              "      <td>Non Toxic</td>\n",
              "    </tr>\n",
              "    <tr>\n",
              "      <th>10</th>\n",
              "      <td>0</td>\n",
              "      <td>0</td>\n",
              "      <td>US</td>\n",
              "      <td>Non Toxic</td>\n",
              "    </tr>\n",
              "    <tr>\n",
              "      <th>11</th>\n",
              "      <td>0</td>\n",
              "      <td>0</td>\n",
              "      <td>Citizen</td>\n",
              "      <td>Non Toxic</td>\n",
              "    </tr>\n",
              "    <tr>\n",
              "      <th>12</th>\n",
              "      <td>0</td>\n",
              "      <td>0</td>\n",
              "      <td>Sarcasm</td>\n",
              "      <td>Non Toxic</td>\n",
              "    </tr>\n",
              "  </tbody>\n",
              "</table>\n",
              "</div>\n",
              "      <button class=\"colab-df-convert\" onclick=\"convertToInteractive('df-95538e15-4aa0-459b-9f66-ec634e35e636')\"\n",
              "              title=\"Convert this dataframe to an interactive table.\"\n",
              "              style=\"display:none;\">\n",
              "        \n",
              "  <svg xmlns=\"http://www.w3.org/2000/svg\" height=\"24px\"viewBox=\"0 0 24 24\"\n",
              "       width=\"24px\">\n",
              "    <path d=\"M0 0h24v24H0V0z\" fill=\"none\"/>\n",
              "    <path d=\"M18.56 5.44l.94 2.06.94-2.06 2.06-.94-2.06-.94-.94-2.06-.94 2.06-2.06.94zm-11 1L8.5 8.5l.94-2.06 2.06-.94-2.06-.94L8.5 2.5l-.94 2.06-2.06.94zm10 10l.94 2.06.94-2.06 2.06-.94-2.06-.94-.94-2.06-.94 2.06-2.06.94z\"/><path d=\"M17.41 7.96l-1.37-1.37c-.4-.4-.92-.59-1.43-.59-.52 0-1.04.2-1.43.59L10.3 9.45l-7.72 7.72c-.78.78-.78 2.05 0 2.83L4 21.41c.39.39.9.59 1.41.59.51 0 1.02-.2 1.41-.59l7.78-7.78 2.81-2.81c.8-.78.8-2.07 0-2.86zM5.41 20L4 18.59l7.72-7.72 1.47 1.35L5.41 20z\"/>\n",
              "  </svg>\n",
              "      </button>\n",
              "      \n",
              "  <style>\n",
              "    .colab-df-container {\n",
              "      display:flex;\n",
              "      flex-wrap:wrap;\n",
              "      gap: 12px;\n",
              "    }\n",
              "\n",
              "    .colab-df-convert {\n",
              "      background-color: #E8F0FE;\n",
              "      border: none;\n",
              "      border-radius: 50%;\n",
              "      cursor: pointer;\n",
              "      display: none;\n",
              "      fill: #1967D2;\n",
              "      height: 32px;\n",
              "      padding: 0 0 0 0;\n",
              "      width: 32px;\n",
              "    }\n",
              "\n",
              "    .colab-df-convert:hover {\n",
              "      background-color: #E2EBFA;\n",
              "      box-shadow: 0px 1px 2px rgba(60, 64, 67, 0.3), 0px 1px 3px 1px rgba(60, 64, 67, 0.15);\n",
              "      fill: #174EA6;\n",
              "    }\n",
              "\n",
              "    [theme=dark] .colab-df-convert {\n",
              "      background-color: #3B4455;\n",
              "      fill: #D2E3FC;\n",
              "    }\n",
              "\n",
              "    [theme=dark] .colab-df-convert:hover {\n",
              "      background-color: #434B5C;\n",
              "      box-shadow: 0px 1px 3px 1px rgba(0, 0, 0, 0.15);\n",
              "      filter: drop-shadow(0px 1px 2px rgba(0, 0, 0, 0.3));\n",
              "      fill: #FFFFFF;\n",
              "    }\n",
              "  </style>\n",
              "\n",
              "      <script>\n",
              "        const buttonEl =\n",
              "          document.querySelector('#df-95538e15-4aa0-459b-9f66-ec634e35e636 button.colab-df-convert');\n",
              "        buttonEl.style.display =\n",
              "          google.colab.kernel.accessAllowed ? 'block' : 'none';\n",
              "\n",
              "        async function convertToInteractive(key) {\n",
              "          const element = document.querySelector('#df-95538e15-4aa0-459b-9f66-ec634e35e636');\n",
              "          const dataTable =\n",
              "            await google.colab.kernel.invokeFunction('convertToInteractive',\n",
              "                                                     [key], {});\n",
              "          if (!dataTable) return;\n",
              "\n",
              "          const docLinkHtml = 'Like what you see? Visit the ' +\n",
              "            '<a target=\"_blank\" href=https://colab.research.google.com/notebooks/data_table.ipynb>data table notebook</a>'\n",
              "            + ' to learn more about interactive tables.';\n",
              "          element.innerHTML = '';\n",
              "          dataTable['output_type'] = 'display_data';\n",
              "          await google.colab.output.renderOutput(dataTable, element);\n",
              "          const docLink = document.createElement('div');\n",
              "          docLink.innerHTML = docLinkHtml;\n",
              "          element.appendChild(docLink);\n",
              "        }\n",
              "      </script>\n",
              "    </div>\n",
              "  </div>\n",
              "  "
            ],
            "text/plain": [
              "    file_id  sentence_id        token        tag\n",
              "0         0            0      Another  Non Toxic\n",
              "1         0            0      violent      Toxic\n",
              "2         0            0          and      Toxic\n",
              "3         0            0   aggressive      Toxic\n",
              "4         0            0    immigrant      Toxic\n",
              "5         0            0      killing  Non Toxic\n",
              "6         0            0            a  Non Toxic\n",
              "7         0            0     innocent  Non Toxic\n",
              "8         0            0          and      Toxic\n",
              "9         0            0  intelligent  Non Toxic\n",
              "10        0            0           US  Non Toxic\n",
              "11        0            0      Citizen  Non Toxic\n",
              "12        0            0      Sarcasm  Non Toxic"
            ]
          },
          "execution_count": 13,
          "metadata": {},
          "output_type": "execute_result"
        }
      ],
      "source": [
        "#preview the train dataset in its new representation for the first sentence\n",
        "df_train.loc[df_train['file_id'] == 0]"
      ]
    },
    {
      "cell_type": "markdown",
      "metadata": {
        "id": "SkqyByUl56qE"
      },
      "source": [
        "# Tag handling"
      ]
    },
    {
      "cell_type": "markdown",
      "metadata": {
        "id": "_VpmuRQ4dKW2"
      },
      "source": [
        "Mapping tags to indexes"
      ]
    },
    {
      "cell_type": "code",
      "execution_count": 14,
      "metadata": {
        "colab": {
          "base_uri": "https://localhost:8080/"
        },
        "execution": {
          "iopub.execute_input": "2022-11-30T14:36:40.072336Z",
          "iopub.status.busy": "2022-11-30T14:36:40.070821Z",
          "iopub.status.idle": "2022-11-30T14:36:40.969455Z",
          "shell.execute_reply": "2022-11-30T14:36:40.968056Z",
          "shell.execute_reply.started": "2022-11-30T14:36:40.072279Z"
        },
        "id": "uPIjxDe756qE",
        "outputId": "5e451fb0-4c45-4e11-9ddd-e0fea3cad61c",
        "trusted": true
      },
      "outputs": [
        {
          "name": "stdout",
          "output_type": "stream",
          "text": [
            "{'Non Toxic': 0, 'Toxic': 1}\n",
            "{0: 'Non Toxic', 1: 'Toxic'}\n"
          ]
        }
      ],
      "source": [
        "# Get all the unique tags\n",
        "n_classes = df_train[\"tag\"].unique().shape[0]\n",
        "\n",
        "# Create two dictionaries of tags\n",
        "# tags_dict -> {Tag: Id}\n",
        "# tags_dict_reversed -> {Id: Tag}\n",
        "tags_dict = {}\n",
        "tags_dict_reversed = {}\n",
        "for id in range(0, n_classes):\n",
        "    tags_dict_reversed[id] = df_train[\"tag\"].unique()[id]\n",
        "    tags_dict[df_train[\"tag\"].unique()[id]] = id\n",
        "\n",
        "print(tags_dict)\n",
        "print(tags_dict_reversed)"
      ]
    },
    {
      "cell_type": "markdown",
      "metadata": {
        "id": "4PB5VrXOdKW2"
      },
      "source": [
        "Setup for ignoring punctuation/symbols"
      ]
    },
    {
      "cell_type": "code",
      "execution_count": 15,
      "metadata": {
        "execution": {
          "iopub.execute_input": "2022-11-30T14:36:40.972587Z",
          "iopub.status.busy": "2022-11-30T14:36:40.971621Z",
          "iopub.status.idle": "2022-11-30T14:36:40.980131Z",
          "shell.execute_reply": "2022-11-30T14:36:40.978595Z",
          "shell.execute_reply.started": "2022-11-30T14:36:40.972531Z"
        },
        "id": "GotIG-Rv9GbX",
        "trusted": true
      },
      "outputs": [],
      "source": [
        "# Return the indexes of all specified tags\n",
        "def get_indexes(tags_dict: dict, ignore_list: list) -> list:\n",
        "    idxs = [tags_dict[key] for key in ignore_list]\n",
        "    return idxs"
      ]
    },
    {
      "cell_type": "code",
      "execution_count": 16,
      "metadata": {
        "colab": {
          "base_uri": "https://localhost:8080/"
        },
        "execution": {
          "iopub.execute_input": "2022-11-30T14:36:40.988591Z",
          "iopub.status.busy": "2022-11-30T14:36:40.987491Z",
          "iopub.status.idle": "2022-11-30T14:36:40.997503Z",
          "shell.execute_reply": "2022-11-30T14:36:40.995002Z",
          "shell.execute_reply.started": "2022-11-30T14:36:40.988536Z"
        },
        "id": "8_QDbgHK-dzB",
        "outputId": "75886c62-84ea-4f7b-ba97-3b96677dd88b",
        "trusted": true
      },
      "outputs": [
        {
          "name": "stdout",
          "output_type": "stream",
          "text": [
            "classes evaluated: ['Non Toxic', 'Toxic'], idx: [0, 1]\n"
          ]
        }
      ],
      "source": [
        "target_names = list(tags_dict.keys())\n",
        "target_idx = get_indexes(tags_dict, target_names)\n",
        "print(f\"classes evaluated: {target_names}, idx: {target_idx}\")\n",
        "\n",
        "# adds the tag_idx column to the dataframe\n",
        "df_train[\"tag_idx\"] = df_train['tag'].map(lambda x: tags_dict[x])\n",
        "df_val[\"tag_idx\"] = df_val['tag'].map(lambda x: tags_dict[x])\n",
        "df_test[\"tag_idx\"] = df_test['tag'].map(lambda x: tags_dict[x])"
      ]
    },
    {
      "cell_type": "code",
      "execution_count": 17,
      "metadata": {
        "colab": {
          "base_uri": "https://localhost:8080/",
          "height": 457
        },
        "id": "0GbGKzpkxH6K",
        "outputId": "99e875ef-f8a8-4aea-aabb-e29f5af3cc78"
      },
      "outputs": [
        {
          "data": {
            "text/html": [
              "\n",
              "  <div id=\"df-7b21ab5c-a7c3-441c-857d-425e42185927\">\n",
              "    <div class=\"colab-df-container\">\n",
              "      <div>\n",
              "<style scoped>\n",
              "    .dataframe tbody tr th:only-of-type {\n",
              "        vertical-align: middle;\n",
              "    }\n",
              "\n",
              "    .dataframe tbody tr th {\n",
              "        vertical-align: top;\n",
              "    }\n",
              "\n",
              "    .dataframe thead th {\n",
              "        text-align: right;\n",
              "    }\n",
              "</style>\n",
              "<table border=\"1\" class=\"dataframe\">\n",
              "  <thead>\n",
              "    <tr style=\"text-align: right;\">\n",
              "      <th></th>\n",
              "      <th>file_id</th>\n",
              "      <th>sentence_id</th>\n",
              "      <th>token</th>\n",
              "      <th>tag</th>\n",
              "      <th>tag_idx</th>\n",
              "    </tr>\n",
              "  </thead>\n",
              "  <tbody>\n",
              "    <tr>\n",
              "      <th>0</th>\n",
              "      <td>0</td>\n",
              "      <td>0</td>\n",
              "      <td>Another</td>\n",
              "      <td>Non Toxic</td>\n",
              "      <td>0</td>\n",
              "    </tr>\n",
              "    <tr>\n",
              "      <th>1</th>\n",
              "      <td>0</td>\n",
              "      <td>0</td>\n",
              "      <td>violent</td>\n",
              "      <td>Toxic</td>\n",
              "      <td>1</td>\n",
              "    </tr>\n",
              "    <tr>\n",
              "      <th>2</th>\n",
              "      <td>0</td>\n",
              "      <td>0</td>\n",
              "      <td>and</td>\n",
              "      <td>Toxic</td>\n",
              "      <td>1</td>\n",
              "    </tr>\n",
              "    <tr>\n",
              "      <th>3</th>\n",
              "      <td>0</td>\n",
              "      <td>0</td>\n",
              "      <td>aggressive</td>\n",
              "      <td>Toxic</td>\n",
              "      <td>1</td>\n",
              "    </tr>\n",
              "    <tr>\n",
              "      <th>4</th>\n",
              "      <td>0</td>\n",
              "      <td>0</td>\n",
              "      <td>immigrant</td>\n",
              "      <td>Toxic</td>\n",
              "      <td>1</td>\n",
              "    </tr>\n",
              "    <tr>\n",
              "      <th>5</th>\n",
              "      <td>0</td>\n",
              "      <td>0</td>\n",
              "      <td>killing</td>\n",
              "      <td>Non Toxic</td>\n",
              "      <td>0</td>\n",
              "    </tr>\n",
              "    <tr>\n",
              "      <th>6</th>\n",
              "      <td>0</td>\n",
              "      <td>0</td>\n",
              "      <td>a</td>\n",
              "      <td>Non Toxic</td>\n",
              "      <td>0</td>\n",
              "    </tr>\n",
              "    <tr>\n",
              "      <th>7</th>\n",
              "      <td>0</td>\n",
              "      <td>0</td>\n",
              "      <td>innocent</td>\n",
              "      <td>Non Toxic</td>\n",
              "      <td>0</td>\n",
              "    </tr>\n",
              "    <tr>\n",
              "      <th>8</th>\n",
              "      <td>0</td>\n",
              "      <td>0</td>\n",
              "      <td>and</td>\n",
              "      <td>Toxic</td>\n",
              "      <td>1</td>\n",
              "    </tr>\n",
              "    <tr>\n",
              "      <th>9</th>\n",
              "      <td>0</td>\n",
              "      <td>0</td>\n",
              "      <td>intelligent</td>\n",
              "      <td>Non Toxic</td>\n",
              "      <td>0</td>\n",
              "    </tr>\n",
              "    <tr>\n",
              "      <th>10</th>\n",
              "      <td>0</td>\n",
              "      <td>0</td>\n",
              "      <td>US</td>\n",
              "      <td>Non Toxic</td>\n",
              "      <td>0</td>\n",
              "    </tr>\n",
              "    <tr>\n",
              "      <th>11</th>\n",
              "      <td>0</td>\n",
              "      <td>0</td>\n",
              "      <td>Citizen</td>\n",
              "      <td>Non Toxic</td>\n",
              "      <td>0</td>\n",
              "    </tr>\n",
              "    <tr>\n",
              "      <th>12</th>\n",
              "      <td>0</td>\n",
              "      <td>0</td>\n",
              "      <td>Sarcasm</td>\n",
              "      <td>Non Toxic</td>\n",
              "      <td>0</td>\n",
              "    </tr>\n",
              "  </tbody>\n",
              "</table>\n",
              "</div>\n",
              "      <button class=\"colab-df-convert\" onclick=\"convertToInteractive('df-7b21ab5c-a7c3-441c-857d-425e42185927')\"\n",
              "              title=\"Convert this dataframe to an interactive table.\"\n",
              "              style=\"display:none;\">\n",
              "        \n",
              "  <svg xmlns=\"http://www.w3.org/2000/svg\" height=\"24px\"viewBox=\"0 0 24 24\"\n",
              "       width=\"24px\">\n",
              "    <path d=\"M0 0h24v24H0V0z\" fill=\"none\"/>\n",
              "    <path d=\"M18.56 5.44l.94 2.06.94-2.06 2.06-.94-2.06-.94-.94-2.06-.94 2.06-2.06.94zm-11 1L8.5 8.5l.94-2.06 2.06-.94-2.06-.94L8.5 2.5l-.94 2.06-2.06.94zm10 10l.94 2.06.94-2.06 2.06-.94-2.06-.94-.94-2.06-.94 2.06-2.06.94z\"/><path d=\"M17.41 7.96l-1.37-1.37c-.4-.4-.92-.59-1.43-.59-.52 0-1.04.2-1.43.59L10.3 9.45l-7.72 7.72c-.78.78-.78 2.05 0 2.83L4 21.41c.39.39.9.59 1.41.59.51 0 1.02-.2 1.41-.59l7.78-7.78 2.81-2.81c.8-.78.8-2.07 0-2.86zM5.41 20L4 18.59l7.72-7.72 1.47 1.35L5.41 20z\"/>\n",
              "  </svg>\n",
              "      </button>\n",
              "      \n",
              "  <style>\n",
              "    .colab-df-container {\n",
              "      display:flex;\n",
              "      flex-wrap:wrap;\n",
              "      gap: 12px;\n",
              "    }\n",
              "\n",
              "    .colab-df-convert {\n",
              "      background-color: #E8F0FE;\n",
              "      border: none;\n",
              "      border-radius: 50%;\n",
              "      cursor: pointer;\n",
              "      display: none;\n",
              "      fill: #1967D2;\n",
              "      height: 32px;\n",
              "      padding: 0 0 0 0;\n",
              "      width: 32px;\n",
              "    }\n",
              "\n",
              "    .colab-df-convert:hover {\n",
              "      background-color: #E2EBFA;\n",
              "      box-shadow: 0px 1px 2px rgba(60, 64, 67, 0.3), 0px 1px 3px 1px rgba(60, 64, 67, 0.15);\n",
              "      fill: #174EA6;\n",
              "    }\n",
              "\n",
              "    [theme=dark] .colab-df-convert {\n",
              "      background-color: #3B4455;\n",
              "      fill: #D2E3FC;\n",
              "    }\n",
              "\n",
              "    [theme=dark] .colab-df-convert:hover {\n",
              "      background-color: #434B5C;\n",
              "      box-shadow: 0px 1px 3px 1px rgba(0, 0, 0, 0.15);\n",
              "      filter: drop-shadow(0px 1px 2px rgba(0, 0, 0, 0.3));\n",
              "      fill: #FFFFFF;\n",
              "    }\n",
              "  </style>\n",
              "\n",
              "      <script>\n",
              "        const buttonEl =\n",
              "          document.querySelector('#df-7b21ab5c-a7c3-441c-857d-425e42185927 button.colab-df-convert');\n",
              "        buttonEl.style.display =\n",
              "          google.colab.kernel.accessAllowed ? 'block' : 'none';\n",
              "\n",
              "        async function convertToInteractive(key) {\n",
              "          const element = document.querySelector('#df-7b21ab5c-a7c3-441c-857d-425e42185927');\n",
              "          const dataTable =\n",
              "            await google.colab.kernel.invokeFunction('convertToInteractive',\n",
              "                                                     [key], {});\n",
              "          if (!dataTable) return;\n",
              "\n",
              "          const docLinkHtml = 'Like what you see? Visit the ' +\n",
              "            '<a target=\"_blank\" href=https://colab.research.google.com/notebooks/data_table.ipynb>data table notebook</a>'\n",
              "            + ' to learn more about interactive tables.';\n",
              "          element.innerHTML = '';\n",
              "          dataTable['output_type'] = 'display_data';\n",
              "          await google.colab.output.renderOutput(dataTable, element);\n",
              "          const docLink = document.createElement('div');\n",
              "          docLink.innerHTML = docLinkHtml;\n",
              "          element.appendChild(docLink);\n",
              "        }\n",
              "      </script>\n",
              "    </div>\n",
              "  </div>\n",
              "  "
            ],
            "text/plain": [
              "    file_id  sentence_id        token        tag  tag_idx\n",
              "0         0            0      Another  Non Toxic        0\n",
              "1         0            0      violent      Toxic        1\n",
              "2         0            0          and      Toxic        1\n",
              "3         0            0   aggressive      Toxic        1\n",
              "4         0            0    immigrant      Toxic        1\n",
              "5         0            0      killing  Non Toxic        0\n",
              "6         0            0            a  Non Toxic        0\n",
              "7         0            0     innocent  Non Toxic        0\n",
              "8         0            0          and      Toxic        1\n",
              "9         0            0  intelligent  Non Toxic        0\n",
              "10        0            0           US  Non Toxic        0\n",
              "11        0            0      Citizen  Non Toxic        0\n",
              "12        0            0      Sarcasm  Non Toxic        0"
            ]
          },
          "execution_count": 17,
          "metadata": {},
          "output_type": "execute_result"
        }
      ],
      "source": [
        "df_train.loc[df_train['file_id'] == 0]"
      ]
    },
    {
      "cell_type": "markdown",
      "metadata": {
        "id": "WGb06BZfdKW4"
      },
      "source": [
        "# Preprocessing"
      ]
    },
    {
      "cell_type": "markdown",
      "metadata": {
        "id": "Bmd3Eu6ZdKW4"
      },
      "source": [
        "Since the GloVe dictionary is uncased, we decided to perform a simple operation of preprocessing converting to lowercase our training set."
      ]
    },
    {
      "cell_type": "code",
      "execution_count": 18,
      "metadata": {
        "execution": {
          "iopub.execute_input": "2022-11-30T14:36:41.872467Z",
          "iopub.status.busy": "2022-11-30T14:36:41.871578Z",
          "iopub.status.idle": "2022-11-30T14:36:41.902739Z",
          "shell.execute_reply": "2022-11-30T14:36:41.901450Z",
          "shell.execute_reply.started": "2022-11-30T14:36:41.872401Z"
        },
        "id": "LzeNUvtx56qG",
        "trusted": true
      },
      "outputs": [],
      "source": [
        "# lowercase tokens in the dataset\n",
        "df_train['token'] = df_train['token'].map(str.lower)\n",
        "df_val['token'] = df_val['token'].map(str.lower)\n",
        "df_test['token'] = df_test['token'].map(str.lower)\n"
      ]
    },
    {
      "cell_type": "code",
      "execution_count": 19,
      "metadata": {
        "execution": {
          "iopub.execute_input": "2022-11-30T14:36:41.905483Z",
          "iopub.status.busy": "2022-11-30T14:36:41.904487Z",
          "iopub.status.idle": "2022-11-30T14:36:41.931407Z",
          "shell.execute_reply": "2022-11-30T14:36:41.929974Z",
          "shell.execute_reply.started": "2022-11-30T14:36:41.905429Z"
        },
        "id": "deVC46r72m7P",
        "trusted": true
      },
      "outputs": [],
      "source": [
        "# Create a copy of the train, validation and test dataset in another variable \n",
        "# Train set\n",
        "train = df_train.copy()\n",
        "# Validation set\n",
        "val = df_val.copy()\n",
        "# Test set\n",
        "test = df_test.copy()"
      ]
    },
    {
      "cell_type": "markdown",
      "metadata": {
        "id": "nhEaUmml2m7Q"
      },
      "source": [
        "# GloVe embeddings\n"
      ]
    },
    {
      "cell_type": "code",
      "execution_count": 20,
      "metadata": {
        "colab": {
          "base_uri": "https://localhost:8080/"
        },
        "execution": {
          "iopub.execute_input": "2022-11-30T14:36:43.463418Z",
          "iopub.status.busy": "2022-11-30T14:36:43.462553Z",
          "iopub.status.idle": "2022-11-30T14:37:28.678625Z",
          "shell.execute_reply": "2022-11-30T14:37:28.677317Z",
          "shell.execute_reply.started": "2022-11-30T14:36:43.463364Z"
        },
        "id": "kiDJs8vf2m7R",
        "outputId": "c78ba3e6-81aa-48ef-a1a5-d5b7699dbb14",
        "trusted": true
      },
      "outputs": [
        {
          "name": "stdout",
          "output_type": "stream",
          "text": [
            "[==================================================] 100.0% 128.1/128.1MB downloaded\n",
            "[',', '.', 'of', 'to', 'and', 'in', 'a', '\"', \"'s\", 'for', '-', 'that', 'on', 'is', 'was', 'said', 'with', 'he', 'as', 'it', 'by', 'at', '(', ')', 'from', 'his', \"''\", '``', 'an']\n"
          ]
        }
      ],
      "source": [
        "# Define wanted embedding dimension\n",
        "embedding_dimension = 100\n",
        "\n",
        "# Download and load wikipedia GloVe embeddings\n",
        "download_path = \"glove-wiki-gigaword-{}\".format(embedding_dimension)\n",
        "emb_model = gloader.load(download_path)\n",
        "\n",
        "# print some of the word tokens\n",
        "print(emb_model.index_to_key[1:30])"
      ]
    },
    {
      "cell_type": "code",
      "execution_count": 21,
      "metadata": {
        "colab": {
          "base_uri": "https://localhost:8080/"
        },
        "execution": {
          "iopub.execute_input": "2022-11-30T14:37:28.681401Z",
          "iopub.status.busy": "2022-11-30T14:37:28.680564Z",
          "iopub.status.idle": "2022-11-30T14:37:44.067523Z",
          "shell.execute_reply": "2022-11-30T14:37:44.065394Z",
          "shell.execute_reply.started": "2022-11-30T14:37:28.681346Z"
        },
        "id": "i8SZ94415D7s",
        "outputId": "4cdc6610-e714-4dc5-ee20-5ebe90701bfa",
        "trusted": true
      },
      "outputs": [
        {
          "name": "stdout",
          "output_type": "stream",
          "text": [
            "Looking in indexes: https://pypi.org/simple, https://us-python.pkg.dev/colab-wheels/public/simple/\n",
            "Collecting ordered-set\n",
            "  Downloading ordered_set-4.1.0-py3-none-any.whl (7.6 kB)\n",
            "Installing collected packages: ordered-set\n",
            "Successfully installed ordered-set-4.1.0\n"
          ]
        }
      ],
      "source": [
        "!pip install ordered-set"
      ]
    },
    {
      "cell_type": "code",
      "execution_count": 22,
      "metadata": {
        "execution": {
          "iopub.execute_input": "2022-11-30T14:37:44.072548Z",
          "iopub.status.busy": "2022-11-30T14:37:44.071911Z",
          "iopub.status.idle": "2022-11-30T14:37:44.091073Z",
          "shell.execute_reply": "2022-11-30T14:37:44.088879Z",
          "shell.execute_reply.started": "2022-11-30T14:37:44.072487Z"
        },
        "id": "HcA8Ojmi2m7U",
        "trusted": true
      },
      "outputs": [],
      "source": [
        "# Create Out of Vocabulary (OOV) embeddings\n",
        "\n",
        "from ordered_set import OrderedSet # to make our vocabulary indeces always the same (reproducibility)\n",
        "\n",
        "def check_OOV_terms(embedding_model: gensim.models.keyedvectors.KeyedVectors,\n",
        "                    dataframe: pd.DataFrame):\n",
        "    \"\"\"\n",
        "    Checks differences between pre-trained embedding model vocabulary\n",
        "    and dataset specific vocabulary in order to highlight out-of-vocabulary terms.\n",
        "\n",
        "    :param embedding_model: pre-trained word embedding model (gensim wrapper)\n",
        "    :param word_listing: dataset specific vocabulary (list)\n",
        "\n",
        "    :return\n",
        "        - list of OOV terms\n",
        "    \"\"\"\n",
        "\n",
        "    # Set of all the terms in the GloVe embedding\n",
        "    embedding_vocabulary = OrderedSet(embedding_model.index_to_key)\n",
        "\n",
        "    # OOV = gloveTerms - ourDataframeTerms \n",
        "    oov = OrderedSet(dataframe[\"token\"]).difference(embedding_vocabulary)\n",
        "    return list(oov)"
      ]
    },
    {
      "cell_type": "code",
      "execution_count": 23,
      "metadata": {
        "colab": {
          "base_uri": "https://localhost:8080/"
        },
        "execution": {
          "iopub.execute_input": "2022-11-30T14:37:44.095828Z",
          "iopub.status.busy": "2022-11-30T14:37:44.094737Z",
          "iopub.status.idle": "2022-11-30T14:37:44.107573Z",
          "shell.execute_reply": "2022-11-30T14:37:44.104411Z",
          "shell.execute_reply.started": "2022-11-30T14:37:44.095744Z"
        },
        "id": "uy5jnbKk2m7U",
        "outputId": "8cb36d92-da63-4ca4-908d-5177491ed9bc",
        "trusted": true
      },
      "outputs": [
        {
          "name": "stdout",
          "output_type": "stream",
          "text": [
            "Pre oov-adding vocabulary dimension: 400000\n"
          ]
        }
      ],
      "source": [
        "# Number of terms in the original vocabulary\n",
        "v1_last_index = len(emb_model.index_to_key)-1  # index where V1 ends\n",
        "print(\"Pre oov-adding vocabulary dimension:\", v1_last_index+1)"
      ]
    },
    {
      "cell_type": "code",
      "execution_count": 24,
      "metadata": {
        "colab": {
          "base_uri": "https://localhost:8080/"
        },
        "execution": {
          "iopub.execute_input": "2022-11-30T14:37:44.110983Z",
          "iopub.status.busy": "2022-11-30T14:37:44.109904Z",
          "iopub.status.idle": "2022-11-30T14:37:46.522484Z",
          "shell.execute_reply": "2022-11-30T14:37:46.521170Z",
          "shell.execute_reply.started": "2022-11-30T14:37:44.110909Z"
        },
        "id": "fH2rDczP2m7V",
        "outputId": "041631cf-b754-47cd-8c6e-87b8bd736290",
        "trusted": true
      },
      "outputs": [
        {
          "name": "stdout",
          "output_type": "stream",
          "text": [
            "oov words in trainset: 3477\n",
            "oov words in valset: 312\n",
            "oov words in testset: 844\n",
            "total: 4633\n"
          ]
        }
      ],
      "source": [
        "# Get the OOV\n",
        "oov1 = check_OOV_terms(embedding_model=emb_model, dataframe=train)\n",
        "oov2 = check_OOV_terms(embedding_model=emb_model, dataframe=val)\n",
        "oov3 = check_OOV_terms(embedding_model=emb_model, dataframe=test)\n",
        "\n",
        "print(\"oov words in trainset:\", len(oov1))\n",
        "print(\"oov words in valset:\", len(oov2))\n",
        "print(\"oov words in testset:\", len(oov3))\n",
        "print(\"total:\", len(oov1)+len(oov2)+len(oov3))"
      ]
    },
    {
      "cell_type": "code",
      "execution_count": 25,
      "metadata": {
        "colab": {
          "base_uri": "https://localhost:8080/"
        },
        "execution": {
          "iopub.execute_input": "2022-11-30T14:37:46.539631Z",
          "iopub.status.busy": "2022-11-30T14:37:46.538500Z",
          "iopub.status.idle": "2022-11-30T14:37:46.659625Z",
          "shell.execute_reply": "2022-11-30T14:37:46.658360Z",
          "shell.execute_reply.started": "2022-11-30T14:37:46.539578Z"
        },
        "id": "XsZ-cm6l2m7V",
        "outputId": "e16c09e2-4d37-4752-f99a-204b3435bfc1",
        "trusted": true
      },
      "outputs": [
        {
          "name": "stdout",
          "output_type": "stream",
          "text": [
            "Using randomly generated embedding vectors from gaussian distribution (mean: 0.004, std. dev: 0.408)\n",
            "The vocabulary now contains 404408 tokens.\n"
          ]
        }
      ],
      "source": [
        "# bools for the embedding criteria\n",
        "use_zero_vectors = False # in this run we use random vectors\n",
        "use_random_vectors = ~use_zero_vectors\n",
        "if use_zero_vectors:\n",
        "  print('Using 0s as embedding vectors')\n",
        "  generate_emb_vector = lambda: np.zeros(embedding_dimension)\n",
        "elif use_random_vectors:\n",
        "  glove_emb_std = np.std(emb_model.vectors[:v1_last_index])\n",
        "  glove_emb_mean = np.mean(emb_model.vectors[:v1_last_index])\n",
        "  print(f'Using randomly generated embedding vectors from gaussian distribution (mean: {glove_emb_mean:.3f}, std. dev: {glove_emb_std:.3f})')\n",
        "  generate_emb_vector = lambda: np.random.normal(size=embedding_dimension, loc=glove_emb_mean, scale=glove_emb_std)\n",
        "\n",
        "# idx of <PAD>\n",
        "PAD_INDEX = v1_last_index + 1\n",
        "# embedding value of <PAD>\n",
        "pad_vector = generate_emb_vector()\n",
        "# adding the pad, train, val, test oov words in sequence\n",
        "emb_model.add_vectors(['<PAD>'] + oov1, [pad_vector] + [generate_emb_vector() for _ in range(0, len(oov1))])\n",
        "\n",
        "v2_last_index = len(emb_model.index_to_key)\n",
        "emb_model.add_vectors(oov2, [generate_emb_vector() for _ in range(0, len(oov2))])\n",
        "\n",
        "v3_last_index = len(emb_model.index_to_key)\n",
        "emb_model.add_vectors(oov3, [generate_emb_vector() for _ in range(0, len(oov3))])\n",
        "\n",
        "v4_last_index = len(emb_model.index_to_key)\n",
        "\n",
        "print(f'The vocabulary now contains {len(emb_model)} tokens.') \n",
        "# note that when duplicate oov words from one dataset are added to the KeyedVector the value is not updated. this is fine."
      ]
    },
    {
      "cell_type": "code",
      "execution_count": 26,
      "metadata": {
        "execution": {
          "iopub.execute_input": "2022-11-30T14:37:46.677821Z",
          "iopub.status.busy": "2022-11-30T14:37:46.675716Z",
          "iopub.status.idle": "2022-11-30T14:37:46.762557Z",
          "shell.execute_reply": "2022-11-30T14:37:46.761297Z",
          "shell.execute_reply.started": "2022-11-30T14:37:46.677755Z"
        },
        "id": "BINcyzGW2m7X",
        "trusted": true
      },
      "outputs": [],
      "source": [
        "# Map tokens to integers\n",
        "#All the terms in our dataframe will now be remapped to the corresponding glove embedding index in order to be later used as input to our models.\n",
        "\n",
        "# Create the token_idx column in our dataframe\n",
        "train[\"token_idx\"] = train[\"token\"].map(lambda x : emb_model.key_to_index[x])\n",
        "val[\"token_idx\"] = val[\"token\"].map(lambda x : emb_model.key_to_index[x]) \n",
        "test[\"token_idx\"] = test[\"token\"].map(lambda x : emb_model.key_to_index[x])"
      ]
    },
    {
      "cell_type": "markdown",
      "metadata": {
        "id": "1mbQXjD_2m7Y"
      },
      "source": [
        "# GRU Model Definition\n",
        "\n",
        "**GRU**: Simple GRU architecture.\n",
        "\n",
        "- Bidirectional GRU layer \n",
        "- Dense/Fully-Connected layer\n"
      ]
    },
    {
      "cell_type": "markdown",
      "metadata": {
        "id": "BWEZLxKxdKW8"
      },
      "source": [
        "$\\alpha$ parameter setup. See the report for more details (or [stackexchange post](https://stats.stackexchange.com/questions/181/how-to-choose-the-number-of-hidden-layers-and-nodes-in-a-feedforward-neural-netw/136542#136542))"
      ]
    },
    {
      "cell_type": "code",
      "execution_count": 27,
      "metadata": {
        "execution": {
          "iopub.execute_input": "2022-11-30T14:37:46.765245Z",
          "iopub.status.busy": "2022-11-30T14:37:46.764720Z",
          "iopub.status.idle": "2022-11-30T14:37:46.775057Z",
          "shell.execute_reply": "2022-11-30T14:37:46.773381Z",
          "shell.execute_reply.started": "2022-11-30T14:37:46.765179Z"
        },
        "id": "WZqwSFV0et6x",
        "trusted": true
      },
      "outputs": [],
      "source": [
        "def adapt_power_of_two(n):\n",
        "    \"\"\"Returns the closest power of 2 to the given input value.\"\"\"\n",
        "    if n<0:\n",
        "      raise ValueError('This parameter must be positive')\n",
        "        \n",
        "    maximum = np.ceil(math.log(n,2))\n",
        "    max_pow_of_two = 2**maximum\n",
        "    minimum = np.floor(math.log(n,2)) \n",
        "    min_pow_of_two = 2**minimum\n",
        " \n",
        "    if (max_pow_of_two - n) <= (n - min_pow_of_two ):\n",
        "        return int(max_pow_of_two)\n",
        "    else:\n",
        "        return int(min_pow_of_two)\n",
        "    "
      ]
    },
    {
      "cell_type": "markdown",
      "metadata": {
        "id": "kTiWaKWEiiNH"
      },
      "source": [
        "Function which computes the number of hidden layers."
      ]
    },
    {
      "cell_type": "code",
      "execution_count": 28,
      "metadata": {
        "execution": {
          "iopub.execute_input": "2022-11-30T14:37:46.787825Z",
          "iopub.status.busy": "2022-11-30T14:37:46.786954Z",
          "iopub.status.idle": "2022-11-30T14:37:46.798119Z",
          "shell.execute_reply": "2022-11-30T14:37:46.795512Z",
          "shell.execute_reply.started": "2022-11-30T14:37:46.787782Z"
        },
        "id": "USpW9d1bet6x",
        "trusted": true
      },
      "outputs": [],
      "source": [
        "# Number of hidden layers\n",
        "def compute_n_hidden_layers(n_samples, n_input, n_output, alpha):\n",
        "    n_hidden_layers = n_samples // (alpha * (n_input+n_output))\n",
        "    return n_hidden_layers"
      ]
    },
    {
      "cell_type": "markdown",
      "metadata": {
        "id": "K4CrLoIuCsWW"
      },
      "source": [
        "## Bidirectional GRU Model\n"
      ]
    },
    {
      "cell_type": "code",
      "execution_count": 29,
      "metadata": {
        "execution": {
          "iopub.execute_input": "2022-11-30T14:37:46.836284Z",
          "iopub.status.busy": "2022-11-30T14:37:46.833787Z",
          "iopub.status.idle": "2022-11-30T14:37:46.850916Z",
          "shell.execute_reply": "2022-11-30T14:37:46.849352Z",
          "shell.execute_reply.started": "2022-11-30T14:37:46.836201Z"
        },
        "id": "PwuN_ggRCjtX",
        "trusted": true
      },
      "outputs": [],
      "source": [
        "class GRU_Model(nn.Module):\n",
        "    def __init__(self, \n",
        "                 emb_model, \n",
        "                 input_dim,\n",
        "                 embedding_dim, \n",
        "                 hidden_dim, \n",
        "                 output_dim, \n",
        "                 n_layers,\n",
        "                 bidirectional,\n",
        "                 padding_index):\n",
        "        \n",
        "        super().__init__()\n",
        "        \n",
        "        self.embedding = nn.Embedding(input_dim, embedding_dim, padding_idx = padding_index).requires_grad_(False)\n",
        "        \n",
        "        self.embedding.weights = nn.Parameter(torch.from_numpy(emb_model.vectors))\n",
        "        \n",
        "        self.gru = nn.GRU(embedding_dim, \n",
        "                            hidden_dim // 2, \n",
        "                            num_layers = n_layers, \n",
        "                            bidirectional = bidirectional,\n",
        "                            batch_first=True)\n",
        "        \n",
        "        self.fc = nn.Linear(hidden_dim, output_dim) \n",
        "        self.softmax = nn.Softmax(dim = 1)\n",
        "\n",
        "    def forward(self, text):\n",
        "        \n",
        "        embedded = self.embedding(text)\n",
        "        \n",
        "        outputs, (hidden) = self.gru(embedded)\n",
        "        \n",
        "        outputs = self.fc(outputs)\n",
        "\n",
        "        predictions = outputs      \n",
        "        return predictions"
      ]
    },
    {
      "cell_type": "markdown",
      "metadata": {
        "id": "qfwmWoDa2m7a"
      },
      "source": [
        "# Training and Evaluation definitions"
      ]
    },
    {
      "cell_type": "code",
      "execution_count": 30,
      "metadata": {
        "colab": {
          "base_uri": "https://localhost:8080/"
        },
        "execution": {
          "iopub.execute_input": "2022-11-30T14:37:47.808694Z",
          "iopub.status.busy": "2022-11-30T14:37:47.807039Z",
          "iopub.status.idle": "2022-11-30T14:37:47.885413Z",
          "shell.execute_reply": "2022-11-30T14:37:47.883529Z",
          "shell.execute_reply.started": "2022-11-30T14:37:47.808635Z"
        },
        "id": "jwaffxC6STTf",
        "outputId": "f984a4b4-e02b-4dc1-aacc-aa56ddb16b0c",
        "trusted": true
      },
      "outputs": [
        {
          "name": "stdout",
          "output_type": "stream",
          "text": [
            "cuda\n"
          ]
        }
      ],
      "source": [
        "# Loss function\n",
        "criterion = nn.CrossEntropyLoss(ignore_index = PAD_INDEX)\n",
        "\n",
        "# Check for GPU\n",
        "device = torch.device('cuda' if torch.cuda.is_available() else 'cpu')\n",
        "print(device)"
      ]
    },
    {
      "cell_type": "markdown",
      "metadata": {
        "id": "6WVyd3sQdKW-"
      },
      "source": [
        "Validation metric"
      ]
    },
    {
      "cell_type": "code",
      "execution_count": 31,
      "metadata": {
        "execution": {
          "iopub.execute_input": "2022-11-30T14:37:52.945211Z",
          "iopub.status.busy": "2022-11-30T14:37:52.942606Z",
          "iopub.status.idle": "2022-11-30T14:37:52.955046Z",
          "shell.execute_reply": "2022-11-30T14:37:52.953560Z",
          "shell.execute_reply.started": "2022-11-30T14:37:52.945135Z"
        },
        "id": "b-g8OyNwhBNS",
        "trusted": true
      },
      "outputs": [],
      "source": [
        "def categorical_accuracy(preds, y, tag_pad_idx):\n",
        "    \"\"\"\n",
        "    Returns accuracy per batch, i.e. if you get 8/10 right, this returns 0.8, NOT 8\n",
        "    \"\"\"\n",
        "    max_preds = preds.argmax(dim = 1, keepdim = True) # get the index of the max probability\n",
        "    non_pad_elements = (y != tag_pad_idx).nonzero()\n",
        "    correct = max_preds[non_pad_elements].squeeze(1).eq(y[non_pad_elements])\n",
        "    return correct.sum() / y[non_pad_elements].shape[0]"
      ]
    },
    {
      "cell_type": "markdown",
      "metadata": {
        "id": "Qm8Q7XE5dKW-"
      },
      "source": [
        "Simple training loop"
      ]
    },
    {
      "cell_type": "code",
      "execution_count": 32,
      "metadata": {
        "execution": {
          "iopub.execute_input": "2022-11-30T14:37:52.958837Z",
          "iopub.status.busy": "2022-11-30T14:37:52.957594Z",
          "iopub.status.idle": "2022-11-30T14:37:52.970301Z",
          "shell.execute_reply": "2022-11-30T14:37:52.968898Z",
          "shell.execute_reply.started": "2022-11-30T14:37:52.958778Z"
        },
        "id": "306CjF2Q56qR",
        "trusted": true
      },
      "outputs": [],
      "source": [
        "def train_model(model, iterator, optimizer, criterion, tag_pad_idx):\n",
        "    \n",
        "    epoch_loss = 0\n",
        "    epoch_acc = 0\n",
        "    \n",
        "    model.train()\n",
        "    \n",
        "    for batch in iterator:\n",
        "        text = batch[0]\n",
        "        tags = batch[1]\n",
        "  \n",
        "        optimizer.zero_grad()\n",
        "                \n",
        "        predictions = model(text)\n",
        "        \n",
        "        predictions = predictions.view(-1, predictions.shape[-1])\n",
        "        tags = tags.view(-1)\n",
        "        \n",
        "        loss = criterion(predictions, tags)\n",
        "                \n",
        "        acc = categorical_accuracy(predictions, tags, tag_pad_idx)\n",
        "        loss.backward()\n",
        "        \n",
        "        optimizer.step()\n",
        "        \n",
        "        epoch_loss += loss.item()\n",
        "        epoch_acc += acc.item()\n",
        "        \n",
        "    return epoch_loss / len(iterator), epoch_acc / len(iterator)"
      ]
    },
    {
      "cell_type": "markdown",
      "metadata": {
        "id": "3vY3meLDdKW_"
      },
      "source": [
        "Evaluation loop"
      ]
    },
    {
      "cell_type": "code",
      "execution_count": 33,
      "metadata": {
        "execution": {
          "iopub.execute_input": "2022-11-30T14:37:52.972848Z",
          "iopub.status.busy": "2022-11-30T14:37:52.972242Z",
          "iopub.status.idle": "2022-11-30T14:37:52.988471Z",
          "shell.execute_reply": "2022-11-30T14:37:52.986647Z",
          "shell.execute_reply.started": "2022-11-30T14:37:52.972798Z"
        },
        "id": "Ragxlirw56qS",
        "trusted": true
      },
      "outputs": [],
      "source": [
        "def eval_model(model, iterator, criterion, tag_pad_idx):\n",
        "    \n",
        "    epoch_loss = 0\n",
        "    epoch_acc = 0\n",
        "    \n",
        "    model.eval()\n",
        "    \n",
        "    with torch.no_grad():\n",
        "    \n",
        "        for batch in iterator:\n",
        "            text = batch[0]\n",
        "            tags = batch[1]\n",
        "            \n",
        "            predictions = model(text)\n",
        "            \n",
        "            predictions = predictions.view(-1, predictions.shape[-1])\n",
        "            tags = tags.view(-1)\n",
        "            \n",
        "            loss = criterion(predictions, tags)\n",
        "            \n",
        "            acc = categorical_accuracy(predictions, tags, tag_pad_idx)\n",
        "\n",
        "            epoch_loss += loss.item()\n",
        "            epoch_acc += acc.item()\n",
        "        \n",
        "    return epoch_loss / len(iterator), epoch_acc / len(iterator)"
      ]
    },
    {
      "cell_type": "markdown",
      "metadata": {
        "id": "LmKM7_D6r0Tr"
      },
      "source": [
        "Early stopper for our training"
      ]
    },
    {
      "cell_type": "code",
      "execution_count": 34,
      "metadata": {
        "execution": {
          "iopub.execute_input": "2022-11-30T14:37:53.065275Z",
          "iopub.status.busy": "2022-11-30T14:37:53.063385Z",
          "iopub.status.idle": "2022-11-30T14:37:53.076605Z",
          "shell.execute_reply": "2022-11-30T14:37:53.075039Z",
          "shell.execute_reply.started": "2022-11-30T14:37:53.065184Z"
        },
        "id": "L-Kr4uU1rs5h",
        "trusted": true
      },
      "outputs": [],
      "source": [
        "# from https://stackoverflow.com/questions/71998978/early-stopping-in-pytorch\n",
        "class EarlyStopper:\n",
        "    def __init__(self, patience=1, min_delta=0):\n",
        "        self.patience = patience\n",
        "        self.min_delta = min_delta\n",
        "        self.counter = 0\n",
        "        self.min_validation_loss = np.inf\n",
        "\n",
        "    def early_stop(self, validation_loss):\n",
        "        # If the val loss is less than our previous \"best\" loss, let the model improve\n",
        "        if validation_loss < self.min_validation_loss:\n",
        "            self.min_validation_loss = validation_loss\n",
        "            self.counter = 0\n",
        "        # If the val loss is higher than our previous \"best\" loss, increase patience\n",
        "        elif validation_loss > (self.min_validation_loss + self.min_delta):\n",
        "            self.counter += 1\n",
        "\n",
        "            # If max patience is reached, stop training\n",
        "            if self.counter >= self.patience:\n",
        "                return True\n",
        "        return False"
      ]
    },
    {
      "cell_type": "markdown",
      "metadata": {
        "id": "d2FtiC26dKW_"
      },
      "source": [
        "Function to get predictions from any model, on any dataset"
      ]
    },
    {
      "cell_type": "code",
      "execution_count": 35,
      "metadata": {
        "id": "gbMB0qR-cmhb"
      },
      "outputs": [],
      "source": [
        "def get_predictions(model, iterator, tag_pad_idx, ignore_idx=[], target_names=target_names, target_idx=target_idx):\n",
        "    \"\"\"Computes predictions for the sequences given, returns the filtered predictions and targets, removing padding and ignored indexes (e.g. punctuation).\"\"\"\n",
        "    model.eval()\n",
        "    with torch.no_grad():\n",
        "        # to have all predictions at once\n",
        "      epoch_predictions = torch.Tensor().to(device)\n",
        "      epoch_tags = torch.LongTensor().to(device)\n",
        "      for batch in iterator:\n",
        "        text = batch[0]\n",
        "        tags = batch[1]\n",
        "        \n",
        "        predictions = model(text)\n",
        "        # concatenate values\n",
        "        epoch_predictions = torch.cat([epoch_predictions, predictions.view(-1, predictions.shape[-1])],dim=0)\n",
        "        epoch_tags = torch.cat([epoch_tags, tags.view(-1)],dim=0)\n",
        "    # indeces of punctuation and padding (ignored)\n",
        "    pads_or_punct = torch.IntTensor([tag_pad_idx]+ignore_idx).to(device)\n",
        "    # mask to filter tags\n",
        "    non_pad_or_punct_elements = torch.isin(elements=epoch_tags,test_elements=pads_or_punct,invert=True)\n",
        "    # argmax to get the model's most confident tag\n",
        "    epoch_predictions = torch.argmax(epoch_predictions, dim=1)\n",
        "\n",
        "    # apply mask to remove punctuation\n",
        "    filtered_predictions = epoch_predictions[non_pad_or_punct_elements]\n",
        "    filtered_tags = epoch_tags[non_pad_or_punct_elements]\n",
        "    \n",
        "    filtered_predictions = filtered_predictions.cpu()\n",
        "    filtered_tags = filtered_tags.cpu()\n",
        "\n",
        "    return filtered_predictions, filtered_tags"
      ]
    },
    {
      "cell_type": "markdown",
      "metadata": {
        "id": "ua8hAPPgdKXA"
      },
      "source": [
        "## Definitions for the analysis of results "
      ]
    },
    {
      "cell_type": "code",
      "execution_count": 36,
      "metadata": {
        "execution": {
          "iopub.execute_input": "2022-11-30T16:55:05.867185Z",
          "iopub.status.busy": "2022-11-30T16:55:05.866745Z",
          "iopub.status.idle": "2022-11-30T16:55:05.881519Z",
          "shell.execute_reply": "2022-11-30T16:55:05.880103Z",
          "shell.execute_reply.started": "2022-11-30T16:55:05.867148Z"
        },
        "id": "XlOfk79zHnnT",
        "trusted": true
      },
      "outputs": [],
      "source": [
        "def get_classification_report(y_pred, y_true, target_names=target_names, target_idx=target_idx):\n",
        "    \"\"\"Given the predictions and targets, returns the sklearn classification report.\n",
        "    target_names: the class names to display.\n",
        "    target_idx: the class indeces.\"\"\"\n",
        "\n",
        "    report = classification_report(y_true=y_true, y_pred=y_pred, target_names=target_names, labels=target_idx, zero_division=0)\n",
        "    return report"
      ]
    },
    {
      "cell_type": "code",
      "execution_count": 37,
      "metadata": {
        "id": "WCz5eR2Xd_nG"
      },
      "outputs": [],
      "source": [
        "def plot_confusion_matrix(y_pred, y_true, target_names=target_names, target_idx=target_idx, normalize='true', title=None):\n",
        "    \"\"\"Given the predictions and targets, plots the confusion matrix using sklearn.\n",
        "    target_names: the class names to display.\n",
        "    target_idx: the class indeces.\n",
        "    normalize: 'true', 'pred', 'all' or None. Whether to normalize values by true class, by predictions, by total samples, or not normalize at all.  \"\"\"\n",
        "    \n",
        "    f = plt.figure(figsize=(10,10))\n",
        "    ax = f.add_subplot(111)\n",
        "    ax.set_title(title)\n",
        "    ConfusionMatrixDisplay.from_predictions(y_true=y_true, y_pred=y_pred, normalize=normalize, labels = target_idx, display_labels=target_names, \n",
        "                                            ax=ax, include_values=True, xticks_rotation='vertical')\n",
        "    plt.plot()"
      ]
    },
    {
      "cell_type": "markdown",
      "metadata": {
        "id": "bdCD9WItdKXA"
      },
      "source": [
        "## Definitions for dataloader and padding"
      ]
    },
    {
      "cell_type": "code",
      "execution_count": 38,
      "metadata": {
        "execution": {
          "iopub.execute_input": "2022-11-30T14:37:53.010033Z",
          "iopub.status.busy": "2022-11-30T14:37:53.008804Z",
          "iopub.status.idle": "2022-11-30T14:37:53.027947Z",
          "shell.execute_reply": "2022-11-30T14:37:53.026341Z",
          "shell.execute_reply.started": "2022-11-30T14:37:53.009962Z"
        },
        "id": "YJAbTDIx56qT",
        "trusted": true
      },
      "outputs": [],
      "source": [
        "# wrapper class for dataframe. give it to the dataloader\n",
        "from torch.utils.data import Dataset\n",
        "\n",
        "class PandasDataset(Dataset):\n",
        "    def __init__(self, dataframe):\n",
        "\n",
        "        self.dataframe = dataframe\n",
        "\n",
        "        # Get the list of the sentence_id\n",
        "        sentence_values = pd.DataFrame(pd.unique(dataframe[\"sentence_id\"]))[0]\n",
        "\n",
        "        # Create the serie of all the sentences\n",
        "        sentence = sentence_values.map(lambda n : self.__make_sentence__(dataframe, n, 'token_idx')).to_frame()\n",
        "\n",
        "        # Also add the same sentence but formed with the tags of each word\n",
        "        sentence_tags = sentence_values.map(lambda n : self.__make_sentence__(dataframe, n, 'tag_idx')).to_frame()\n",
        "        sentence['tags'] = sentence_tags[0]\n",
        "        sentence = sentence.rename(columns={0: 'tokens'})\n",
        "        self.sentence = sentence\n",
        "        \n",
        "    def __make_sentence__(self, dataframe, n, column):\n",
        "        \"\"\"Given the dataframe and the index of the sentence, create an array composed\n",
        "         by the sequence of indexes of terms of that specific sentence\n",
        "         :param dataframe: pandas dataframe\n",
        "         :param n: index of the sentence\n",
        "         :return - array of the sentence formed by the term indexes\"\"\"\n",
        "        l = dataframe.index[dataframe['sentence_id'] == n]\n",
        "        return np.array(dataframe.loc[l, column])\n",
        "\n",
        "    def __len__(self):\n",
        "        return len(self.sentence)\n",
        "\n",
        "    def __getitem__(self, index): \n",
        "        return torch.tensor(self.sentence['tokens'][index]), torch.tensor((self.sentence['tags'][index]))"
      ]
    },
    {
      "cell_type": "markdown",
      "metadata": {
        "id": "S5iTUrPnlyFL"
      },
      "source": [
        "Function used to insert padding to batches in order to have all the batches of the same size"
      ]
    },
    {
      "cell_type": "code",
      "execution_count": 39,
      "metadata": {
        "execution": {
          "iopub.execute_input": "2022-11-30T14:37:53.031757Z",
          "iopub.status.busy": "2022-11-30T14:37:53.030658Z",
          "iopub.status.idle": "2022-11-30T14:37:53.045966Z",
          "shell.execute_reply": "2022-11-30T14:37:53.044085Z",
          "shell.execute_reply.started": "2022-11-30T14:37:53.031700Z"
        },
        "id": "rGRARSFi56qT",
        "trusted": true
      },
      "outputs": [],
      "source": [
        "def pad_batch(batch, emb_model):\n",
        "    tokens, tags = zip(*batch)\n",
        "\n",
        "    # Get the length of the \"longest\" sentence in our batch\n",
        "    collapse_left_pad = max(len(elem) for elem in tokens) \n",
        "    temp_tensor_length = 0\n",
        "    \n",
        "    batch_tokens = []\n",
        "    batch_tags = []\n",
        "\n",
        "    for tensor in range(len(tokens)):\n",
        "        # Get how much padding the current sentence needs\n",
        "        temp_tensor_length = collapse_left_pad - len(tokens[tensor])\n",
        "\n",
        "        # Pad both the word sentence and the tag sentence\n",
        "        token_pad = torch.nn.functional.pad(tokens[tensor], pad =(0, temp_tensor_length), mode='constant', value=emb_model.key_to_index['<PAD>'])\n",
        "        tag_pad = torch.nn.functional.pad(tags[tensor], pad=(0, temp_tensor_length) , mode='constant', value=emb_model.key_to_index['<PAD>'])\n",
        "        \n",
        "        batch_tokens.append(token_pad)\n",
        "        batch_tags.append(tag_pad)\n",
        "\n",
        "    # Correctly recreate the batch\n",
        "    token_tensor = torch.stack(batch_tokens)\n",
        "    tag_tensor = torch.stack(batch_tags)\n",
        "    \n",
        "    return token_tensor, tag_tensor"
      ]
    },
    {
      "cell_type": "markdown",
      "metadata": {
        "id": "SjKDojuIqWtK"
      },
      "source": [
        "# Plotting Definitions"
      ]
    },
    {
      "cell_type": "code",
      "execution_count": 40,
      "metadata": {
        "execution": {
          "iopub.execute_input": "2022-11-30T14:39:16.873968Z",
          "iopub.status.busy": "2022-11-30T14:39:16.870246Z",
          "iopub.status.idle": "2022-11-30T14:39:16.887825Z",
          "shell.execute_reply": "2022-11-30T14:39:16.886382Z",
          "shell.execute_reply.started": "2022-11-30T14:39:16.873899Z"
        },
        "id": "_ID4V5S9et63",
        "trusted": true
      },
      "outputs": [],
      "source": [
        "def plot_measure(model_dicts, measure):\n",
        "    \"\"\"This function plots measure values from the models dictionary data structure. Measure is taken as a string. \"\"\"\n",
        "    plt.figure(figsize=(10,5))\n",
        "    plt.grid()\n",
        "    plt.gca().xaxis.set_major_locator(mticker.MultipleLocator(1))\n",
        "    plt.xlabel('Epoch')\n",
        "    plt.ylabel(measure)\n",
        "    ax = plt.subplot(111)\n",
        "\n",
        "    for model_dict in iter(model_dicts.values()):\n",
        "        plt.plot(model_dict[\"best_dataframe\"][measure], label=model_dict[\"name\"])\n",
        "        \n",
        "    plt.legend()\n",
        "    ax.legend(loc='center left', bbox_to_anchor=(1, 0.5))\n",
        "    plt.show()"
      ]
    },
    {
      "cell_type": "markdown",
      "metadata": {
        "id": "xL-YVZ8ZI8AJ"
      },
      "source": [
        "# Hyper-parameter tuning"
      ]
    },
    {
      "cell_type": "code",
      "execution_count": 41,
      "metadata": {
        "execution": {
          "iopub.execute_input": "2022-11-30T14:40:35.228450Z",
          "iopub.status.busy": "2022-11-30T14:40:35.227964Z",
          "iopub.status.idle": "2022-11-30T14:40:36.018360Z",
          "shell.execute_reply": "2022-11-30T14:40:36.016970Z",
          "shell.execute_reply.started": "2022-11-30T14:40:35.228411Z"
        },
        "id": "_bCAh2295D8E",
        "trusted": true
      },
      "outputs": [],
      "source": [
        "from ray import tune\n",
        "from ray.tune import CLIReporter, JupyterNotebookReporter\n",
        "import ray\n",
        "from ray.air import session"
      ]
    },
    {
      "cell_type": "markdown",
      "metadata": {
        "id": "rmCpPLBWdKXB"
      },
      "source": [
        "Definition of directories for saving weights and training history"
      ]
    },
    {
      "cell_type": "code",
      "execution_count": 42,
      "metadata": {
        "id": "_wKlEtr3SWbw"
      },
      "outputs": [],
      "source": [
        "model_weights_dir = \"./model_weights\"\n",
        "model_dataframes_dir = \"./model_dataframes\"\n",
        "if not os.path.isdir(model_weights_dir):  \n",
        "    # if the best weights directory is \n",
        "    # not present then create it.\n",
        "    os.makedirs(model_weights_dir)\n",
        "if not os.path.isdir(model_dataframes_dir):  \n",
        "    os.makedirs(model_dataframes_dir)"
      ]
    },
    {
      "cell_type": "markdown",
      "metadata": {
        "id": "Y4OPt_-ndKXB"
      },
      "source": [
        "Definition of the Model Factory class"
      ]
    },
    {
      "cell_type": "code",
      "execution_count": 43,
      "metadata": {
        "id": "qAzrF2A0T2tp"
      },
      "outputs": [],
      "source": [
        "class Model_factory():\n",
        "  \"\"\"This class intantiates any of the four models with the right parameters, also given the ray tune config dictionary.\"\"\"\n",
        "  def __init__(self, emb_model, num_classes):\n",
        "    self.emb_model = emb_model\n",
        "    self.INPUT_DIM = len(self.emb_model) # Input dimension = length of our dictionary\n",
        "    self.OUTPUT_DIM = num_classes\n",
        "    self.EMBEDDING_DIM = self.emb_model[0].shape[0]\n",
        "    self.PADDING_IDX = self.emb_model.key_to_index[\"<PAD>\"]\n",
        "    self.HIDDEN_DIM = None # will be specified at runtime\n",
        "    self.args_dict = {\"emb_model\" : self.emb_model,\n",
        "                            \"input_dim\" : self.INPUT_DIM,\n",
        "                            \"embedding_dim\" : self.EMBEDDING_DIM, \n",
        "                            \"hidden_dim\" : self.HIDDEN_DIM, \n",
        "                            \"output_dim\" : self.OUTPUT_DIM,\n",
        "                            \"n_layers_lstm\" : 1,\n",
        "                            \"bidirectional\" : True, \n",
        "                            \"padding_index\" : self.PADDING_IDX}\n",
        "\n",
        "  def get_model(self, model_name: str, config: dict):\n",
        "    model_args = self.args_dict.copy()\n",
        "    hidden_dim = adapt_power_of_two(compute_n_hidden_layers(train.shape[0], self.EMBEDDING_DIM, self.OUTPUT_DIM, config[\"alpha\"]))\n",
        "    model_args[\"hidden_dim\"] = hidden_dim\n",
        "    model_args.pop(\"n_layers_lstm\", None)\n",
        "    model_args[\"n_layers\"] = 1\n",
        "    return GRU_Model(**model_args)"
      ]
    },
    {
      "cell_type": "markdown",
      "metadata": {
        "id": "N2CCbtvPdKXC"
      },
      "source": [
        "Definition of the main training/validation loop with the Ray Tune API specifications"
      ]
    },
    {
      "cell_type": "code",
      "execution_count": 44,
      "metadata": {
        "execution": {
          "iopub.execute_input": "2022-11-30T15:24:20.520314Z",
          "iopub.status.busy": "2022-11-30T15:24:20.519553Z",
          "iopub.status.idle": "2022-11-30T15:24:20.570668Z",
          "shell.execute_reply": "2022-11-30T15:24:20.568342Z",
          "shell.execute_reply.started": "2022-11-30T15:24:20.520258Z"
        },
        "id": "acmhBa7U5D8F",
        "trusted": true
      },
      "outputs": [],
      "source": [
        "# hyperparameter tuning on the four models\n",
        "def train_and_eval_model_with_raytune(config, model_factory: Model_factory, model_name: str, n_epochs: int, torch_train, torch_val, criterion, tag_pad_idx, emb_model, verbose=0,\n",
        "                                      checkpoint_dir=None): \n",
        "\n",
        "    # Create model\n",
        "    model = model_factory.get_model(model_name, config)\n",
        "    # add it to device\n",
        "    model.to(device)\n",
        "    optimizer = optim.Adam(model.parameters(), lr=config[\"lr\"])\n",
        "    # load from checkpoint dir\n",
        "    if checkpoint_dir:\n",
        "        print(\"LOADING FROM\", checkpoint_dir)\n",
        "        model_state, optimizer_state = torch.load(os.path.join(checkpoint_dir, \"checkpoint\"))\n",
        "        model.load_state_dict(model_state)\n",
        "        optimizer.load_state_dict(optimizer_state)\n",
        "\n",
        "    # Correctly initialize our data for training and validation\n",
        "    train_dataloader = DataLoader(torch_train, batch_size=config['batch_size'],shuffle=False, collate_fn=lambda x: tuple(x_.to(device) for x_ in pad_batch(x,emb_model)))\n",
        "    val_dataloader = DataLoader(torch_val, batch_size=config['batch_size'], shuffle=False, collate_fn=lambda x: tuple(x_.to(device) for x_ in pad_batch(x,emb_model)))\n",
        "\n",
        "    # Define early stopper\n",
        "    early_stopper = EarlyStopper(patience=3, min_delta=config[\"min_delta\"])\n",
        "\n",
        "    # Train for n_epochs\n",
        "    for epoch in range(n_epochs):\n",
        "      \n",
        "        # Perform training\n",
        "        train_loss, train_acc = train_model(model=model, iterator=train_dataloader, optimizer=optimizer, criterion=criterion, tag_pad_idx=tag_pad_idx)\n",
        "\n",
        "        # Perform validation\n",
        "        val_loss, val_acc = eval_model(model, val_dataloader, criterion, tag_pad_idx=PAD_INDEX)\n",
        "\n",
        "        if verbose == 1:\n",
        "          print(f'\\tTrain Loss: {train_loss:.3f} | Train Acc: {train_acc*100:.2f}%')\n",
        "          print(f'\\t Val. Loss: {val_loss:.3f} |  Val. Acc: {val_acc*100:.2f}%')\n",
        "          print(\"\\n\")\n",
        "\n",
        "        with tune.checkpoint_dir(epoch) as checkpoint_dir:\n",
        "            path = os.path.join(checkpoint_dir, \"checkpoint\")\n",
        "            torch.save((model.state_dict(), optimizer.state_dict()), path)\n",
        "\n",
        "        # Log loss and accuracy\n",
        "        tune.report(val_loss=val_loss, val_accuracy=val_acc, train_loss=train_loss, train_accuracy=train_acc)    \n",
        "\n",
        "        if early_stopper.early_stop(val_loss):  \n",
        "            print(\"Early stop\")           \n",
        "            break\n",
        "    \n",
        "    print(\"Finished Training\")"
      ]
    },
    {
      "cell_type": "code",
      "execution_count": 45,
      "metadata": {
        "colab": {
          "base_uri": "https://localhost:8080/",
          "height": 80
        },
        "execution": {
          "iopub.execute_input": "2022-11-30T14:42:20.663999Z",
          "iopub.status.busy": "2022-11-30T14:42:20.662294Z",
          "iopub.status.idle": "2022-11-30T14:42:20.679695Z",
          "shell.execute_reply": "2022-11-30T14:42:20.676995Z",
          "shell.execute_reply.started": "2022-11-30T14:42:20.663931Z"
        },
        "id": "TONzn0r-coej",
        "outputId": "475df418-fbf8-4ec3-bd6d-859faffaa736",
        "trusted": true
      },
      "outputs": [
        {
          "name": "stderr",
          "output_type": "stream",
          "text": [
            "2022-12-21 22:24:41,985\tINFO worker.py:1538 -- Started a local Ray instance.\n"
          ]
        },
        {
          "data": {
            "text/html": [
              "<div>\n",
              "    <div style=\"margin-left: 50px;display: flex;flex-direction: row;align-items: center\">\n",
              "        <h3 style=\"color: var(--jp-ui-font-color0)\">Ray</h3>\n",
              "        <svg version=\"1.1\" id=\"ray\" width=\"3em\" viewBox=\"0 0 144.5 144.6\" style=\"margin-left: 3em;margin-right: 3em\">\n",
              "            <g id=\"layer-1\">\n",
              "                <path fill=\"#00a2e9\" class=\"st0\" d=\"M97.3,77.2c-3.8-1.1-6.2,0.9-8.3,5.1c-3.5,6.8-9.9,9.9-17.4,9.6S58,88.1,54.8,81.2c-1.4-3-3-4-6.3-4.1\n",
              "                    c-5.6-0.1-9.9,0.1-13.1,6.4c-3.8,7.6-13.6,10.2-21.8,7.6C5.2,88.4-0.4,80.5,0,71.7c0.1-8.4,5.7-15.8,13.8-18.2\n",
              "                    c8.4-2.6,17.5,0.7,22.3,8c1.3,1.9,1.3,5.2,3.6,5.6c3.9,0.6,8,0.2,12,0.2c1.8,0,1.9-1.6,2.4-2.8c3.5-7.8,9.7-11.8,18-11.9\n",
              "                    c8.2-0.1,14.4,3.9,17.8,11.4c1.3,2.8,2.9,3.6,5.7,3.3c1-0.1,2,0.1,3,0c2.8-0.5,6.4,1.7,8.1-2.7s-2.3-5.5-4.1-7.5\n",
              "                    c-5.1-5.7-10.9-10.8-16.1-16.3C84,38,81.9,37.1,78,38.3C66.7,42,56.2,35.7,53,24.1C50.3,14,57.3,2.8,67.7,0.5\n",
              "                    C78.4-2,89,4.7,91.5,15.3c0.1,0.3,0.1,0.5,0.2,0.8c0.7,3.4,0.7,6.9-0.8,9.8c-1.7,3.2-0.8,5,1.5,7.2c6.7,6.5,13.3,13,19.8,19.7\n",
              "                    c1.8,1.8,3,2.1,5.5,1.2c9.1-3.4,17.9-0.6,23.4,7c4.8,6.9,4.6,16.1-0.4,22.9c-5.4,7.2-14.2,9.9-23.1,6.5c-2.3-0.9-3.5-0.6-5.1,1.1\n",
              "                    c-6.7,6.9-13.6,13.7-20.5,20.4c-1.8,1.8-2.5,3.2-1.4,5.9c3.5,8.7,0.3,18.6-7.7,23.6c-7.9,5-18.2,3.8-24.8-2.9\n",
              "                    c-6.4-6.4-7.4-16.2-2.5-24.3c4.9-7.8,14.5-11,23.1-7.8c3,1.1,4.7,0.5,6.9-1.7C91.7,98.4,98,92.3,104.2,86c1.6-1.6,4.1-2.7,2.6-6.2\n",
              "                    c-1.4-3.3-3.8-2.5-6.2-2.6C99.8,77.2,98.9,77.2,97.3,77.2z M72.1,29.7c5.5,0.1,9.9-4.3,10-9.8c0-0.1,0-0.2,0-0.3\n",
              "                    C81.8,14,77,9.8,71.5,10.2c-5,0.3-9,4.2-9.3,9.2c-0.2,5.5,4,10.1,9.5,10.3C71.8,29.7,72,29.7,72.1,29.7z M72.3,62.3\n",
              "                    c-5.4-0.1-9.9,4.2-10.1,9.7c0,0.2,0,0.3,0,0.5c0.2,5.4,4.5,9.7,9.9,10c5.1,0.1,9.9-4.7,10.1-9.8c0.2-5.5-4-10-9.5-10.3\n",
              "                    C72.6,62.3,72.4,62.3,72.3,62.3z M115,72.5c0.1,5.4,4.5,9.7,9.8,9.9c5.6-0.2,10-4.8,10-10.4c-0.2-5.4-4.6-9.7-10-9.7\n",
              "                    c-5.3-0.1-9.8,4.2-9.9,9.5C115,72.1,115,72.3,115,72.5z M19.5,62.3c-5.4,0.1-9.8,4.4-10,9.8c-0.1,5.1,5.2,10.4,10.2,10.3\n",
              "                    c5.6-0.2,10-4.9,9.8-10.5c-0.1-5.4-4.5-9.7-9.9-9.6C19.6,62.3,19.5,62.3,19.5,62.3z M71.8,134.6c5.9,0.2,10.3-3.9,10.4-9.6\n",
              "                    c0.5-5.5-3.6-10.4-9.1-10.8c-5.5-0.5-10.4,3.6-10.8,9.1c0,0.5,0,0.9,0,1.4c-0.2,5.3,4,9.8,9.3,10\n",
              "                    C71.6,134.6,71.7,134.6,71.8,134.6z\"/>\n",
              "            </g>\n",
              "        </svg>\n",
              "        <table>\n",
              "            <tr>\n",
              "                <td style=\"text-align: left\"><b>Python version:</b></td>\n",
              "                <td style=\"text-align: left\"><b>3.8.16</b></td>\n",
              "            </tr>\n",
              "            <tr>\n",
              "                <td style=\"text-align: left\"><b>Ray version:</b></td>\n",
              "                <td style=\"text-align: left\"><b> 2.2.0</b></td>\n",
              "            </tr>\n",
              "            \n",
              "        </table>\n",
              "    </div>\n",
              "</div>\n"
            ],
            "text/plain": [
              "RayContext(dashboard_url='', python_version='3.8.16', ray_version='2.2.0', ray_commit='b6af0887ee5f2e460202133791ad941a41f15beb', address_info={'node_ip_address': '172.28.0.12', 'raylet_ip_address': '172.28.0.12', 'redis_address': None, 'object_store_address': '/tmp/ray/session_2022-12-21_22-24-38_863591_1104/sockets/plasma_store', 'raylet_socket_name': '/tmp/ray/session_2022-12-21_22-24-38_863591_1104/sockets/raylet', 'webui_url': '', 'session_dir': '/tmp/ray/session_2022-12-21_22-24-38_863591_1104', 'metrics_export_port': 65086, 'gcs_address': '172.28.0.12:54391', 'address': '172.28.0.12:54391', 'dashboard_agent_listen_port': 52365, 'node_id': '5f7ca72f9b1112e03aa4e1edfe806b0989163fbe0e8fc621a4504e78'})"
            ]
          },
          "execution_count": 45,
          "metadata": {},
          "output_type": "execute_result"
        }
      ],
      "source": [
        "model_dicts = {\"gru\": {\"name\": \"gru\"}}\n",
        "factory = Model_factory(emb_model, n_classes)\n",
        "# silence warnings\n",
        "ray.init(log_to_driver=False)"
      ]
    },
    {
      "cell_type": "markdown",
      "metadata": {
        "id": "_kN3dqSIdKXD"
      },
      "source": [
        "Run with hyper-parameter tuning"
      ]
    },
    {
      "cell_type": "code",
      "execution_count": 46,
      "metadata": {
        "colab": {
          "base_uri": "https://localhost:8080/",
          "height": 933
        },
        "execution": {
          "iopub.execute_input": "2022-11-30T15:24:47.964929Z",
          "iopub.status.busy": "2022-11-30T15:24:47.963580Z",
          "iopub.status.idle": "2022-11-30T15:29:19.800192Z",
          "shell.execute_reply": "2022-11-30T15:29:19.798972Z",
          "shell.execute_reply.started": "2022-11-30T15:24:47.964863Z"
        },
        "id": "FaLbaAYcy0NY",
        "outputId": "f7674a8b-8bb8-4c81-91f2-84c2035ed54a",
        "trusted": true
      },
      "outputs": [
        {
          "data": {
            "text/html": [
              "<div class=\"tuneStatus\">\n",
              "  <div style=\"display: flex;flex-direction: row\">\n",
              "    <div style=\"display: flex;flex-direction: column;\">\n",
              "      <h3>Tune Status</h3>\n",
              "      <table>\n",
              "<tbody>\n",
              "<tr><td>Current time:</td><td>2022-12-21 23:05:08</td></tr>\n",
              "<tr><td>Running for: </td><td>00:40:02.87        </td></tr>\n",
              "<tr><td>Memory:      </td><td>4.1/12.7 GiB       </td></tr>\n",
              "</tbody>\n",
              "</table>\n",
              "    </div>\n",
              "    <div class=\"vDivider\"></div>\n",
              "    <div class=\"systemInfo\">\n",
              "      <h3>System Info</h3>\n",
              "      Using FIFO scheduling algorithm.<br>Resources requested: 0/2 CPUs, 0/1 GPUs, 0.0/7.39 GiB heap, 0.0/3.7 GiB objects (0.0/1.0 accelerator_type:T4)\n",
              "    </div>\n",
              "    \n",
              "  </div>\n",
              "  <div class=\"hDivider\"></div>\n",
              "  <div class=\"trialStatus\">\n",
              "    <h3>Trial Status</h3>\n",
              "    <table>\n",
              "<thead>\n",
              "<tr><th>Trial name                                   </th><th>status    </th><th>loc              </th><th style=\"text-align: right;\">  alpha</th><th style=\"text-align: right;\">  batch_size</th><th style=\"text-align: right;\">   lr</th><th style=\"text-align: right;\">  val_loss</th><th style=\"text-align: right;\">  val_accuracy</th><th style=\"text-align: right;\">  train_loss</th><th style=\"text-align: right;\">  train_accuracy</th></tr>\n",
              "</thead>\n",
              "<tbody>\n",
              "<tr><td>train_and_eval_model_with_raytune_51b60_00008</td><td>TERMINATED</td><td>172.28.0.12:7286 </td><td style=\"text-align: right;\">     10</td><td style=\"text-align: right;\">         128</td><td style=\"text-align: right;\">0.001</td><td style=\"text-align: right;\">  0.217871</td><td style=\"text-align: right;\">      0.938351</td><td style=\"text-align: right;\">    0.188755</td><td style=\"text-align: right;\">        0.935323</td></tr>\n",
              "<tr><td>train_and_eval_model_with_raytune_51b60_00016</td><td>TERMINATED</td><td>172.28.0.12:12246</td><td style=\"text-align: right;\">      2</td><td style=\"text-align: right;\">         128</td><td style=\"text-align: right;\">0.003</td><td style=\"text-align: right;\">  0.234176</td><td style=\"text-align: right;\">      0.938035</td><td style=\"text-align: right;\">    0.226002</td><td style=\"text-align: right;\">        0.928364</td></tr>\n",
              "<tr><td>train_and_eval_model_with_raytune_51b60_00007</td><td>TERMINATED</td><td>172.28.0.12:6927 </td><td style=\"text-align: right;\">      2</td><td style=\"text-align: right;\">         128</td><td style=\"text-align: right;\">0.001</td><td style=\"text-align: right;\">  0.228731</td><td style=\"text-align: right;\">      0.936738</td><td style=\"text-align: right;\">    0.152415</td><td style=\"text-align: right;\">        0.945475</td></tr>\n",
              "<tr><td>train_and_eval_model_with_raytune_51b60_00005</td><td>TERMINATED</td><td>172.28.0.12:6036 </td><td style=\"text-align: right;\">     10</td><td style=\"text-align: right;\">          16</td><td style=\"text-align: right;\">0.001</td><td style=\"text-align: right;\">  0.237524</td><td style=\"text-align: right;\">      0.936591</td><td style=\"text-align: right;\">    0.137544</td><td style=\"text-align: right;\">        0.951258</td></tr>\n",
              "<tr><td>train_and_eval_model_with_raytune_51b60_00017</td><td>TERMINATED</td><td>172.28.0.12:12481</td><td style=\"text-align: right;\">     10</td><td style=\"text-align: right;\">         128</td><td style=\"text-align: right;\">0.003</td><td style=\"text-align: right;\">  0.241871</td><td style=\"text-align: right;\">      0.93657 </td><td style=\"text-align: right;\">    0.151661</td><td style=\"text-align: right;\">        0.946355</td></tr>\n",
              "<tr><td>train_and_eval_model_with_raytune_51b60_00004</td><td>TERMINATED</td><td>172.28.0.12:5748 </td><td style=\"text-align: right;\">      2</td><td style=\"text-align: right;\">          16</td><td style=\"text-align: right;\">0.001</td><td style=\"text-align: right;\">  0.236209</td><td style=\"text-align: right;\">      0.933917</td><td style=\"text-align: right;\">    0.144938</td><td style=\"text-align: right;\">        0.949004</td></tr>\n",
              "<tr><td>train_and_eval_model_with_raytune_51b60_00015</td><td>TERMINATED</td><td>172.28.0.12:11507</td><td style=\"text-align: right;\">      1</td><td style=\"text-align: right;\">         128</td><td style=\"text-align: right;\">0.003</td><td style=\"text-align: right;\">  0.246093</td><td style=\"text-align: right;\">      0.931548</td><td style=\"text-align: right;\">    0.196613</td><td style=\"text-align: right;\">        0.935316</td></tr>\n",
              "<tr><td>train_and_eval_model_with_raytune_51b60_00014</td><td>TERMINATED</td><td>172.28.0.12:11384</td><td style=\"text-align: right;\">     10</td><td style=\"text-align: right;\">          16</td><td style=\"text-align: right;\">0.003</td><td style=\"text-align: right;\">  0.243228</td><td style=\"text-align: right;\">      0.931123</td><td style=\"text-align: right;\">    0.163398</td><td style=\"text-align: right;\">        0.942733</td></tr>\n",
              "<tr><td>train_and_eval_model_with_raytune_51b60_00012</td><td>TERMINATED</td><td>172.28.0.12:10477</td><td style=\"text-align: right;\">      1</td><td style=\"text-align: right;\">          16</td><td style=\"text-align: right;\">0.003</td><td style=\"text-align: right;\">  0.254481</td><td style=\"text-align: right;\">      0.930398</td><td style=\"text-align: right;\">    0.319785</td><td style=\"text-align: right;\">        0.908931</td></tr>\n",
              "<tr><td>train_and_eval_model_with_raytune_51b60_00006</td><td>TERMINATED</td><td>172.28.0.12:6193 </td><td style=\"text-align: right;\">      1</td><td style=\"text-align: right;\">         128</td><td style=\"text-align: right;\">0.001</td><td style=\"text-align: right;\">  0.254316</td><td style=\"text-align: right;\">      0.923504</td><td style=\"text-align: right;\">    0.182975</td><td style=\"text-align: right;\">        0.936274</td></tr>\n",
              "<tr><td>train_and_eval_model_with_raytune_51b60_00003</td><td>TERMINATED</td><td>172.28.0.12:5090 </td><td style=\"text-align: right;\">      1</td><td style=\"text-align: right;\">          16</td><td style=\"text-align: right;\">0.001</td><td style=\"text-align: right;\">  0.266784</td><td style=\"text-align: right;\">      0.91116 </td><td style=\"text-align: right;\">    0.220029</td><td style=\"text-align: right;\">        0.927781</td></tr>\n",
              "<tr><td>train_and_eval_model_with_raytune_51b60_00013</td><td>TERMINATED</td><td>172.28.0.12:11133</td><td style=\"text-align: right;\">      2</td><td style=\"text-align: right;\">          16</td><td style=\"text-align: right;\">0.003</td><td style=\"text-align: right;\">  0.279082</td><td style=\"text-align: right;\">      0.909376</td><td style=\"text-align: right;\">    0.193756</td><td style=\"text-align: right;\">        0.93375 </td></tr>\n",
              "<tr><td>train_and_eval_model_with_raytune_51b60_00001</td><td>TERMINATED</td><td>172.28.0.12:3909 </td><td style=\"text-align: right;\">      2</td><td style=\"text-align: right;\">           1</td><td style=\"text-align: right;\">0.001</td><td style=\"text-align: right;\">  0.36626 </td><td style=\"text-align: right;\">      0.895866</td><td style=\"text-align: right;\">    0.177135</td><td style=\"text-align: right;\">        0.937373</td></tr>\n",
              "<tr><td>train_and_eval_model_with_raytune_51b60_00002</td><td>TERMINATED</td><td>172.28.0.12:4611 </td><td style=\"text-align: right;\">     10</td><td style=\"text-align: right;\">           1</td><td style=\"text-align: right;\">0.001</td><td style=\"text-align: right;\">  0.377271</td><td style=\"text-align: right;\">      0.892684</td><td style=\"text-align: right;\">    0.154367</td><td style=\"text-align: right;\">        0.947409</td></tr>\n",
              "<tr><td>train_and_eval_model_with_raytune_51b60_00011</td><td>TERMINATED</td><td>172.28.0.12:9987 </td><td style=\"text-align: right;\">     10</td><td style=\"text-align: right;\">           1</td><td style=\"text-align: right;\">0.003</td><td style=\"text-align: right;\">  0.335888</td><td style=\"text-align: right;\">      0.882013</td><td style=\"text-align: right;\">    0.335181</td><td style=\"text-align: right;\">        0.886174</td></tr>\n",
              "<tr><td>train_and_eval_model_with_raytune_51b60_00000</td><td>TERMINATED</td><td>172.28.0.12:2198 </td><td style=\"text-align: right;\">      1</td><td style=\"text-align: right;\">           1</td><td style=\"text-align: right;\">0.001</td><td style=\"text-align: right;\">  0.416013</td><td style=\"text-align: right;\">      0.875093</td><td style=\"text-align: right;\">    0.231395</td><td style=\"text-align: right;\">        0.921566</td></tr>\n",
              "<tr><td>train_and_eval_model_with_raytune_51b60_00010</td><td>TERMINATED</td><td>172.28.0.12:9124 </td><td style=\"text-align: right;\">      2</td><td style=\"text-align: right;\">           1</td><td style=\"text-align: right;\">0.003</td><td style=\"text-align: right;\">  0.494373</td><td style=\"text-align: right;\">      0.839843</td><td style=\"text-align: right;\">    0.563356</td><td style=\"text-align: right;\">        0.835882</td></tr>\n",
              "<tr><td>train_and_eval_model_with_raytune_51b60_00009</td><td>TERMINATED</td><td>172.28.0.12:7437 </td><td style=\"text-align: right;\">      1</td><td style=\"text-align: right;\">           1</td><td style=\"text-align: right;\">0.003</td><td style=\"text-align: right;\">  0.861116</td><td style=\"text-align: right;\">      0.813068</td><td style=\"text-align: right;\">    0.929138</td><td style=\"text-align: right;\">        0.829881</td></tr>\n",
              "</tbody>\n",
              "</table>\n",
              "  </div>\n",
              "</div>\n",
              "<style>\n",
              ".tuneStatus {\n",
              "  color: var(--jp-ui-font-color1);\n",
              "}\n",
              ".tuneStatus .systemInfo {\n",
              "  display: flex;\n",
              "  flex-direction: column;\n",
              "}\n",
              ".tuneStatus td {\n",
              "  white-space: nowrap;\n",
              "}\n",
              ".tuneStatus .trialStatus {\n",
              "  display: flex;\n",
              "  flex-direction: column;\n",
              "}\n",
              ".tuneStatus h3 {\n",
              "  font-weight: bold;\n",
              "}\n",
              ".tuneStatus .hDivider {\n",
              "  border-bottom-width: var(--jp-border-width);\n",
              "  border-bottom-color: var(--jp-border-color0);\n",
              "  border-bottom-style: solid;\n",
              "}\n",
              ".tuneStatus .vDivider {\n",
              "  border-left-width: var(--jp-border-width);\n",
              "  border-left-color: var(--jp-border-color0);\n",
              "  border-left-style: solid;\n",
              "  margin: 0.5em 1em 0.5em 1em;\n",
              "}\n",
              "</style>\n"
            ],
            "text/plain": [
              "<IPython.core.display.HTML object>"
            ]
          },
          "metadata": {},
          "output_type": "display_data"
        },
        {
          "name": "stderr",
          "output_type": "stream",
          "text": [
            "/usr/local/lib/python3.8/dist-packages/ray/tune/trainable/function_trainable.py:610: DeprecationWarning: `checkpoint_dir` in `func(config, checkpoint_dir)` is being deprecated. To save and load checkpoint in trainable functions, please use the `ray.air.session` API:\n",
            "\n",
            "from ray.air import session\n",
            "\n",
            "def train(config):\n",
            "    # ...\n",
            "    session.report({\"metric\": metric}, checkpoint=checkpoint)\n",
            "\n",
            "For more information please see https://docs.ray.io/en/master/tune/api_docs/trainable.html\n",
            "\n",
            "  warnings.warn(\n",
            "2022-12-21 22:25:08,426\tWARNING worker.py:1851 -- Warning: The actor ImplicitFunc is very large (12 MiB). Check that its definition is not implicitly capturing a large array or other object in scope. Tip: use ray.put() to put large objects in the Ray object store.\n",
            "2022-12-21 23:05:08,513\tINFO tune.py:762 -- Total run time: 2403.23 seconds (2402.86 seconds for the tuning loop).\n"
          ]
        },
        {
          "name": "stdout",
          "output_type": "stream",
          "text": [
            "\n",
            "Model: gru\n",
            "Best trial config: {'alpha': 10, 'batch_size': 16, 'lr': 0.001, 'min_delta': -0.005}\n",
            "Best trial final validation loss: 0.23752393353391776\n",
            "Best trial final validation accuracy: 0.9365911510857668\n",
            "\n"
          ]
        }
      ],
      "source": [
        "# Number of epochs\n",
        "N_EPOCHS = 15\n",
        "\n",
        "# hyperparameters definition\n",
        "config = {\n",
        "    \"alpha\": tune.grid_search([1, 2, 10]),\n",
        "    \"batch_size\" : tune.grid_search([1, 16, 128]),\n",
        "    \"lr\": tune.grid_search([1e-3, 3e-3]), #1e-2 too bad\n",
        "    \"min_delta\": -5e-3\n",
        "}\n",
        "\n",
        "reporter = JupyterNotebookReporter(metric_columns=[\"val_loss\", \"val_accuracy\", \"train_loss\", \"train_accuracy\"], metric=\"val_accuracy\", mode=\"max\",sort_by_metric=True, print_intermediate_tables=False)\n",
        "\n",
        "# tuning on each of the four models\n",
        "for model_dict in iter(model_dicts.values()):\n",
        "    \n",
        "  torch_train = PandasDataset(train)\n",
        "  torch_val = PandasDataset(val)\n",
        "\n",
        "  result = tune.run(\n",
        "          tune.with_parameters(train_and_eval_model_with_raytune, model_name=model_dict[\"name\"], torch_train=torch_train, torch_val=torch_val, emb_model=emb_model, model_factory=factory, n_epochs=N_EPOCHS, \n",
        "                               criterion=criterion, tag_pad_idx=PAD_INDEX),\n",
        "          resources_per_trial={\"gpu\" if str(device) == \"cuda\" else \"cpu\": 1},\n",
        "          config=config,\n",
        "          num_samples=1, # If grid_search is provided as an argument, the grid will be repeated num_samples of times\n",
        "          progress_reporter=reporter,\n",
        "          verbose=1,\n",
        "          name=model_dict[\"name\"],\n",
        "          checkpoint_score_attr=\"val_accuracy\",\n",
        "          keep_checkpoints_num=1) # we'll keep the best X checkpoints at all times\n",
        "\n",
        "  # get best result and save to model dictionary\n",
        "  best_trial = result.get_best_trial(metric=\"val_accuracy\", mode=\"max\", scope='all')\n",
        "  print(\"\\nModel: {}\".format(model_dict[\"name\"]))\n",
        "  print(\"Best trial config: {}\".format(best_trial.config))\n",
        "  print(\"Best trial final validation loss: {}\".format(best_trial.last_result[\"val_loss\"]))\n",
        "  print(\"Best trial final validation accuracy: {}\\n\".format(best_trial.last_result[\"val_accuracy\"]))\n",
        "\n",
        "  model_dict[\"best_config\"] = best_trial.config\n",
        "  model_dict[\"best_loss\"] = best_trial.last_result[\"val_loss\"]\n",
        "  model_dict[\"best_accuracy\"] = best_trial.last_result[\"val_accuracy\"]\n",
        "\n",
        "  best_trained_model = factory.get_model(model_dict[\"name\"], best_trial.config)\n",
        "  best_trained_model.to(device)\n",
        "\n",
        "  best_checkpoint_dir = best_trial.checkpoint.dir_or_data\n",
        "  model_state, optimizer_state = torch.load(os.path.join(best_checkpoint_dir, \"checkpoint\"))\n",
        "  best_trained_model.load_state_dict(model_state)\n",
        "  model_dict[\"best_trained_model\"] = best_trained_model\n",
        "\n",
        "  best_trial_key = result.get_best_logdir(metric=\"val_accuracy\", mode=\"max\")\n",
        "  model_dict[\"best_dataframe\"] = result.trial_dataframes[best_trial_key]"
      ]
    },
    {
      "cell_type": "markdown",
      "metadata": {
        "id": "QWbWTEqQdKXE"
      },
      "source": [
        "Saving dataframes and model weights"
      ]
    },
    {
      "cell_type": "code",
      "execution_count": 47,
      "metadata": {
        "colab": {
          "base_uri": "https://localhost:8080/"
        },
        "id": "wQfhAx4WCToB",
        "outputId": "688e4bb5-e69e-4f10-d494-a2fc91042e0d"
      },
      "outputs": [
        {
          "name": "stdout",
          "output_type": "stream",
          "text": [
            "Saving dataframes to .csv in /content/model_dataframes\n",
            "Saving models in /content/model_weights\n"
          ]
        },
        {
          "name": "stderr",
          "output_type": "stream",
          "text": [
            "/usr/local/lib/python3.8/dist-packages/pandas/core/internals/blocks.py:2074: RuntimeWarning: invalid value encountered in cast\n",
            "  values = values.astype(str)\n"
          ]
        },
        {
          "name": "stdout",
          "output_type": "stream",
          "text": [
            "Done\n"
          ]
        }
      ],
      "source": [
        "# save dataframe training history for each best model\n",
        "print(f'Saving dataframes to .csv in {os.path.abspath(model_dataframes_dir)}')\n",
        "print(f'Saving models in {os.path.abspath(model_weights_dir)}')\n",
        "for model_dict in iter(model_dicts.values()):\n",
        "  # save training history to file\n",
        "  path = os.path.join(model_dataframes_dir, model_dict[\"name\"]+\".csv\")\n",
        "  model_dict[\"best_dataframe\"].to_csv(path_or_buf=path)\n",
        "  # save weights to file\n",
        "  path = os.path.join(model_weights_dir, model_dict[\"name\"])\n",
        "  torch.save(best_trained_model, path)\n",
        "print('Done')"
      ]
    },
    {
      "cell_type": "code",
      "execution_count": 48,
      "metadata": {
        "id": "ZbCPY4BUFimD"
      },
      "outputs": [],
      "source": [
        "# clean ray tune folders\n",
        "! rm -r /root/ray_results\n",
        "ray.shutdown()"
      ]
    },
    {
      "cell_type": "code",
      "execution_count": 49,
      "metadata": {
        "id": "0cQimK1gtUQ_"
      },
      "outputs": [],
      "source": [
        "save_to_drive = False # true if you plan to save the model weights and dataframes to google drive\n",
        "if save_to_drive:\n",
        "  from google.colab import drive\n",
        "  drive.mount('/content/drive')\n",
        "  !cp -r /content/model_dataframes /content/drive/MyDrive/nlp\n",
        "  !cp -r /content/model_weights /content/drive/MyDrive/nlp"
      ]
    },
    {
      "cell_type": "code",
      "execution_count": null,
      "metadata": {},
      "outputs": [],
      "source": [
        "load_from_drive = False # true if you plan to load the model weights and dataframes from google drive\n",
        "if load_from_drive:\n",
        "  # from google.colab import drive\n",
        "  # drive.mount('/content/drive')\n",
        "  # !cp -r /content/drive/MyDrive/nlp/model_dataframes /content/\n",
        "  # !cp -r /content/drive/MyDrive/nlp/model_weights /content/ \n",
        "  %cd /content/model_dataframes/\n",
        "  !gdown 1-AFj85s20VI3wrF1Trhv9lGV4nkuHW5z\n",
        "  !gdown 1-7TtNQ60mDsD_lMo33DkZFP_hZqsUYyg\n",
        "  %cd ../\n",
        "  %cd /content/model_weights/\n",
        "  !gdown 1-Snojm12ZoFWSArrD0rRp6lR5GYoA2KS\n",
        "  !gdown 1-JJHJYU6YdeUVoesdMhRDWqXgXoPhOdf"
      ]
    },
    {
      "cell_type": "markdown",
      "metadata": {
        "id": "gl2FP1EWS2uj"
      },
      "source": [
        "# Testing and analysis"
      ]
    },
    {
      "cell_type": "markdown",
      "metadata": {
        "id": "YEjtxL3cdKXF"
      },
      "source": [
        "Optional loading from directories"
      ]
    },
    {
      "cell_type": "code",
      "execution_count": 50,
      "metadata": {
        "id": "w56f1IBKQRY-"
      },
      "outputs": [],
      "source": [
        "load_from_dir = False # true if training was done previously\n",
        "if load_from_dir:\n",
        "  for model_dict in iter(model_dicts.values()):\n",
        "    path = os.path.join(model_weights_dir, model_dict[\"name\"])\n",
        "    model_dict[\"best_trained_model\"] = torch.load(path)"
      ]
    },
    {
      "cell_type": "code",
      "execution_count": 51,
      "metadata": {
        "id": "fPUSZ-CvDmwi"
      },
      "outputs": [],
      "source": [
        "load_from_dir = False # true if training was done previously\n",
        "if load_from_dir:\n",
        "  for model_dict in iter(model_dicts.values()):\n",
        "    path = os.path.join(model_dataframes_dir, model_dict[\"name\"])\n",
        "    model_dict[\"best_dataframe\"] = pd.read_csv(filepath_or_buffer=path, index_col=0)"
      ]
    },
    {
      "cell_type": "markdown",
      "metadata": {
        "id": "r0PoBSXSdKXG"
      },
      "source": [
        "Plotting validation loss and accuracy for all best models"
      ]
    },
    {
      "cell_type": "code",
      "execution_count": 52,
      "metadata": {
        "colab": {
          "base_uri": "https://localhost:8080/",
          "height": 707
        },
        "execution": {
          "iopub.execute_input": "2022-11-30T15:05:29.115673Z",
          "iopub.status.busy": "2022-11-30T15:05:29.114673Z",
          "iopub.status.idle": "2022-11-30T15:05:29.122667Z",
          "shell.execute_reply": "2022-11-30T15:05:29.121164Z",
          "shell.execute_reply.started": "2022-11-30T15:05:29.115626Z"
        },
        "id": "l2Ip1tC7Kvao",
        "outputId": "5ffa77b8-1103-41e8-b34f-35b1b306aec4",
        "trusted": true
      },
      "outputs": [
        {
          "name": "stderr",
          "output_type": "stream",
          "text": [
            "<ipython-input-40-c9e2edfc5f7d>:8: MatplotlibDeprecationWarning: Adding an axes using the same arguments as a previous axes currently reuses the earlier instance.  In a future version, a new instance will always be created and returned.  Meanwhile, this warning can be suppressed, and the future behavior ensured, by passing a unique label to each axes instance.\n",
            "  ax = plt.subplot(111)\n"
          ]
        },
        {
          "data": {
            "image/png": "[encoded data removed]",
            "text/plain": [
              "<Figure size 720x360 with 1 Axes>"
            ]
          },
          "metadata": {
            "needs_background": "light"
          },
          "output_type": "display_data"
        },
        {
          "data": {
            "image/png": "[encoded data removed]",
            "text/plain": [
              "<Figure size 720x360 with 1 Axes>"
            ]
          },
          "metadata": {
            "needs_background": "light"
          },
          "output_type": "display_data"
        }
      ],
      "source": [
        "plot_measure(model_dicts, measure=\"val_loss\")\n",
        "plot_measure(model_dicts, measure=\"val_accuracy\")"
      ]
    },
    {
      "cell_type": "markdown",
      "metadata": {
        "id": "1ALhTyW18kh7"
      },
      "source": [
        "Select the best two models for testing"
      ]
    },
    {
      "cell_type": "code",
      "execution_count": 53,
      "metadata": {
        "id": "8gRAsHK98kAu"
      },
      "outputs": [],
      "source": [
        "ranked_models = sorted(iter(model_dicts.values()), key=lambda x: x['best_accuracy'], reverse=True)"
      ]
    },
    {
      "cell_type": "code",
      "execution_count": 58,
      "metadata": {
        "colab": {
          "base_uri": "https://localhost:8080/"
        },
        "id": "-VZZr0QW9uE7",
        "outputId": "dd1fd753-ed3a-4238-f0d2-d0e9a92ea0e1"
      },
      "outputs": [
        {
          "name": "stdout",
          "output_type": "stream",
          "text": [
            "1. gru, val_acc: 0.937\n",
            "best hyper-pars: {'alpha': 10, 'batch_size': 16, 'lr': 0.001, 'min_delta': -0.005}\n",
            "model: GRU_Model(\n",
            "  (embedding): Embedding(404408, 100, padding_idx=400000)\n",
            "  (gru): GRU(100, 128, batch_first=True, bidirectional=True)\n",
            "  (fc): Linear(in_features=256, out_features=2, bias=True)\n",
            "  (softmax): Softmax(dim=1)\n",
            ")\n"
          ]
        }
      ],
      "source": [
        "for model_dict, i in zip(ranked_models, range(1,len(ranked_models)+1)):\n",
        "  print(f\"{i}. {model_dict['name']}, val_acc: {model_dict['best_accuracy']:.3f}\")\n",
        "  print(f\"best hyper-pars: {model_dict['best_config']}\")\n",
        "  print(f\"model: {model_dict['best_trained_model']}\")"
      ]
    },
    {
      "cell_type": "markdown",
      "metadata": {
        "id": "hiPKZP_QdKXh"
      },
      "source": [
        "Visualize confusion matrix on the test set for the two best models"
      ]
    },
    {
      "cell_type": "code",
      "execution_count": 59,
      "metadata": {
        "colab": {
          "base_uri": "https://localhost:8080/",
          "height": 594
        },
        "id": "Q06E8Fshkv96",
        "outputId": "6959167f-e9af-446e-80f1-3d0c2b29f2fe"
      },
      "outputs": [
        {
          "data": {
            "image/png": "[encoded data removed]",
            "text/plain": [
              "<Figure size 720x720 with 2 Axes>"
            ]
          },
          "metadata": {
            "needs_background": "light"
          },
          "output_type": "display_data"
        }
      ],
      "source": [
        "# create test dataloader\n",
        "torch_test = PandasDataset(test)\n",
        "test_dataloader = DataLoader(torch_test, batch_size=1, shuffle=False, collate_fn=lambda x: tuple(x_.to(device) for x_ in pad_batch(x, emb_model)))\n",
        "# compute report and conf matrix for the two best models\n",
        "for model_dict in ranked_models[:2]:\n",
        "  # compute predictions\n",
        "  y_pred, y_true = get_predictions(model_dict['best_trained_model'], test_dataloader,\n",
        "                          PAD_INDEX, ignore_idx=[])\n",
        "  # also compute the classification report\n",
        "  model_dict['classification_report'] = get_classification_report(y_pred, y_true)\n",
        "  title = f\"Confusion matrix for model '{model_dict['name']}'\"\n",
        "  plot_confusion_matrix(y_pred, y_true, normalize='true', title=title);"
      ]
    },
    {
      "cell_type": "code",
      "execution_count": 60,
      "metadata": {
        "colab": {
          "base_uri": "https://localhost:8080/"
        },
        "id": "0jYUlOg7K60_",
        "outputId": "d989f856-328f-4d0b-8c08-88af7b4fd7d3"
      },
      "outputs": [
        {
          "name": "stdout",
          "output_type": "stream",
          "text": [
            "              precision    recall  f1-score   support\n",
            "\n",
            "   Non Toxic       0.99      0.98      0.98     62864\n",
            "       Toxic       0.54      0.65      0.59      2453\n",
            "\n",
            "    accuracy                           0.97     65317\n",
            "   macro avg       0.76      0.81      0.79     65317\n",
            "weighted avg       0.97      0.97      0.97     65317\n",
            "\n"
          ]
        }
      ],
      "source": [
        "#Print the classification report for the model on the test set\n",
        "print(ranked_models[0]['classification_report'])"
      ]
    },
    {
      "cell_type": "markdown",
      "metadata": {
        "id": "EnP9Iv2dSXvs"
      },
      "source": [
        "# Analysis"
      ]
    },
    {
      "cell_type": "code",
      "execution_count": 61,
      "metadata": {
        "colab": {
          "base_uri": "https://localhost:8080/",
          "height": 645
        },
        "id": "-7Tdv7gOSXI-",
        "outputId": "cd859980-b21e-4814-8c9d-fdd9d4ba0b06"
      },
      "outputs": [
        {
          "data": {
            "text/html": [
              "\n",
              "  <div id=\"df-6a3df198-2717-450a-9695-9a09b9ccebf4\">\n",
              "    <div class=\"colab-df-container\">\n",
              "      <div>\n",
              "<style scoped>\n",
              "    .dataframe tbody tr th:only-of-type {\n",
              "        vertical-align: middle;\n",
              "    }\n",
              "\n",
              "    .dataframe tbody tr th {\n",
              "        vertical-align: top;\n",
              "    }\n",
              "\n",
              "    .dataframe thead th {\n",
              "        text-align: right;\n",
              "    }\n",
              "</style>\n",
              "<table border=\"1\" class=\"dataframe\">\n",
              "  <thead>\n",
              "    <tr style=\"text-align: right;\">\n",
              "      <th></th>\n",
              "      <th>file_id</th>\n",
              "      <th>sentence_id</th>\n",
              "      <th>token</th>\n",
              "      <th>tag</th>\n",
              "      <th>tag_idx</th>\n",
              "      <th>token_idx</th>\n",
              "      <th>prediction</th>\n",
              "    </tr>\n",
              "  </thead>\n",
              "  <tbody>\n",
              "    <tr>\n",
              "      <th>26</th>\n",
              "      <td>1</td>\n",
              "      <td>1</td>\n",
              "      <td>watch</td>\n",
              "      <td>Non Toxic</td>\n",
              "      <td>0</td>\n",
              "      <td>1716</td>\n",
              "      <td>0</td>\n",
              "    </tr>\n",
              "    <tr>\n",
              "      <th>27</th>\n",
              "      <td>1</td>\n",
              "      <td>1</td>\n",
              "      <td>people</td>\n",
              "      <td>Non Toxic</td>\n",
              "      <td>0</td>\n",
              "      <td>69</td>\n",
              "      <td>0</td>\n",
              "    </tr>\n",
              "    <tr>\n",
              "      <th>28</th>\n",
              "      <td>1</td>\n",
              "      <td>1</td>\n",
              "      <td>die</td>\n",
              "      <td>Non Toxic</td>\n",
              "      <td>0</td>\n",
              "      <td>2357</td>\n",
              "      <td>0</td>\n",
              "    </tr>\n",
              "    <tr>\n",
              "      <th>29</th>\n",
              "      <td>1</td>\n",
              "      <td>1</td>\n",
              "      <td>from</td>\n",
              "      <td>Non Toxic</td>\n",
              "      <td>0</td>\n",
              "      <td>25</td>\n",
              "      <td>0</td>\n",
              "    </tr>\n",
              "    <tr>\n",
              "      <th>30</th>\n",
              "      <td>1</td>\n",
              "      <td>1</td>\n",
              "      <td>taking</td>\n",
              "      <td>Non Toxic</td>\n",
              "      <td>0</td>\n",
              "      <td>582</td>\n",
              "      <td>0</td>\n",
              "    </tr>\n",
              "    <tr>\n",
              "      <th>31</th>\n",
              "      <td>1</td>\n",
              "      <td>1</td>\n",
              "      <td>away</td>\n",
              "      <td>Non Toxic</td>\n",
              "      <td>0</td>\n",
              "      <td>420</td>\n",
              "      <td>0</td>\n",
              "    </tr>\n",
              "    <tr>\n",
              "      <th>32</th>\n",
              "      <td>1</td>\n",
              "      <td>1</td>\n",
              "      <td>their</td>\n",
              "      <td>Non Toxic</td>\n",
              "      <td>0</td>\n",
              "      <td>44</td>\n",
              "      <td>0</td>\n",
              "    </tr>\n",
              "    <tr>\n",
              "      <th>33</th>\n",
              "      <td>1</td>\n",
              "      <td>1</td>\n",
              "      <td>healthcare</td>\n",
              "      <td>Non Toxic</td>\n",
              "      <td>0</td>\n",
              "      <td>7851</td>\n",
              "      <td>0</td>\n",
              "    </tr>\n",
              "    <tr>\n",
              "      <th>34</th>\n",
              "      <td>1</td>\n",
              "      <td>1</td>\n",
              "      <td>ding</td>\n",
              "      <td>Non Toxic</td>\n",
              "      <td>0</td>\n",
              "      <td>17037</td>\n",
              "      <td>0</td>\n",
              "    </tr>\n",
              "    <tr>\n",
              "      <th>35</th>\n",
              "      <td>1</td>\n",
              "      <td>1</td>\n",
              "      <td>ding</td>\n",
              "      <td>Non Toxic</td>\n",
              "      <td>0</td>\n",
              "      <td>17037</td>\n",
              "      <td>0</td>\n",
              "    </tr>\n",
              "    <tr>\n",
              "      <th>36</th>\n",
              "      <td>1</td>\n",
              "      <td>1</td>\n",
              "      <td>ding</td>\n",
              "      <td>Non Toxic</td>\n",
              "      <td>0</td>\n",
              "      <td>17037</td>\n",
              "      <td>0</td>\n",
              "    </tr>\n",
              "    <tr>\n",
              "      <th>37</th>\n",
              "      <td>1</td>\n",
              "      <td>1</td>\n",
              "      <td>winner</td>\n",
              "      <td>Non Toxic</td>\n",
              "      <td>0</td>\n",
              "      <td>1364</td>\n",
              "      <td>0</td>\n",
              "    </tr>\n",
              "    <tr>\n",
              "      <th>38</th>\n",
              "      <td>1</td>\n",
              "      <td>1</td>\n",
              "      <td>of</td>\n",
              "      <td>Non Toxic</td>\n",
              "      <td>0</td>\n",
              "      <td>3</td>\n",
              "      <td>0</td>\n",
              "    </tr>\n",
              "    <tr>\n",
              "      <th>39</th>\n",
              "      <td>1</td>\n",
              "      <td>1</td>\n",
              "      <td>stupid</td>\n",
              "      <td>Toxic</td>\n",
              "      <td>1</td>\n",
              "      <td>8979</td>\n",
              "      <td>1</td>\n",
              "    </tr>\n",
              "    <tr>\n",
              "      <th>40</th>\n",
              "      <td>1</td>\n",
              "      <td>1</td>\n",
              "      <td>post</td>\n",
              "      <td>Non Toxic</td>\n",
              "      <td>0</td>\n",
              "      <td>658</td>\n",
              "      <td>0</td>\n",
              "    </tr>\n",
              "    <tr>\n",
              "      <th>41</th>\n",
              "      <td>1</td>\n",
              "      <td>1</td>\n",
              "      <td>of</td>\n",
              "      <td>Non Toxic</td>\n",
              "      <td>0</td>\n",
              "      <td>3</td>\n",
              "      <td>0</td>\n",
              "    </tr>\n",
              "    <tr>\n",
              "      <th>42</th>\n",
              "      <td>1</td>\n",
              "      <td>1</td>\n",
              "      <td>the</td>\n",
              "      <td>Non Toxic</td>\n",
              "      <td>0</td>\n",
              "      <td>0</td>\n",
              "      <td>0</td>\n",
              "    </tr>\n",
              "    <tr>\n",
              "      <th>43</th>\n",
              "      <td>1</td>\n",
              "      <td>1</td>\n",
              "      <td>day</td>\n",
              "      <td>Non Toxic</td>\n",
              "      <td>0</td>\n",
              "      <td>122</td>\n",
              "      <td>0</td>\n",
              "    </tr>\n",
              "    <tr>\n",
              "      <th>44</th>\n",
              "      <td>1</td>\n",
              "      <td>1</td>\n",
              "      <td>award</td>\n",
              "      <td>Non Toxic</td>\n",
              "      <td>0</td>\n",
              "      <td>1060</td>\n",
              "      <td>0</td>\n",
              "    </tr>\n",
              "  </tbody>\n",
              "</table>\n",
              "</div>\n",
              "      <button class=\"colab-df-convert\" onclick=\"convertToInteractive('df-6a3df198-2717-450a-9695-9a09b9ccebf4')\"\n",
              "              title=\"Convert this dataframe to an interactive table.\"\n",
              "              style=\"display:none;\">\n",
              "        \n",
              "  <svg xmlns=\"http://www.w3.org/2000/svg\" height=\"24px\"viewBox=\"0 0 24 24\"\n",
              "       width=\"24px\">\n",
              "    <path d=\"M0 0h24v24H0V0z\" fill=\"none\"/>\n",
              "    <path d=\"M18.56 5.44l.94 2.06.94-2.06 2.06-.94-2.06-.94-.94-2.06-.94 2.06-2.06.94zm-11 1L8.5 8.5l.94-2.06 2.06-.94-2.06-.94L8.5 2.5l-.94 2.06-2.06.94zm10 10l.94 2.06.94-2.06 2.06-.94-2.06-.94-.94-2.06-.94 2.06-2.06.94z\"/><path d=\"M17.41 7.96l-1.37-1.37c-.4-.4-.92-.59-1.43-.59-.52 0-1.04.2-1.43.59L10.3 9.45l-7.72 7.72c-.78.78-.78 2.05 0 2.83L4 21.41c.39.39.9.59 1.41.59.51 0 1.02-.2 1.41-.59l7.78-7.78 2.81-2.81c.8-.78.8-2.07 0-2.86zM5.41 20L4 18.59l7.72-7.72 1.47 1.35L5.41 20z\"/>\n",
              "  </svg>\n",
              "      </button>\n",
              "      \n",
              "  <style>\n",
              "    .colab-df-container {\n",
              "      display:flex;\n",
              "      flex-wrap:wrap;\n",
              "      gap: 12px;\n",
              "    }\n",
              "\n",
              "    .colab-df-convert {\n",
              "      background-color: #E8F0FE;\n",
              "      border: none;\n",
              "      border-radius: 50%;\n",
              "      cursor: pointer;\n",
              "      display: none;\n",
              "      fill: #1967D2;\n",
              "      height: 32px;\n",
              "      padding: 0 0 0 0;\n",
              "      width: 32px;\n",
              "    }\n",
              "\n",
              "    .colab-df-convert:hover {\n",
              "      background-color: #E2EBFA;\n",
              "      box-shadow: 0px 1px 2px rgba(60, 64, 67, 0.3), 0px 1px 3px 1px rgba(60, 64, 67, 0.15);\n",
              "      fill: #174EA6;\n",
              "    }\n",
              "\n",
              "    [theme=dark] .colab-df-convert {\n",
              "      background-color: #3B4455;\n",
              "      fill: #D2E3FC;\n",
              "    }\n",
              "\n",
              "    [theme=dark] .colab-df-convert:hover {\n",
              "      background-color: #434B5C;\n",
              "      box-shadow: 0px 1px 3px 1px rgba(0, 0, 0, 0.15);\n",
              "      filter: drop-shadow(0px 1px 2px rgba(0, 0, 0, 0.3));\n",
              "      fill: #FFFFFF;\n",
              "    }\n",
              "  </style>\n",
              "\n",
              "      <script>\n",
              "        const buttonEl =\n",
              "          document.querySelector('#df-6a3df198-2717-450a-9695-9a09b9ccebf4 button.colab-df-convert');\n",
              "        buttonEl.style.display =\n",
              "          google.colab.kernel.accessAllowed ? 'block' : 'none';\n",
              "\n",
              "        async function convertToInteractive(key) {\n",
              "          const element = document.querySelector('#df-6a3df198-2717-450a-9695-9a09b9ccebf4');\n",
              "          const dataTable =\n",
              "            await google.colab.kernel.invokeFunction('convertToInteractive',\n",
              "                                                     [key], {});\n",
              "          if (!dataTable) return;\n",
              "\n",
              "          const docLinkHtml = 'Like what you see? Visit the ' +\n",
              "            '<a target=\"_blank\" href=https://colab.research.google.com/notebooks/data_table.ipynb>data table notebook</a>'\n",
              "            + ' to learn more about interactive tables.';\n",
              "          element.innerHTML = '';\n",
              "          dataTable['output_type'] = 'display_data';\n",
              "          await google.colab.output.renderOutput(dataTable, element);\n",
              "          const docLink = document.createElement('div');\n",
              "          docLink.innerHTML = docLinkHtml;\n",
              "          element.appendChild(docLink);\n",
              "        }\n",
              "      </script>\n",
              "    </div>\n",
              "  </div>\n",
              "  "
            ],
            "text/plain": [
              "    file_id  sentence_id       token        tag  tag_idx  token_idx  \\\n",
              "26        1            1       watch  Non Toxic        0       1716   \n",
              "27        1            1      people  Non Toxic        0         69   \n",
              "28        1            1         die  Non Toxic        0       2357   \n",
              "29        1            1        from  Non Toxic        0         25   \n",
              "30        1            1      taking  Non Toxic        0        582   \n",
              "31        1            1        away  Non Toxic        0        420   \n",
              "32        1            1       their  Non Toxic        0         44   \n",
              "33        1            1  healthcare  Non Toxic        0       7851   \n",
              "34        1            1        ding  Non Toxic        0      17037   \n",
              "35        1            1        ding  Non Toxic        0      17037   \n",
              "36        1            1        ding  Non Toxic        0      17037   \n",
              "37        1            1      winner  Non Toxic        0       1364   \n",
              "38        1            1          of  Non Toxic        0          3   \n",
              "39        1            1      stupid      Toxic        1       8979   \n",
              "40        1            1        post  Non Toxic        0        658   \n",
              "41        1            1          of  Non Toxic        0          3   \n",
              "42        1            1         the  Non Toxic        0          0   \n",
              "43        1            1         day  Non Toxic        0        122   \n",
              "44        1            1       award  Non Toxic        0       1060   \n",
              "\n",
              "    prediction  \n",
              "26           0  \n",
              "27           0  \n",
              "28           0  \n",
              "29           0  \n",
              "30           0  \n",
              "31           0  \n",
              "32           0  \n",
              "33           0  \n",
              "34           0  \n",
              "35           0  \n",
              "36           0  \n",
              "37           0  \n",
              "38           0  \n",
              "39           1  \n",
              "40           0  \n",
              "41           0  \n",
              "42           0  \n",
              "43           0  \n",
              "44           0  "
            ]
          },
          "execution_count": 61,
          "metadata": {},
          "output_type": "execute_result"
        }
      ],
      "source": [
        "test_data=test.copy()\n",
        "test_data['prediction']= y_pred\n",
        "test_data.loc[test_data['file_id'] == 1]\n",
        "\n"
      ]
    },
    {
      "cell_type": "code",
      "execution_count": 92,
      "metadata": {
        "colab": {
          "base_uri": "https://localhost:8080/",
          "height": 238
        },
        "id": "i3LV65AIVe2r",
        "outputId": "049d7fc3-2b3f-4442-87b2-34ae1dead795"
      },
      "outputs": [
        {
          "data": {
            "text/html": [
              "\n",
              "  <div id=\"df-731645fc-5136-4d34-ba8c-dd90806994d5\">\n",
              "    <div class=\"colab-df-container\">\n",
              "      <div>\n",
              "<style scoped>\n",
              "    .dataframe tbody tr th:only-of-type {\n",
              "        vertical-align: middle;\n",
              "    }\n",
              "\n",
              "    .dataframe tbody tr th {\n",
              "        vertical-align: top;\n",
              "    }\n",
              "\n",
              "    .dataframe thead th {\n",
              "        text-align: right;\n",
              "    }\n",
              "</style>\n",
              "<table border=\"1\" class=\"dataframe\">\n",
              "  <thead>\n",
              "    <tr style=\"text-align: right;\">\n",
              "      <th></th>\n",
              "      <th>file_id</th>\n",
              "      <th>sentence_id</th>\n",
              "      <th>token</th>\n",
              "      <th>tag</th>\n",
              "      <th>tag_idx</th>\n",
              "      <th>token_idx</th>\n",
              "      <th>prediction</th>\n",
              "    </tr>\n",
              "  </thead>\n",
              "  <tbody>\n",
              "    <tr>\n",
              "      <th>946</th>\n",
              "      <td>28</td>\n",
              "      <td>28</td>\n",
              "      <td>this</td>\n",
              "      <td>Non Toxic</td>\n",
              "      <td>0</td>\n",
              "      <td>37</td>\n",
              "      <td>0</td>\n",
              "    </tr>\n",
              "    <tr>\n",
              "      <th>947</th>\n",
              "      <td>28</td>\n",
              "      <td>28</td>\n",
              "      <td>fucking</td>\n",
              "      <td>Toxic</td>\n",
              "      <td>1</td>\n",
              "      <td>48271</td>\n",
              "      <td>1</td>\n",
              "    </tr>\n",
              "    <tr>\n",
              "      <th>948</th>\n",
              "      <td>28</td>\n",
              "      <td>28</td>\n",
              "      <td>idiot</td>\n",
              "      <td>Toxic</td>\n",
              "      <td>1</td>\n",
              "      <td>21622</td>\n",
              "      <td>1</td>\n",
              "    </tr>\n",
              "    <tr>\n",
              "      <th>949</th>\n",
              "      <td>28</td>\n",
              "      <td>28</td>\n",
              "      <td>has</td>\n",
              "      <td>Non Toxic</td>\n",
              "      <td>0</td>\n",
              "      <td>31</td>\n",
              "      <td>0</td>\n",
              "    </tr>\n",
              "    <tr>\n",
              "      <th>950</th>\n",
              "      <td>28</td>\n",
              "      <td>28</td>\n",
              "      <td>no</td>\n",
              "      <td>Non Toxic</td>\n",
              "      <td>0</td>\n",
              "      <td>84</td>\n",
              "      <td>0</td>\n",
              "    </tr>\n",
              "    <tr>\n",
              "      <th>951</th>\n",
              "      <td>28</td>\n",
              "      <td>28</td>\n",
              "      <td>clue</td>\n",
              "      <td>Non Toxic</td>\n",
              "      <td>0</td>\n",
              "      <td>13338</td>\n",
              "      <td>0</td>\n",
              "    </tr>\n",
              "  </tbody>\n",
              "</table>\n",
              "</div>\n",
              "      <button class=\"colab-df-convert\" onclick=\"convertToInteractive('df-731645fc-5136-4d34-ba8c-dd90806994d5')\"\n",
              "              title=\"Convert this dataframe to an interactive table.\"\n",
              "              style=\"display:none;\">\n",
              "        \n",
              "  <svg xmlns=\"http://www.w3.org/2000/svg\" height=\"24px\"viewBox=\"0 0 24 24\"\n",
              "       width=\"24px\">\n",
              "    <path d=\"M0 0h24v24H0V0z\" fill=\"none\"/>\n",
              "    <path d=\"M18.56 5.44l.94 2.06.94-2.06 2.06-.94-2.06-.94-.94-2.06-.94 2.06-2.06.94zm-11 1L8.5 8.5l.94-2.06 2.06-.94-2.06-.94L8.5 2.5l-.94 2.06-2.06.94zm10 10l.94 2.06.94-2.06 2.06-.94-2.06-.94-.94-2.06-.94 2.06-2.06.94z\"/><path d=\"M17.41 7.96l-1.37-1.37c-.4-.4-.92-.59-1.43-.59-.52 0-1.04.2-1.43.59L10.3 9.45l-7.72 7.72c-.78.78-.78 2.05 0 2.83L4 21.41c.39.39.9.59 1.41.59.51 0 1.02-.2 1.41-.59l7.78-7.78 2.81-2.81c.8-.78.8-2.07 0-2.86zM5.41 20L4 18.59l7.72-7.72 1.47 1.35L5.41 20z\"/>\n",
              "  </svg>\n",
              "      </button>\n",
              "      \n",
              "  <style>\n",
              "    .colab-df-container {\n",
              "      display:flex;\n",
              "      flex-wrap:wrap;\n",
              "      gap: 12px;\n",
              "    }\n",
              "\n",
              "    .colab-df-convert {\n",
              "      background-color: #E8F0FE;\n",
              "      border: none;\n",
              "      border-radius: 50%;\n",
              "      cursor: pointer;\n",
              "      display: none;\n",
              "      fill: #1967D2;\n",
              "      height: 32px;\n",
              "      padding: 0 0 0 0;\n",
              "      width: 32px;\n",
              "    }\n",
              "\n",
              "    .colab-df-convert:hover {\n",
              "      background-color: #E2EBFA;\n",
              "      box-shadow: 0px 1px 2px rgba(60, 64, 67, 0.3), 0px 1px 3px 1px rgba(60, 64, 67, 0.15);\n",
              "      fill: #174EA6;\n",
              "    }\n",
              "\n",
              "    [theme=dark] .colab-df-convert {\n",
              "      background-color: #3B4455;\n",
              "      fill: #D2E3FC;\n",
              "    }\n",
              "\n",
              "    [theme=dark] .colab-df-convert:hover {\n",
              "      background-color: #434B5C;\n",
              "      box-shadow: 0px 1px 3px 1px rgba(0, 0, 0, 0.15);\n",
              "      filter: drop-shadow(0px 1px 2px rgba(0, 0, 0, 0.3));\n",
              "      fill: #FFFFFF;\n",
              "    }\n",
              "  </style>\n",
              "\n",
              "      <script>\n",
              "        const buttonEl =\n",
              "          document.querySelector('#df-731645fc-5136-4d34-ba8c-dd90806994d5 button.colab-df-convert');\n",
              "        buttonEl.style.display =\n",
              "          google.colab.kernel.accessAllowed ? 'block' : 'none';\n",
              "\n",
              "        async function convertToInteractive(key) {\n",
              "          const element = document.querySelector('#df-731645fc-5136-4d34-ba8c-dd90806994d5');\n",
              "          const dataTable =\n",
              "            await google.colab.kernel.invokeFunction('convertToInteractive',\n",
              "                                                     [key], {});\n",
              "          if (!dataTable) return;\n",
              "\n",
              "          const docLinkHtml = 'Like what you see? Visit the ' +\n",
              "            '<a target=\"_blank\" href=https://colab.research.google.com/notebooks/data_table.ipynb>data table notebook</a>'\n",
              "            + ' to learn more about interactive tables.';\n",
              "          element.innerHTML = '';\n",
              "          dataTable['output_type'] = 'display_data';\n",
              "          await google.colab.output.renderOutput(dataTable, element);\n",
              "          const docLink = document.createElement('div');\n",
              "          docLink.innerHTML = docLinkHtml;\n",
              "          element.appendChild(docLink);\n",
              "        }\n",
              "      </script>\n",
              "    </div>\n",
              "  </div>\n",
              "  "
            ],
            "text/plain": [
              "     file_id  sentence_id    token        tag  tag_idx  token_idx  prediction\n",
              "946       28           28     this  Non Toxic        0         37           0\n",
              "947       28           28  fucking      Toxic        1      48271           1\n",
              "948       28           28    idiot      Toxic        1      21622           1\n",
              "949       28           28      has  Non Toxic        0         31           0\n",
              "950       28           28       no  Non Toxic        0         84           0\n",
              "951       28           28     clue  Non Toxic        0      13338           0"
            ]
          },
          "execution_count": 92,
          "metadata": {},
          "output_type": "execute_result"
        }
      ],
      "source": [
        "test_data.loc[test_data['file_id'] == 28]\n"
      ]
    },
    {
      "cell_type": "code",
      "execution_count": 63,
      "metadata": {
        "id": "patI6UIhSr_T"
      },
      "outputs": [],
      "source": [
        "def convertDataframeToOriginalFormat(data_fr):\n",
        "\n",
        "  grouped = data_fr.groupby('file_id')\n",
        "  test_dataframe_rows2 = []\n",
        "  for name, group in grouped:\n",
        "      # print(name)\n",
        "      # print(\"group\",group)\n",
        "      sent=\"\"\n",
        "      sent_list=[]\n",
        "      for g in group.token:\n",
        "        sent+=g+\" \" \n",
        "        sent_list.append(g)\n",
        "\n",
        "      toxic_wd=\"\"\n",
        "      i=0\n",
        "      for g in group.tag_idx:\n",
        "        # print((group.token))\n",
        "        if(g==1):\n",
        "          toxic_wd+=sent_list[i]+\",\" \n",
        "        i+=1\n",
        "\n",
        "      toxic_wd=toxic_wd[0:-1]\n",
        "      pred_toxic_wd=\"\"\n",
        "      i=0\n",
        "      for g in group.prediction:\n",
        "        if(g==1):\n",
        "          # print(g)\n",
        "          pred_toxic_wd+=sent_list[i]+\",\" \n",
        "        i+=1\n",
        "      pred_toxic_wd=pred_toxic_wd[0:-1]\n",
        "\n",
        "\n",
        "      # print(sent)\n",
        "      # print(toxic_wd)\n",
        "      # print(pred_toxic_wd)\n",
        "      dataframe_row = {\n",
        "                              \"sentence\": sent,\n",
        "                              \"toxic\": toxic_wd,\n",
        "                              \"prediction\": pred_toxic_wd,\n",
        "                          }\n",
        "      test_dataframe_rows2.append(dataframe_row)\n",
        "  return test_dataframe_rows2"
      ]
    },
    {
      "cell_type": "code",
      "execution_count": 64,
      "metadata": {
        "id": "iu5dyqmqS76Q"
      },
      "outputs": [],
      "source": [
        "df_new=convertDataframeToOriginalFormat(test_data)\n",
        "test_predictions = pd.DataFrame(df_new)\n"
      ]
    },
    {
      "cell_type": "code",
      "execution_count": 65,
      "metadata": {
        "colab": {
          "base_uri": "https://localhost:8080/",
          "height": 206
        },
        "id": "wK_Mav8tTEVv",
        "outputId": "9afdd879-7897-40ba-a9a4-84f27aec754f"
      },
      "outputs": [
        {
          "data": {
            "text/html": [
              "\n",
              "  <div id=\"df-68ed969c-ede1-4e34-b5b6-8530796c7ac7\">\n",
              "    <div class=\"colab-df-container\">\n",
              "      <div>\n",
              "<style scoped>\n",
              "    .dataframe tbody tr th:only-of-type {\n",
              "        vertical-align: middle;\n",
              "    }\n",
              "\n",
              "    .dataframe tbody tr th {\n",
              "        vertical-align: top;\n",
              "    }\n",
              "\n",
              "    .dataframe thead th {\n",
              "        text-align: right;\n",
              "    }\n",
              "</style>\n",
              "<table border=\"1\" class=\"dataframe\">\n",
              "  <thead>\n",
              "    <tr style=\"text-align: right;\">\n",
              "      <th></th>\n",
              "      <th>sentence</th>\n",
              "      <th>toxic</th>\n",
              "      <th>prediction</th>\n",
              "    </tr>\n",
              "  </thead>\n",
              "  <tbody>\n",
              "    <tr>\n",
              "      <th>0</th>\n",
              "      <td>thats right they are not normal and i am start...</td>\n",
              "      <td>abnormal,sexist,rubbish</td>\n",
              "      <td>rubbish</td>\n",
              "    </tr>\n",
              "    <tr>\n",
              "      <th>1</th>\n",
              "      <td>watch people die from taking away their health...</td>\n",
              "      <td>stupid</td>\n",
              "      <td>stupid</td>\n",
              "    </tr>\n",
              "    <tr>\n",
              "      <th>2</th>\n",
              "      <td>tens years ago i contacted the pdr and suggest...</td>\n",
              "      <td></td>\n",
              "      <td>ignorant</td>\n",
              "    </tr>\n",
              "    <tr>\n",
              "      <th>3</th>\n",
              "      <td>the parallels between the anc and the sicilian...</td>\n",
              "      <td></td>\n",
              "      <td>ignorant</td>\n",
              "    </tr>\n",
              "    <tr>\n",
              "      <th>4</th>\n",
              "      <td>intel community how can we work for a presiden...</td>\n",
              "      <td></td>\n",
              "      <td>traitor</td>\n",
              "    </tr>\n",
              "  </tbody>\n",
              "</table>\n",
              "</div>\n",
              "      <button class=\"colab-df-convert\" onclick=\"convertToInteractive('df-68ed969c-ede1-4e34-b5b6-8530796c7ac7')\"\n",
              "              title=\"Convert this dataframe to an interactive table.\"\n",
              "              style=\"display:none;\">\n",
              "        \n",
              "  <svg xmlns=\"http://www.w3.org/2000/svg\" height=\"24px\"viewBox=\"0 0 24 24\"\n",
              "       width=\"24px\">\n",
              "    <path d=\"M0 0h24v24H0V0z\" fill=\"none\"/>\n",
              "    <path d=\"M18.56 5.44l.94 2.06.94-2.06 2.06-.94-2.06-.94-.94-2.06-.94 2.06-2.06.94zm-11 1L8.5 8.5l.94-2.06 2.06-.94-2.06-.94L8.5 2.5l-.94 2.06-2.06.94zm10 10l.94 2.06.94-2.06 2.06-.94-2.06-.94-.94-2.06-.94 2.06-2.06.94z\"/><path d=\"M17.41 7.96l-1.37-1.37c-.4-.4-.92-.59-1.43-.59-.52 0-1.04.2-1.43.59L10.3 9.45l-7.72 7.72c-.78.78-.78 2.05 0 2.83L4 21.41c.39.39.9.59 1.41.59.51 0 1.02-.2 1.41-.59l7.78-7.78 2.81-2.81c.8-.78.8-2.07 0-2.86zM5.41 20L4 18.59l7.72-7.72 1.47 1.35L5.41 20z\"/>\n",
              "  </svg>\n",
              "      </button>\n",
              "      \n",
              "  <style>\n",
              "    .colab-df-container {\n",
              "      display:flex;\n",
              "      flex-wrap:wrap;\n",
              "      gap: 12px;\n",
              "    }\n",
              "\n",
              "    .colab-df-convert {\n",
              "      background-color: #E8F0FE;\n",
              "      border: none;\n",
              "      border-radius: 50%;\n",
              "      cursor: pointer;\n",
              "      display: none;\n",
              "      fill: #1967D2;\n",
              "      height: 32px;\n",
              "      padding: 0 0 0 0;\n",
              "      width: 32px;\n",
              "    }\n",
              "\n",
              "    .colab-df-convert:hover {\n",
              "      background-color: #E2EBFA;\n",
              "      box-shadow: 0px 1px 2px rgba(60, 64, 67, 0.3), 0px 1px 3px 1px rgba(60, 64, 67, 0.15);\n",
              "      fill: #174EA6;\n",
              "    }\n",
              "\n",
              "    [theme=dark] .colab-df-convert {\n",
              "      background-color: #3B4455;\n",
              "      fill: #D2E3FC;\n",
              "    }\n",
              "\n",
              "    [theme=dark] .colab-df-convert:hover {\n",
              "      background-color: #434B5C;\n",
              "      box-shadow: 0px 1px 3px 1px rgba(0, 0, 0, 0.15);\n",
              "      filter: drop-shadow(0px 1px 2px rgba(0, 0, 0, 0.3));\n",
              "      fill: #FFFFFF;\n",
              "    }\n",
              "  </style>\n",
              "\n",
              "      <script>\n",
              "        const buttonEl =\n",
              "          document.querySelector('#df-68ed969c-ede1-4e34-b5b6-8530796c7ac7 button.colab-df-convert');\n",
              "        buttonEl.style.display =\n",
              "          google.colab.kernel.accessAllowed ? 'block' : 'none';\n",
              "\n",
              "        async function convertToInteractive(key) {\n",
              "          const element = document.querySelector('#df-68ed969c-ede1-4e34-b5b6-8530796c7ac7');\n",
              "          const dataTable =\n",
              "            await google.colab.kernel.invokeFunction('convertToInteractive',\n",
              "                                                     [key], {});\n",
              "          if (!dataTable) return;\n",
              "\n",
              "          const docLinkHtml = 'Like what you see? Visit the ' +\n",
              "            '<a target=\"_blank\" href=https://colab.research.google.com/notebooks/data_table.ipynb>data table notebook</a>'\n",
              "            + ' to learn more about interactive tables.';\n",
              "          element.innerHTML = '';\n",
              "          dataTable['output_type'] = 'display_data';\n",
              "          await google.colab.output.renderOutput(dataTable, element);\n",
              "          const docLink = document.createElement('div');\n",
              "          docLink.innerHTML = docLinkHtml;\n",
              "          element.appendChild(docLink);\n",
              "        }\n",
              "      </script>\n",
              "    </div>\n",
              "  </div>\n",
              "  "
            ],
            "text/plain": [
              "                                            sentence                    toxic  \\\n",
              "0  thats right they are not normal and i am start...  abnormal,sexist,rubbish   \n",
              "1  watch people die from taking away their health...                   stupid   \n",
              "2  tens years ago i contacted the pdr and suggest...                            \n",
              "3  the parallels between the anc and the sicilian...                            \n",
              "4  intel community how can we work for a presiden...                            \n",
              "\n",
              "  prediction  \n",
              "0    rubbish  \n",
              "1     stupid  \n",
              "2   ignorant  \n",
              "3   ignorant  \n",
              "4    traitor  "
            ]
          },
          "execution_count": 65,
          "metadata": {},
          "output_type": "execute_result"
        }
      ],
      "source": [
        "test_predictions.head(5)\n",
        "# test_predictions.loc[(test_predictions['toxic'] !=\"\") & (test_predictions['prediction'] ==\"\")]\n",
        "# test_predictions.loc[(test_predictions['toxic'] !=\"\") & (test_predictions['prediction'] ==\"\")]"
      ]
    },
    {
      "cell_type": "code",
      "execution_count": 66,
      "metadata": {
        "colab": {
          "base_uri": "https://localhost:8080/",
          "height": 206
        },
        "id": "YDNZWj6rVltc",
        "outputId": "9f64e253-cda3-448d-baac-38dd4ffd0ffd"
      },
      "outputs": [
        {
          "data": {
            "text/html": [
              "\n",
              "  <div id=\"df-20bf1bbf-251c-47aa-b44d-7f0ea7976561\">\n",
              "    <div class=\"colab-df-container\">\n",
              "      <div>\n",
              "<style scoped>\n",
              "    .dataframe tbody tr th:only-of-type {\n",
              "        vertical-align: middle;\n",
              "    }\n",
              "\n",
              "    .dataframe tbody tr th {\n",
              "        vertical-align: top;\n",
              "    }\n",
              "\n",
              "    .dataframe thead th {\n",
              "        text-align: right;\n",
              "    }\n",
              "</style>\n",
              "<table border=\"1\" class=\"dataframe\">\n",
              "  <thead>\n",
              "    <tr style=\"text-align: right;\">\n",
              "      <th></th>\n",
              "      <th>sentence</th>\n",
              "      <th>toxic</th>\n",
              "      <th>prediction</th>\n",
              "    </tr>\n",
              "  </thead>\n",
              "  <tbody>\n",
              "    <tr>\n",
              "      <th>1995</th>\n",
              "      <td>hey loser change your name to something more a...</td>\n",
              "      <td>loser,ignorant,loser</td>\n",
              "      <td>loser,ignorant</td>\n",
              "    </tr>\n",
              "    <tr>\n",
              "      <th>1996</th>\n",
              "      <td>and you are a complete moron who obviously doe...</td>\n",
              "      <td>moron</td>\n",
              "      <td>moron,narcissist</td>\n",
              "    </tr>\n",
              "    <tr>\n",
              "      <th>1997</th>\n",
              "      <td>such vitriol from the left who would have thou...</td>\n",
              "      <td>hypocrites</td>\n",
              "      <td>hypocrites</td>\n",
              "    </tr>\n",
              "    <tr>\n",
              "      <th>1998</th>\n",
              "      <td>it is now time for most of you to expand your ...</td>\n",
              "      <td></td>\n",
              "      <td>of,expand,pebble,minds</td>\n",
              "    </tr>\n",
              "    <tr>\n",
              "      <th>1999</th>\n",
              "      <td>why does this author think she can demand or i...</td>\n",
              "      <td>dumb</td>\n",
              "      <td>goon,dumb,ignorant</td>\n",
              "    </tr>\n",
              "  </tbody>\n",
              "</table>\n",
              "</div>\n",
              "      <button class=\"colab-df-convert\" onclick=\"convertToInteractive('df-20bf1bbf-251c-47aa-b44d-7f0ea7976561')\"\n",
              "              title=\"Convert this dataframe to an interactive table.\"\n",
              "              style=\"display:none;\">\n",
              "        \n",
              "  <svg xmlns=\"http://www.w3.org/2000/svg\" height=\"24px\"viewBox=\"0 0 24 24\"\n",
              "       width=\"24px\">\n",
              "    <path d=\"M0 0h24v24H0V0z\" fill=\"none\"/>\n",
              "    <path d=\"M18.56 5.44l.94 2.06.94-2.06 2.06-.94-2.06-.94-.94-2.06-.94 2.06-2.06.94zm-11 1L8.5 8.5l.94-2.06 2.06-.94-2.06-.94L8.5 2.5l-.94 2.06-2.06.94zm10 10l.94 2.06.94-2.06 2.06-.94-2.06-.94-.94-2.06-.94 2.06-2.06.94z\"/><path d=\"M17.41 7.96l-1.37-1.37c-.4-.4-.92-.59-1.43-.59-.52 0-1.04.2-1.43.59L10.3 9.45l-7.72 7.72c-.78.78-.78 2.05 0 2.83L4 21.41c.39.39.9.59 1.41.59.51 0 1.02-.2 1.41-.59l7.78-7.78 2.81-2.81c.8-.78.8-2.07 0-2.86zM5.41 20L4 18.59l7.72-7.72 1.47 1.35L5.41 20z\"/>\n",
              "  </svg>\n",
              "      </button>\n",
              "      \n",
              "  <style>\n",
              "    .colab-df-container {\n",
              "      display:flex;\n",
              "      flex-wrap:wrap;\n",
              "      gap: 12px;\n",
              "    }\n",
              "\n",
              "    .colab-df-convert {\n",
              "      background-color: #E8F0FE;\n",
              "      border: none;\n",
              "      border-radius: 50%;\n",
              "      cursor: pointer;\n",
              "      display: none;\n",
              "      fill: #1967D2;\n",
              "      height: 32px;\n",
              "      padding: 0 0 0 0;\n",
              "      width: 32px;\n",
              "    }\n",
              "\n",
              "    .colab-df-convert:hover {\n",
              "      background-color: #E2EBFA;\n",
              "      box-shadow: 0px 1px 2px rgba(60, 64, 67, 0.3), 0px 1px 3px 1px rgba(60, 64, 67, 0.15);\n",
              "      fill: #174EA6;\n",
              "    }\n",
              "\n",
              "    [theme=dark] .colab-df-convert {\n",
              "      background-color: #3B4455;\n",
              "      fill: #D2E3FC;\n",
              "    }\n",
              "\n",
              "    [theme=dark] .colab-df-convert:hover {\n",
              "      background-color: #434B5C;\n",
              "      box-shadow: 0px 1px 3px 1px rgba(0, 0, 0, 0.15);\n",
              "      filter: drop-shadow(0px 1px 2px rgba(0, 0, 0, 0.3));\n",
              "      fill: #FFFFFF;\n",
              "    }\n",
              "  </style>\n",
              "\n",
              "      <script>\n",
              "        const buttonEl =\n",
              "          document.querySelector('#df-20bf1bbf-251c-47aa-b44d-7f0ea7976561 button.colab-df-convert');\n",
              "        buttonEl.style.display =\n",
              "          google.colab.kernel.accessAllowed ? 'block' : 'none';\n",
              "\n",
              "        async function convertToInteractive(key) {\n",
              "          const element = document.querySelector('#df-20bf1bbf-251c-47aa-b44d-7f0ea7976561');\n",
              "          const dataTable =\n",
              "            await google.colab.kernel.invokeFunction('convertToInteractive',\n",
              "                                                     [key], {});\n",
              "          if (!dataTable) return;\n",
              "\n",
              "          const docLinkHtml = 'Like what you see? Visit the ' +\n",
              "            '<a target=\"_blank\" href=https://colab.research.google.com/notebooks/data_table.ipynb>data table notebook</a>'\n",
              "            + ' to learn more about interactive tables.';\n",
              "          element.innerHTML = '';\n",
              "          dataTable['output_type'] = 'display_data';\n",
              "          await google.colab.output.renderOutput(dataTable, element);\n",
              "          const docLink = document.createElement('div');\n",
              "          docLink.innerHTML = docLinkHtml;\n",
              "          element.appendChild(docLink);\n",
              "        }\n",
              "      </script>\n",
              "    </div>\n",
              "  </div>\n",
              "  "
            ],
            "text/plain": [
              "                                               sentence                 toxic  \\\n",
              "1995  hey loser change your name to something more a...  loser,ignorant,loser   \n",
              "1996  and you are a complete moron who obviously doe...                 moron   \n",
              "1997  such vitriol from the left who would have thou...            hypocrites   \n",
              "1998  it is now time for most of you to expand your ...                         \n",
              "1999  why does this author think she can demand or i...                  dumb   \n",
              "\n",
              "                  prediction  \n",
              "1995          loser,ignorant  \n",
              "1996        moron,narcissist  \n",
              "1997              hypocrites  \n",
              "1998  of,expand,pebble,minds  \n",
              "1999      goon,dumb,ignorant  "
            ]
          },
          "execution_count": 66,
          "metadata": {},
          "output_type": "execute_result"
        }
      ],
      "source": [
        "test_predictions.tail(5)"
      ]
    },
    {
      "cell_type": "code",
      "execution_count": 67,
      "metadata": {
        "id": "UT3IySWkTsB2"
      },
      "outputs": [],
      "source": [
        "def getWordSpan(sent, word):\n",
        "  \n",
        "\n",
        "  start_indx=(sent.find(word))\n",
        "\n",
        "  LIST=[]\n",
        "  for i in range(len(word)):\n",
        "      LIST.append(start_indx)\n",
        "      start_indx+=1\n",
        "    \n",
        "  return LIST"
      ]
    },
    {
      "cell_type": "code",
      "execution_count": 68,
      "metadata": {
        "id": "231qsVp-TuUP"
      },
      "outputs": [],
      "source": [
        "# for lop in test_predictions.sentence:\n",
        "#   print(lop)\n",
        "#   break\n",
        "\n",
        "# # test_predictions.head(2)\n",
        "\n",
        "sent_list = test_predictions[\"sentence\"].values.tolist()\n",
        "toxic_list = test_predictions[\"toxic\"].values.tolist()\n",
        "pred_list = test_predictions[\"prediction\"].values.tolist()\n",
        "\n",
        "Actual_span=[]\n",
        "Pred_span=[]\n",
        "ih=0\n",
        "for i in sent_list:\n",
        "  a_span=[]\n",
        "  p_span=[]\n",
        "  tl=toxic_list[ih].split(\",\")\n",
        "  for t in tl:\n",
        "    ou=getWordSpan(i,t)\n",
        "    a_span.extend(ou)\n",
        "\n",
        "  pl=pred_list[ih].split(\",\")\n",
        "  for t in pl:\n",
        "      ou=getWordSpan(i,t)\n",
        "      p_span.extend(ou)\n",
        "\n",
        "  Actual_span.append(a_span)\n",
        "  Pred_span.append(p_span)\n",
        "  ih+=1\n",
        "  \n",
        "\n",
        "# print(len(sent_list))"
      ]
    },
    {
      "cell_type": "code",
      "execution_count": 69,
      "metadata": {
        "id": "EYngSbrgT2pp"
      },
      "outputs": [],
      "source": [
        "df = pd.DataFrame()\n",
        "df[\"sentence\"]=sent_list\n",
        "df[\"toxic\"]=toxic_list\n",
        "df[\"predicted\"]=pred_list\n",
        "df[\"toxic_span\"]=Actual_span\n",
        "df[\"pred_toxic_span\"]=Pred_span\n",
        "\n",
        "# Printing Empty DataFrame\n"
      ]
    },
    {
      "cell_type": "code",
      "execution_count": 70,
      "metadata": {
        "colab": {
          "base_uri": "https://localhost:8080/",
          "height": 581
        },
        "id": "4_P2_u9fT75V",
        "outputId": "aed8d0fe-eb29-4418-b0d3-29bcc6edf9b5"
      },
      "outputs": [
        {
          "data": {
            "text/html": [
              "\n",
              "  <div id=\"df-568eab45-9b8a-48af-a8a3-fd870676e9a4\">\n",
              "    <div class=\"colab-df-container\">\n",
              "      <div>\n",
              "<style scoped>\n",
              "    .dataframe tbody tr th:only-of-type {\n",
              "        vertical-align: middle;\n",
              "    }\n",
              "\n",
              "    .dataframe tbody tr th {\n",
              "        vertical-align: top;\n",
              "    }\n",
              "\n",
              "    .dataframe thead th {\n",
              "        text-align: right;\n",
              "    }\n",
              "</style>\n",
              "<table border=\"1\" class=\"dataframe\">\n",
              "  <thead>\n",
              "    <tr style=\"text-align: right;\">\n",
              "      <th></th>\n",
              "      <th>sentence</th>\n",
              "      <th>toxic</th>\n",
              "      <th>predicted</th>\n",
              "      <th>toxic_span</th>\n",
              "      <th>pred_toxic_span</th>\n",
              "    </tr>\n",
              "  </thead>\n",
              "  <tbody>\n",
              "    <tr>\n",
              "      <th>0</th>\n",
              "      <td>thats right they are not normal and i am start...</td>\n",
              "      <td>abnormal,sexist,rubbish</td>\n",
              "      <td>rubbish</td>\n",
              "      <td>[81, 82, 83, 84, 85, 86, 87, 88, 127, 128, 129...</td>\n",
              "      <td>[134, 135, 136, 137, 138, 139, 140]</td>\n",
              "    </tr>\n",
              "    <tr>\n",
              "      <th>1</th>\n",
              "      <td>watch people die from taking away their health...</td>\n",
              "      <td>stupid</td>\n",
              "      <td>stupid</td>\n",
              "      <td>[76, 77, 78, 79, 80, 81]</td>\n",
              "      <td>[76, 77, 78, 79, 80, 81]</td>\n",
              "    </tr>\n",
              "    <tr>\n",
              "      <th>2</th>\n",
              "      <td>tens years ago i contacted the pdr and suggest...</td>\n",
              "      <td></td>\n",
              "      <td>ignorant</td>\n",
              "      <td>[]</td>\n",
              "      <td>[468, 469, 470, 471, 472, 473, 474, 475]</td>\n",
              "    </tr>\n",
              "    <tr>\n",
              "      <th>3</th>\n",
              "      <td>the parallels between the anc and the sicilian...</td>\n",
              "      <td></td>\n",
              "      <td>ignorant</td>\n",
              "      <td>[]</td>\n",
              "      <td>[400, 401, 402, 403, 404, 405, 406, 407]</td>\n",
              "    </tr>\n",
              "    <tr>\n",
              "      <th>4</th>\n",
              "      <td>intel community how can we work for a presiden...</td>\n",
              "      <td></td>\n",
              "      <td>traitor</td>\n",
              "      <td>[]</td>\n",
              "      <td>[629, 630, 631, 632, 633, 634, 635]</td>\n",
              "    </tr>\n",
              "    <tr>\n",
              "      <th>5</th>\n",
              "      <td>i live in an area that saw major flood damage ...</td>\n",
              "      <td>stupid</td>\n",
              "      <td>stupid</td>\n",
              "      <td>[126, 127, 128, 129, 130, 131]</td>\n",
              "      <td>[126, 127, 128, 129, 130, 131]</td>\n",
              "    </tr>\n",
              "    <tr>\n",
              "      <th>6</th>\n",
              "      <td>elaine marie jeffers sounds like a sociopath</td>\n",
              "      <td>sociopath</td>\n",
              "      <td>sociopath</td>\n",
              "      <td>[35, 36, 37, 38, 39, 40, 41, 42, 43]</td>\n",
              "      <td>[35, 36, 37, 38, 39, 40, 41, 42, 43]</td>\n",
              "    </tr>\n",
              "    <tr>\n",
              "      <th>7</th>\n",
              "      <td>a rock has more mental horsepower than the ind...</td>\n",
              "      <td>ignorant,dishonest,people</td>\n",
              "      <td>ignorant</td>\n",
              "      <td>[55, 56, 57, 58, 59, 60, 61, 62, 111, 112, 113...</td>\n",
              "      <td>[55, 56, 57, 58, 59, 60, 61, 62]</td>\n",
              "    </tr>\n",
              "    <tr>\n",
              "      <th>8</th>\n",
              "      <td>ha ha hillary lost all you hillary fools need ...</td>\n",
              "      <td>fools,dump,trash</td>\n",
              "      <td>fools,antiamerican,scum,perhaps,dump,trash,morons</td>\n",
              "      <td>[35, 36, 37, 38, 39, 152, 153, 154, 155, 198, ...</td>\n",
              "      <td>[35, 36, 37, 38, 39, 116, 117, 118, 119, 120, ...</td>\n",
              "    </tr>\n",
              "    <tr>\n",
              "      <th>9</th>\n",
              "      <td>yesit is to be expectedoddly enough it happens...</td>\n",
              "      <td>dumb</td>\n",
              "      <td>dumb</td>\n",
              "      <td>[86, 87, 88, 89]</td>\n",
              "      <td>[86, 87, 88, 89]</td>\n",
              "    </tr>\n",
              "  </tbody>\n",
              "</table>\n",
              "</div>\n",
              "      <button class=\"colab-df-convert\" onclick=\"convertToInteractive('df-568eab45-9b8a-48af-a8a3-fd870676e9a4')\"\n",
              "              title=\"Convert this dataframe to an interactive table.\"\n",
              "              style=\"display:none;\">\n",
              "        \n",
              "  <svg xmlns=\"http://www.w3.org/2000/svg\" height=\"24px\"viewBox=\"0 0 24 24\"\n",
              "       width=\"24px\">\n",
              "    <path d=\"M0 0h24v24H0V0z\" fill=\"none\"/>\n",
              "    <path d=\"M18.56 5.44l.94 2.06.94-2.06 2.06-.94-2.06-.94-.94-2.06-.94 2.06-2.06.94zm-11 1L8.5 8.5l.94-2.06 2.06-.94-2.06-.94L8.5 2.5l-.94 2.06-2.06.94zm10 10l.94 2.06.94-2.06 2.06-.94-2.06-.94-.94-2.06-.94 2.06-2.06.94z\"/><path d=\"M17.41 7.96l-1.37-1.37c-.4-.4-.92-.59-1.43-.59-.52 0-1.04.2-1.43.59L10.3 9.45l-7.72 7.72c-.78.78-.78 2.05 0 2.83L4 21.41c.39.39.9.59 1.41.59.51 0 1.02-.2 1.41-.59l7.78-7.78 2.81-2.81c.8-.78.8-2.07 0-2.86zM5.41 20L4 18.59l7.72-7.72 1.47 1.35L5.41 20z\"/>\n",
              "  </svg>\n",
              "      </button>\n",
              "      \n",
              "  <style>\n",
              "    .colab-df-container {\n",
              "      display:flex;\n",
              "      flex-wrap:wrap;\n",
              "      gap: 12px;\n",
              "    }\n",
              "\n",
              "    .colab-df-convert {\n",
              "      background-color: #E8F0FE;\n",
              "      border: none;\n",
              "      border-radius: 50%;\n",
              "      cursor: pointer;\n",
              "      display: none;\n",
              "      fill: #1967D2;\n",
              "      height: 32px;\n",
              "      padding: 0 0 0 0;\n",
              "      width: 32px;\n",
              "    }\n",
              "\n",
              "    .colab-df-convert:hover {\n",
              "      background-color: #E2EBFA;\n",
              "      box-shadow: 0px 1px 2px rgba(60, 64, 67, 0.3), 0px 1px 3px 1px rgba(60, 64, 67, 0.15);\n",
              "      fill: #174EA6;\n",
              "    }\n",
              "\n",
              "    [theme=dark] .colab-df-convert {\n",
              "      background-color: #3B4455;\n",
              "      fill: #D2E3FC;\n",
              "    }\n",
              "\n",
              "    [theme=dark] .colab-df-convert:hover {\n",
              "      background-color: #434B5C;\n",
              "      box-shadow: 0px 1px 3px 1px rgba(0, 0, 0, 0.15);\n",
              "      filter: drop-shadow(0px 1px 2px rgba(0, 0, 0, 0.3));\n",
              "      fill: #FFFFFF;\n",
              "    }\n",
              "  </style>\n",
              "\n",
              "      <script>\n",
              "        const buttonEl =\n",
              "          document.querySelector('#df-568eab45-9b8a-48af-a8a3-fd870676e9a4 button.colab-df-convert');\n",
              "        buttonEl.style.display =\n",
              "          google.colab.kernel.accessAllowed ? 'block' : 'none';\n",
              "\n",
              "        async function convertToInteractive(key) {\n",
              "          const element = document.querySelector('#df-568eab45-9b8a-48af-a8a3-fd870676e9a4');\n",
              "          const dataTable =\n",
              "            await google.colab.kernel.invokeFunction('convertToInteractive',\n",
              "                                                     [key], {});\n",
              "          if (!dataTable) return;\n",
              "\n",
              "          const docLinkHtml = 'Like what you see? Visit the ' +\n",
              "            '<a target=\"_blank\" href=https://colab.research.google.com/notebooks/data_table.ipynb>data table notebook</a>'\n",
              "            + ' to learn more about interactive tables.';\n",
              "          element.innerHTML = '';\n",
              "          dataTable['output_type'] = 'display_data';\n",
              "          await google.colab.output.renderOutput(dataTable, element);\n",
              "          const docLink = document.createElement('div');\n",
              "          docLink.innerHTML = docLinkHtml;\n",
              "          element.appendChild(docLink);\n",
              "        }\n",
              "      </script>\n",
              "    </div>\n",
              "  </div>\n",
              "  "
            ],
            "text/plain": [
              "                                            sentence  \\\n",
              "0  thats right they are not normal and i am start...   \n",
              "1  watch people die from taking away their health...   \n",
              "2  tens years ago i contacted the pdr and suggest...   \n",
              "3  the parallels between the anc and the sicilian...   \n",
              "4  intel community how can we work for a presiden...   \n",
              "5  i live in an area that saw major flood damage ...   \n",
              "6      elaine marie jeffers sounds like a sociopath    \n",
              "7  a rock has more mental horsepower than the ind...   \n",
              "8  ha ha hillary lost all you hillary fools need ...   \n",
              "9  yesit is to be expectedoddly enough it happens...   \n",
              "\n",
              "                       toxic  \\\n",
              "0    abnormal,sexist,rubbish   \n",
              "1                     stupid   \n",
              "2                              \n",
              "3                              \n",
              "4                              \n",
              "5                     stupid   \n",
              "6                  sociopath   \n",
              "7  ignorant,dishonest,people   \n",
              "8           fools,dump,trash   \n",
              "9                       dumb   \n",
              "\n",
              "                                           predicted  \\\n",
              "0                                            rubbish   \n",
              "1                                             stupid   \n",
              "2                                           ignorant   \n",
              "3                                           ignorant   \n",
              "4                                            traitor   \n",
              "5                                             stupid   \n",
              "6                                          sociopath   \n",
              "7                                           ignorant   \n",
              "8  fools,antiamerican,scum,perhaps,dump,trash,morons   \n",
              "9                                               dumb   \n",
              "\n",
              "                                          toxic_span  \\\n",
              "0  [81, 82, 83, 84, 85, 86, 87, 88, 127, 128, 129...   \n",
              "1                           [76, 77, 78, 79, 80, 81]   \n",
              "2                                                 []   \n",
              "3                                                 []   \n",
              "4                                                 []   \n",
              "5                     [126, 127, 128, 129, 130, 131]   \n",
              "6               [35, 36, 37, 38, 39, 40, 41, 42, 43]   \n",
              "7  [55, 56, 57, 58, 59, 60, 61, 62, 111, 112, 113...   \n",
              "8  [35, 36, 37, 38, 39, 152, 153, 154, 155, 198, ...   \n",
              "9                                   [86, 87, 88, 89]   \n",
              "\n",
              "                                     pred_toxic_span  \n",
              "0                [134, 135, 136, 137, 138, 139, 140]  \n",
              "1                           [76, 77, 78, 79, 80, 81]  \n",
              "2           [468, 469, 470, 471, 472, 473, 474, 475]  \n",
              "3           [400, 401, 402, 403, 404, 405, 406, 407]  \n",
              "4                [629, 630, 631, 632, 633, 634, 635]  \n",
              "5                     [126, 127, 128, 129, 130, 131]  \n",
              "6               [35, 36, 37, 38, 39, 40, 41, 42, 43]  \n",
              "7                   [55, 56, 57, 58, 59, 60, 61, 62]  \n",
              "8  [35, 36, 37, 38, 39, 116, 117, 118, 119, 120, ...  \n",
              "9                                   [86, 87, 88, 89]  "
            ]
          },
          "execution_count": 70,
          "metadata": {},
          "output_type": "execute_result"
        }
      ],
      "source": [
        "df.head(10)"
      ]
    },
    {
      "cell_type": "code",
      "execution_count": 71,
      "metadata": {
        "colab": {
          "base_uri": "https://localhost:8080/",
          "height": 407
        },
        "id": "1dZ3XCHBVzFu",
        "outputId": "c0252421-e180-43d2-bda1-f012fd6a6af2"
      },
      "outputs": [
        {
          "data": {
            "text/html": [
              "\n",
              "  <div id=\"df-7ef8e61b-7de4-45c1-a2cc-710e03558f70\">\n",
              "    <div class=\"colab-df-container\">\n",
              "      <div>\n",
              "<style scoped>\n",
              "    .dataframe tbody tr th:only-of-type {\n",
              "        vertical-align: middle;\n",
              "    }\n",
              "\n",
              "    .dataframe tbody tr th {\n",
              "        vertical-align: top;\n",
              "    }\n",
              "\n",
              "    .dataframe thead th {\n",
              "        text-align: right;\n",
              "    }\n",
              "</style>\n",
              "<table border=\"1\" class=\"dataframe\">\n",
              "  <thead>\n",
              "    <tr style=\"text-align: right;\">\n",
              "      <th></th>\n",
              "      <th>sentence</th>\n",
              "      <th>toxic</th>\n",
              "      <th>predicted</th>\n",
              "      <th>toxic_span</th>\n",
              "      <th>pred_toxic_span</th>\n",
              "    </tr>\n",
              "  </thead>\n",
              "  <tbody>\n",
              "    <tr>\n",
              "      <th>1990</th>\n",
              "      <td>there ya go stupidity to the max</td>\n",
              "      <td>stupidity</td>\n",
              "      <td>stupidity</td>\n",
              "      <td>[12, 13, 14, 15, 16, 17, 18, 19, 20]</td>\n",
              "      <td>[12, 13, 14, 15, 16, 17, 18, 19, 20]</td>\n",
              "    </tr>\n",
              "    <tr>\n",
              "      <th>1991</th>\n",
              "      <td>sanders has balls unlike treyson goowdythe gow...</td>\n",
              "      <td></td>\n",
              "      <td>nothingwhat,a,loser</td>\n",
              "      <td>[]</td>\n",
              "      <td>[73, 74, 75, 76, 77, 78, 79, 80, 81, 82, 83, 1...</td>\n",
              "    </tr>\n",
              "    <tr>\n",
              "      <th>1992</th>\n",
              "      <td>its really hard to say this since there are so...</td>\n",
              "      <td></td>\n",
              "      <td></td>\n",
              "      <td>[]</td>\n",
              "      <td>[]</td>\n",
              "    </tr>\n",
              "    <tr>\n",
              "      <th>1993</th>\n",
              "      <td>saying the strategy will work quickly is epito...</td>\n",
              "      <td>stupidity</td>\n",
              "      <td>stupidity</td>\n",
              "      <td>[52, 53, 54, 55, 56, 57, 58, 59, 60]</td>\n",
              "      <td>[52, 53, 54, 55, 56, 57, 58, 59, 60]</td>\n",
              "    </tr>\n",
              "    <tr>\n",
              "      <th>1994</th>\n",
              "      <td>trump bunnies you cant fix stupid fact proven ...</td>\n",
              "      <td>stupid</td>\n",
              "      <td>stupid</td>\n",
              "      <td>[27, 28, 29, 30, 31, 32]</td>\n",
              "      <td>[27, 28, 29, 30, 31, 32]</td>\n",
              "    </tr>\n",
              "    <tr>\n",
              "      <th>1995</th>\n",
              "      <td>hey loser change your name to something more a...</td>\n",
              "      <td>loser,ignorant,loser</td>\n",
              "      <td>loser,ignorant</td>\n",
              "      <td>[4, 5, 6, 7, 8, 69, 70, 71, 72, 73, 74, 75, 76...</td>\n",
              "      <td>[4, 5, 6, 7, 8, 69, 70, 71, 72, 73, 74, 75, 76]</td>\n",
              "    </tr>\n",
              "    <tr>\n",
              "      <th>1996</th>\n",
              "      <td>and you are a complete moron who obviously doe...</td>\n",
              "      <td>moron</td>\n",
              "      <td>moron,narcissist</td>\n",
              "      <td>[23, 24, 25, 26, 27]</td>\n",
              "      <td>[23, 24, 25, 26, 27, 79, 80, 81, 82, 83, 84, 8...</td>\n",
              "    </tr>\n",
              "    <tr>\n",
              "      <th>1997</th>\n",
              "      <td>such vitriol from the left who would have thou...</td>\n",
              "      <td>hypocrites</td>\n",
              "      <td>hypocrites</td>\n",
              "      <td>[152, 153, 154, 155, 156, 157, 158, 159, 160, ...</td>\n",
              "      <td>[152, 153, 154, 155, 156, 157, 158, 159, 160, ...</td>\n",
              "    </tr>\n",
              "    <tr>\n",
              "      <th>1998</th>\n",
              "      <td>it is now time for most of you to expand your ...</td>\n",
              "      <td></td>\n",
              "      <td>of,expand,pebble,minds</td>\n",
              "      <td>[]</td>\n",
              "      <td>[24, 25, 34, 35, 36, 37, 38, 39, 46, 47, 48, 4...</td>\n",
              "    </tr>\n",
              "    <tr>\n",
              "      <th>1999</th>\n",
              "      <td>why does this author think she can demand or i...</td>\n",
              "      <td>dumb</td>\n",
              "      <td>goon,dumb,ignorant</td>\n",
              "      <td>[807, 808, 809, 810]</td>\n",
              "      <td>[107, 108, 109, 110, 807, 808, 809, 810, 622, ...</td>\n",
              "    </tr>\n",
              "  </tbody>\n",
              "</table>\n",
              "</div>\n",
              "      <button class=\"colab-df-convert\" onclick=\"convertToInteractive('df-7ef8e61b-7de4-45c1-a2cc-710e03558f70')\"\n",
              "              title=\"Convert this dataframe to an interactive table.\"\n",
              "              style=\"display:none;\">\n",
              "        \n",
              "  <svg xmlns=\"http://www.w3.org/2000/svg\" height=\"24px\"viewBox=\"0 0 24 24\"\n",
              "       width=\"24px\">\n",
              "    <path d=\"M0 0h24v24H0V0z\" fill=\"none\"/>\n",
              "    <path d=\"M18.56 5.44l.94 2.06.94-2.06 2.06-.94-2.06-.94-.94-2.06-.94 2.06-2.06.94zm-11 1L8.5 8.5l.94-2.06 2.06-.94-2.06-.94L8.5 2.5l-.94 2.06-2.06.94zm10 10l.94 2.06.94-2.06 2.06-.94-2.06-.94-.94-2.06-.94 2.06-2.06.94z\"/><path d=\"M17.41 7.96l-1.37-1.37c-.4-.4-.92-.59-1.43-.59-.52 0-1.04.2-1.43.59L10.3 9.45l-7.72 7.72c-.78.78-.78 2.05 0 2.83L4 21.41c.39.39.9.59 1.41.59.51 0 1.02-.2 1.41-.59l7.78-7.78 2.81-2.81c.8-.78.8-2.07 0-2.86zM5.41 20L4 18.59l7.72-7.72 1.47 1.35L5.41 20z\"/>\n",
              "  </svg>\n",
              "      </button>\n",
              "      \n",
              "  <style>\n",
              "    .colab-df-container {\n",
              "      display:flex;\n",
              "      flex-wrap:wrap;\n",
              "      gap: 12px;\n",
              "    }\n",
              "\n",
              "    .colab-df-convert {\n",
              "      background-color: #E8F0FE;\n",
              "      border: none;\n",
              "      border-radius: 50%;\n",
              "      cursor: pointer;\n",
              "      display: none;\n",
              "      fill: #1967D2;\n",
              "      height: 32px;\n",
              "      padding: 0 0 0 0;\n",
              "      width: 32px;\n",
              "    }\n",
              "\n",
              "    .colab-df-convert:hover {\n",
              "      background-color: #E2EBFA;\n",
              "      box-shadow: 0px 1px 2px rgba(60, 64, 67, 0.3), 0px 1px 3px 1px rgba(60, 64, 67, 0.15);\n",
              "      fill: #174EA6;\n",
              "    }\n",
              "\n",
              "    [theme=dark] .colab-df-convert {\n",
              "      background-color: #3B4455;\n",
              "      fill: #D2E3FC;\n",
              "    }\n",
              "\n",
              "    [theme=dark] .colab-df-convert:hover {\n",
              "      background-color: #434B5C;\n",
              "      box-shadow: 0px 1px 3px 1px rgba(0, 0, 0, 0.15);\n",
              "      filter: drop-shadow(0px 1px 2px rgba(0, 0, 0, 0.3));\n",
              "      fill: #FFFFFF;\n",
              "    }\n",
              "  </style>\n",
              "\n",
              "      <script>\n",
              "        const buttonEl =\n",
              "          document.querySelector('#df-7ef8e61b-7de4-45c1-a2cc-710e03558f70 button.colab-df-convert');\n",
              "        buttonEl.style.display =\n",
              "          google.colab.kernel.accessAllowed ? 'block' : 'none';\n",
              "\n",
              "        async function convertToInteractive(key) {\n",
              "          const element = document.querySelector('#df-7ef8e61b-7de4-45c1-a2cc-710e03558f70');\n",
              "          const dataTable =\n",
              "            await google.colab.kernel.invokeFunction('convertToInteractive',\n",
              "                                                     [key], {});\n",
              "          if (!dataTable) return;\n",
              "\n",
              "          const docLinkHtml = 'Like what you see? Visit the ' +\n",
              "            '<a target=\"_blank\" href=https://colab.research.google.com/notebooks/data_table.ipynb>data table notebook</a>'\n",
              "            + ' to learn more about interactive tables.';\n",
              "          element.innerHTML = '';\n",
              "          dataTable['output_type'] = 'display_data';\n",
              "          await google.colab.output.renderOutput(dataTable, element);\n",
              "          const docLink = document.createElement('div');\n",
              "          docLink.innerHTML = docLinkHtml;\n",
              "          element.appendChild(docLink);\n",
              "        }\n",
              "      </script>\n",
              "    </div>\n",
              "  </div>\n",
              "  "
            ],
            "text/plain": [
              "                                               sentence                 toxic  \\\n",
              "1990                  there ya go stupidity to the max              stupidity   \n",
              "1991  sanders has balls unlike treyson goowdythe gow...                         \n",
              "1992  its really hard to say this since there are so...                         \n",
              "1993  saying the strategy will work quickly is epito...             stupidity   \n",
              "1994  trump bunnies you cant fix stupid fact proven ...                stupid   \n",
              "1995  hey loser change your name to something more a...  loser,ignorant,loser   \n",
              "1996  and you are a complete moron who obviously doe...                 moron   \n",
              "1997  such vitriol from the left who would have thou...            hypocrites   \n",
              "1998  it is now time for most of you to expand your ...                         \n",
              "1999  why does this author think she can demand or i...                  dumb   \n",
              "\n",
              "                   predicted  \\\n",
              "1990               stupidity   \n",
              "1991     nothingwhat,a,loser   \n",
              "1992                           \n",
              "1993               stupidity   \n",
              "1994                  stupid   \n",
              "1995          loser,ignorant   \n",
              "1996        moron,narcissist   \n",
              "1997              hypocrites   \n",
              "1998  of,expand,pebble,minds   \n",
              "1999      goon,dumb,ignorant   \n",
              "\n",
              "                                             toxic_span  \\\n",
              "1990               [12, 13, 14, 15, 16, 17, 18, 19, 20]   \n",
              "1991                                                 []   \n",
              "1992                                                 []   \n",
              "1993               [52, 53, 54, 55, 56, 57, 58, 59, 60]   \n",
              "1994                           [27, 28, 29, 30, 31, 32]   \n",
              "1995  [4, 5, 6, 7, 8, 69, 70, 71, 72, 73, 74, 75, 76...   \n",
              "1996                               [23, 24, 25, 26, 27]   \n",
              "1997  [152, 153, 154, 155, 156, 157, 158, 159, 160, ...   \n",
              "1998                                                 []   \n",
              "1999                               [807, 808, 809, 810]   \n",
              "\n",
              "                                        pred_toxic_span  \n",
              "1990               [12, 13, 14, 15, 16, 17, 18, 19, 20]  \n",
              "1991  [73, 74, 75, 76, 77, 78, 79, 80, 81, 82, 83, 1...  \n",
              "1992                                                 []  \n",
              "1993               [52, 53, 54, 55, 56, 57, 58, 59, 60]  \n",
              "1994                           [27, 28, 29, 30, 31, 32]  \n",
              "1995    [4, 5, 6, 7, 8, 69, 70, 71, 72, 73, 74, 75, 76]  \n",
              "1996  [23, 24, 25, 26, 27, 79, 80, 81, 82, 83, 84, 8...  \n",
              "1997  [152, 153, 154, 155, 156, 157, 158, 159, 160, ...  \n",
              "1998  [24, 25, 34, 35, 36, 37, 38, 39, 46, 47, 48, 4...  \n",
              "1999  [107, 108, 109, 110, 807, 808, 809, 810, 622, ...  "
            ]
          },
          "execution_count": 71,
          "metadata": {},
          "output_type": "execute_result"
        }
      ],
      "source": [
        "df.tail(10)"
      ]
    },
    {
      "cell_type": "code",
      "execution_count": 72,
      "metadata": {
        "colab": {
          "base_uri": "https://localhost:8080/"
        },
        "id": "lPeY9Fa5Twz2",
        "outputId": "50a11b1b-2506-4154-a628-db8661032c2d"
      },
      "outputs": [
        {
          "name": "stdout",
          "output_type": "stream",
          "text": [
            "48.6\n"
          ]
        }
      ],
      "source": [
        "#Accuracy matching check\n",
        "c=0\n",
        "for i in range (len(toxic_list)):\n",
        "  if(toxic_list[i]==pred_list[i]):\n",
        "    c+=1\n",
        "\n",
        "acc= c/len(toxic_list) *100\n",
        "print(acc)\n"
      ]
    }
  ],
  "metadata": {
    "accelerator": "GPU",
    "colab": {
      "provenance": []
    },
    "gpuClass": "standard",
    "kernelspec": {
      "display_name": "Python 3",
      "language": "python",
      "name": "python3"
    },
    "language_info": {
      "codemirror_mode": {
        "name": "ipython",
        "version": 3
      },
      "file_extension": ".py",
      "mimetype": "text/x-python",
      "name": "python",
      "nbconvert_exporter": "python",
      "pygments_lexer": "ipython3",
      "version": "3.9.5 (default, May 18 2021, 14:42:02) [MSC v.1916 64 bit (AMD64)]"
    },
    "vscode": {
      "interpreter": {
        "hash": "88279d2366fe020547cde40dd65aa0e3aa662a6ec1f3ca12d88834876c85e1a6"
      }
    }
  },
  "nbformat": 4,
  "nbformat_minor": 0
}
